{
 "cells": [
  {
   "cell_type": "markdown",
   "metadata": {},
   "source": [
    "# Platform Positioning"
   ]
  },
  {
   "cell_type": "code",
   "execution_count": 1,
   "metadata": {},
   "outputs": [],
   "source": [
    "from __future__ import print_function"
   ]
  },
  {
   "cell_type": "code",
   "execution_count": 41,
   "metadata": {},
   "outputs": [],
   "source": [
    "import random as random #For random initial platform position\n",
    "import numpy as np\n",
    "import pandas as pd\n",
    "\n",
    "import geopandas as gpd\n",
    "from shapely.geometry.polygon import Polygon\n",
    "from shapely.geometry import Point, LineString \n",
    "import shapely\n",
    "from geopy import distance # For calculating distance between two points \n",
    "\n",
    "\n",
    "import pickle  as pkl # For importing pickled objects\n",
    "\n",
    "from ipywidgets import interact, interactive, fixed, interact_manual\n",
    "import ipywidgets as widgets\n",
    "\n",
    "from math import tan, isclose, pi #F or calculating point on circumference - step out radius"
   ]
  },
  {
   "cell_type": "code",
   "execution_count": 42,
   "metadata": {},
   "outputs": [
    {
     "data": {
      "text/plain": [
       "'/Users/Pri.balachandran@ibm.com/Desktop/BP/20191106_PlatformWCAnalysis'"
      ]
     },
     "execution_count": 42,
     "metadata": {},
     "output_type": "execute_result"
    }
   ],
   "source": [
    "import os\n",
    "os.getcwd()"
   ]
  },
  {
   "cell_type": "markdown",
   "metadata": {},
   "source": [
    "# Data Ingestion & Cleaning\n",
    "Since Well Concept data is created based on the cleaned Target data, the notebook has been structured with Targets, then Well Concepts\n",
    "\n",
    "##  Target Geometry Data\n",
    "This has been queried and pickled. The column names refer to the SQL function performed on geometry.\n",
    "e.g. geom.AsTextZM() AS geom_text_zm"
   ]
  },
  {
   "cell_type": "markdown",
   "metadata": {},
   "source": [
    "## Well Concept Data\n",
    "As no suitable test data exists, dummy data is generated. There is a separate dummdatacreator.py file containing this work.\n",
    "\n",
    "Rather than have Well Concepts randomly placed anywhere, we restrict it to only be within Target Polygon space"
   ]
  },
  {
   "cell_type": "code",
   "execution_count": 17,
   "metadata": {},
   "outputs": [],
   "source": [
    "l = []\n",
    "\n"
   ]
  },
  {
   "cell_type": "code",
   "execution_count": 18,
   "metadata": {},
   "outputs": [],
   "source": [
    "from dummydatacreator import  GenerateWellConcept # This is not supported in Azure notebooks"
   ]
  },
  {
   "cell_type": "code",
   "execution_count": 21,
   "metadata": {
    "scrolled": true
   },
   "outputs": [],
   "source": []
  },
  {
   "cell_type": "code",
   "execution_count": 22,
   "metadata": {},
   "outputs": [
    {
     "name": "stdout",
     "output_type": "stream",
     "text": [
      "Well Concepts Generated:\n",
      " Name: V-0, Points: [-60.343110061108035, 10.1188300528309], Resource: 1.9776760230385684\n",
      "Name: G-1, Points: [-60.365687872984445, 10.050755818758784], Resource: 8.754875342665866\n",
      "Name: Eb-2, Points: [-60.30885129003035, 10.115099173085023], Resource: 96.33729714258996\n",
      "Name: K-22, Points: [-60.303576064229276, 10.104840324652479], Resource: 17.87937471189474\n",
      "Name: C-22, Points: [-60.30746941615207, 10.118283159060304], Resource: 114.76743900494468\n"
     ]
    }
   ],
   "source": [
    "WC_name, WC_points, WC_resource = UpdateWellConceptData(gdf_targPoly)\n",
    "\n",
    "print(\"Well Concepts Generated:\\n\",'\\n'.join('Name: {}, Points: {}, Resource: {}'.format(WC_name[k], WC_points[k], WC_resource[k]) for k in range(5)))"
   ]
  },
  {
   "cell_type": "code",
   "execution_count": null,
   "metadata": {},
   "outputs": [],
   "source": [
    "\n"
   ]
  },
  {
   "cell_type": "markdown",
   "metadata": {
    "scrolled": true
   },
   "source": [
    "# Mapping\n",
    "In order to construct the map containing Targets, Well Concepts, Platforms, some functions are required:\n",
    "\n",
    "\n",
    "### Platform Step-Out Radius Functions\n",
    "As there is no method for deriving the circumference around a point in EPSG:4326, functions are required to calculate this.\n",
    "- A function to find a single point on the circumference (within a given tolerance)\n",
    "- A function to find multiple points all around the circumference, sufficient for plotting the circle"
   ]
  },
  {
   "cell_type": "code",
   "execution_count": 40,
   "metadata": {
    "scrolled": true
   },
   "outputs": [],
   "source": [
    "def GetXYatCircumference(centre, desired_radius, theta, tolerance = 0.00001):\n",
    "    '''Calculates the X,Y coordinates of a point on the circumference of a circle, \n",
    "    with a given desired radius and angle to the vertical.\n",
    "    \n",
    "    Theta in radians\n",
    "    '''\n",
    "    \n",
    "    #Initialise x,y coordinates\n",
    "    x = centre[0]\n",
    "    y = centre[1]\n",
    "\n",
    "    \n",
    "    #Set initial increment values\n",
    "        #If we are working in the lower two quadrants, i.e. where y will be less than centre y\n",
    "    if theta > pi/2 and theta < (3*pi)/2:\n",
    "        y_increment=-0.01\n",
    "    else:\n",
    "        y_increment=0.01\n",
    "\n",
    "        \n",
    "    #Loop until the radius of the point and centre, is close to the desired radius\n",
    "    while isclose(distance.distance(centre, [x,y]).kilometers,  desired_radius ,rel_tol=0.00001) == False:\n",
    "\n",
    "        # Add the increment whilst the distance is less than desired\n",
    "        while distance.distance(centre, [x,y]) < desired_radius:\n",
    "            x_increment = y_increment * tan(theta)\n",
    "            x += x_increment\n",
    "            y += y_increment\n",
    "\n",
    "        # Subtract the increment whilst the distance is more than desired\n",
    "        while distance.distance(centre, [x,y]) > desired_radius:\n",
    "            x_increment = y_increment * tan(theta)\n",
    "            x -= x_increment\n",
    "            y -= y_increment\n",
    "\n",
    "        #Reduce the size of the increment to increase precision  \n",
    "        y_increment = y_increment/4\n",
    "\n",
    "    return [x,y]"
   ]
  },
  {
   "cell_type": "code",
   "execution_count": 41,
   "metadata": {},
   "outputs": [
    {
     "data": {
      "text/plain": [
       "([0.0, 0.015637707705740515, -0.015637707705740488, 0.0],\n",
       " [0.01796615600585938,\n",
       "  -0.009028434753417969,\n",
       "  -0.009028434753417969,\n",
       "  0.01796615600585938])"
      ]
     },
     "execution_count": 41,
     "metadata": {},
     "output_type": "execute_result"
    }
   ],
   "source": [
    "def GetCircumferenceXY(centre, radius, n_points, tolerance = 0.00001):\n",
    "    '''Calculates x,y coordinates of a specified number points on the circumference of a \n",
    "    circle with a specified centre    \n",
    "    \n",
    "    NB: n_points must odd, to ensure we do not get a trig erro\n",
    "    '''\n",
    "    assert n_points % 2 != 0, \"n_points must not be an even number - gives a trig error\"\n",
    "\n",
    "    # The angle between each radius        \n",
    "    theta_increment = (2*pi)/n_points\n",
    "\n",
    "    # The angles of all the radii we will use\n",
    "    thetas = [theta_increment * i for i in range(n_points)]\n",
    "    \n",
    "    # Get a list of all calculated XYs on the circumference\n",
    "    xys = [GetXYatCircumference(centre, radius,theta_i,tolerance) for theta_i in  thetas]\n",
    "    \n",
    "    # Create a full 'loop' so the first and last points are the same - Polygon\n",
    "    xys.append(xys[0])\n",
    "    \n",
    "    \n",
    "    xs = [xy[0] for xy in xys]\n",
    "    ys = [xy[1] for xy in xys]\n",
    "    \n",
    "    return xs, ys\n",
    "\n",
    "GetCircumferenceXY([0,0], 2, 3)"
   ]
  },
  {
   "cell_type": "markdown",
   "metadata": {},
   "source": [
    "### Well Concept Relative Position\n",
    "i.e. Are Well Concepts within specified radii around a point?"
   ]
  },
  {
   "cell_type": "code",
   "execution_count": 42,
   "metadata": {},
   "outputs": [],
   "source": [
    "def CalculateRankOfWCs(WC, plat, radii):\n",
    "    '''Well Concepts are ranked according to binned distance from platform. i.e. \n",
    "    Given input radii [0,2,5], the function will return a list of rankings where:\n",
    "    0 indicates Well Concept is more than 5 km from platform\n",
    "    1 indictates Well Concept is between 2 and 5 km from platform... etc\n",
    "    '''\n",
    "    #Radii must be ordered, i.e. [0,2,5]\n",
    "    radii = np.sort(radii)\n",
    "    \n",
    "    num_radii = len(radii)\n",
    "\n",
    "    #calculate distances of all well concepts from platform \n",
    "    distances = [distance.distance(wc_i, plat) for wc_i in WC] #Karney 2013 distance\n",
    "    \n",
    "    distances = np.reshape(distances,[-1])\n",
    "\n",
    "    \n",
    "    #Reverse ranking - where 0 is closest to platform\n",
    "    revranks = np.digitize(distances, radii, right = False) #i.e. includes left bound = 0\n",
    "\n",
    "    # Ranking - where 0 is furthest from platform\n",
    "    ranking = [num_radii - revrank for revrank in revranks]\n",
    "    \n",
    "    return ranking"
   ]
  },
  {
   "cell_type": "code",
   "execution_count": 43,
   "metadata": {},
   "outputs": [],
   "source": [
    "dct_colors = {0: \"#808080\",\n",
    "          1:\"#FF8000\",\n",
    "          2:\"#00CC00\"}"
   ]
  },
  {
   "cell_type": "code",
   "execution_count": 44,
   "metadata": {},
   "outputs": [],
   "source": [
    "def GetWCColors(WC_Points, plat_x, plat_y,radii):\n",
    "    '''\n",
    "    Given the rank of Well Concepts, this derives the appropriate color for them\n",
    "    '''\n",
    "    #Subset the WCs to only those which are on the creaming curve\n",
    "    WC_rank = CalculateRankOfWCs([(a[0], a[1]) for a in WC_points],(plat_x,plat_y),radii)\n",
    "\n",
    "    #Construct dataframe of all well concepts\n",
    "    df_WC = pd.DataFrame({\"Well Concept\": WC_name,\"Resource\": WC_resource, \"Rank\":WC_rank})\n",
    "    \n",
    "    return df_WC['Rank'].map(lambda x: dct_colors[x])    "
   ]
  },
  {
   "cell_type": "markdown",
   "metadata": {},
   "source": [
    "## Map Construction"
   ]
  },
  {
   "cell_type": "markdown",
   "metadata": {},
   "source": [
    "https://towardsdatascience.com/walkthrough-mapping-basics-with-bokeh-and-geopandas-in-python-43f40aa5b7e9"
   ]
  },
  {
   "cell_type": "code",
   "execution_count": 66,
   "metadata": {},
   "outputs": [],
   "source": [
    "lon_min = -60.64\n",
    "lon_max = -60.1\n",
    "lat_min = 9.85\n",
    "lat_max = 10.5\n",
    "n_concepts = 100\n",
    "\n",
    "WC_name, WC_points, WC_resource = UpdateWellConceptData(n_concepts, lon_min, lon_max, lat_min, lat_max)\n",
    "\n",
    "#Defaults\n",
    "radiusinner=1\n",
    "radiusouter=1.1\n",
    "\n",
    "\n",
    "platlon = [-60.32]\n",
    "platlat = [10.07]\n",
    "\n",
    "#Any calculations based on the above defaults\n",
    "WC_colors = GetWCColors(WC_points,platlon[0], platlat[0], [0,radiusinner,radiusouter])\n",
    "\n",
    "inner_circx, inner_circy = GetCircumferenceXY([platlon[0], platlat[0]],radiusinner , 401)\n",
    "outer_circx, outer_circy = GetCircumferenceXY([platlon[0], platlat[0]],radiusouter , 401)\n",
    "\n",
    "\n"
   ]
  },
  {
   "cell_type": "code",
   "execution_count": 67,
   "metadata": {},
   "outputs": [],
   "source": [
    "import json\n",
    "from bokeh.models.widgets import Slider\n",
    "\n",
    "from bokeh.io import output_file, show, save\n",
    "\n",
    "from bokeh.models import (CDSView, ColorBar, ColumnDataSource,\n",
    "                          CustomJS, CustomJSFilter, \n",
    "                          GeoJSONDataSource, HoverTool, LabelSet,\n",
    "                          LinearColorMapper, Slider)\n",
    "from bokeh.layouts import column, row, widgetbox\n",
    "from bokeh.palettes import brewer\n",
    "from bokeh.plotting import figure\n",
    "# Input GeoJSON source that contains features for plotting\n",
    "from bokeh.models.markers import SquareCross\n",
    "\n",
    "\n",
    "from bokeh.layouts import column, row, WidgetBox\n",
    "from bokeh.models import Panel\n",
    "from bokeh.models.widgets import Tabs"
   ]
  },
  {
   "cell_type": "code",
   "execution_count": 68,
   "metadata": {},
   "outputs": [],
   "source": [
    "# Create figure object.\n",
    "p = figure(title = 'Polygons', \n",
    "           plot_height = 600 ,\n",
    "           plot_width = 950, \n",
    "           toolbar_location = 'below',\n",
    "           tools = \"pan, wheel_zoom, box_zoom, reset\",\n",
    "            x_range=(lon_min, lon_max),\n",
    "            y_range=(lat_min, lat_max),          \n",
    "          )\n",
    "p.xgrid.grid_line_color = None\n",
    "p.ygrid.grid_line_color = None\n",
    "\n",
    "\n",
    "\n",
    "# TARGET LAYER #\n",
    "# Data Source\n",
    "ds_targ = GeoJSONDataSource(geojson = gdf_targPoly[['target_id', 'target_name', 'polygon']].to_json())\n",
    "\n",
    "# Bokeh Layer\n",
    "p_targ = p.patches('xs','ys', source = ds_targ,\n",
    "                   fill_color = \"lightskyblue\",\n",
    "                   line_color = \"blue\", \n",
    "                   line_width = 0.1, \n",
    "                   fill_alpha = 0.2)\n",
    "\n",
    "\n",
    "#PLATFORM LAYER #\n",
    "# Data Source \n",
    "ds_plat = ColumnDataSource({'x':platlon, 'y':platlat, 'name':[\"Platform\"]})\n",
    "# Bokeh Layer\n",
    "p_plat = p.circle(\"x\", \"y\", size=10, source=ds_plat,\n",
    "         line_color=\"black\", fill_alpha=0.8)\n",
    "# Label layer\n",
    "labels = LabelSet(x=\"x\", y=\"y\", text=\"name\", y_offset=8,\n",
    "                  text_font_size=\"8pt\", text_color=\"#555555\",\n",
    "                  source=ds_plat, text_align='center')\n",
    "p.add_layout(labels)\n",
    "\n",
    "\n",
    "\n",
    "\n",
    "\n",
    "#PLATFORM INNER STEP-OUT INNER #\n",
    "#Data Source\n",
    "source_step_inner = ColumnDataSource({'x':inner_circx, 'y':inner_circy})\n",
    "#Bokeh layer\n",
    "p_step_inner = p.patch('x','y', source = source_step_inner,\n",
    "                   fill_color = None,\n",
    "                   line_color = \"#00CC00\", \n",
    "                   line_width = 1, \n",
    "                   fill_alpha = 1)\n",
    "\n",
    "#PLATFORM STEP-OUT OUTER #\n",
    "source_step_outer = ColumnDataSource({'x':outer_circx, 'y':outer_circy})\n",
    "\n",
    "p_step_outer = p.patch('x','y', source = source_step_outer,\n",
    "                   fill_color = None,\n",
    "                   line_color = \"#FF8000\", \n",
    "                   line_width = 1, \n",
    "                   fill_alpha = 1)\n",
    "\n",
    "\n",
    "\n",
    "\n",
    "\n",
    "# WELL CONCEPTS\n",
    "wcx = [a[0] for a in WC_points]\n",
    "wcy = [a[1] for a in WC_points]\n",
    "source_wc = ColumnDataSource({'x':wcx, 'y':wcy, 'name':WC_name, 'resource':WC_resource, 'hex': WC_colors})\n",
    "\n",
    "p_wc = p.circle(\"x\", \"y\", size=10, source=source_wc,\n",
    "         color='hex', line_color=\"black\", fill_alpha=0.8)\n",
    "\n",
    "labels = LabelSet(x=\"x\", y=\"y\", text=\"name\", y_offset=8,\n",
    "                  text_font_size=\"8pt\", text_color=\"#555555\",\n",
    "                  source=source_wc, text_align='center')\n",
    "p.add_layout(labels)\n",
    "\n",
    "\n",
    "\n",
    "\n",
    "\n",
    "\n",
    "\n",
    "# Create hover tool\n",
    "p.add_tools(HoverTool(renderers = [p_wc],\n",
    "                      tooltips = [('Well Concept','@name'),\n",
    "                                ('Resource','@resource')]))\n",
    "\n",
    "#output_file(\"p.html\")\n"
   ]
  },
  {
   "cell_type": "code",
   "execution_count": 69,
   "metadata": {},
   "outputs": [],
   "source": [
    "#Subset the WCs to only those which are on the creaming curve\n",
    "WC_rank = CalculateRankOfWCs([(a[0], a[1]) for a in WC_points],(platlon[0],platlat[0]),[0,radiusinner, radiusouter])\n",
    "\n",
    "#Construct dataframe of all well concepts\n",
    "df_WC = pd.DataFrame({\"Well Concept\": WC_name,\"Resource\": WC_resource, \"Rank\":WC_rank})\n",
    "\n",
    "#Reduce to df of well concepts on Creaming Curve (i.e. within the radii)\n",
    "df_WC_cc = df_WC[df_WC['Rank'] != 0].copy()\n",
    "\n",
    "#Map ranks to colors\n",
    "df_WC_cc.loc[:,'Color'] = df_WC_cc['Rank'].map(lambda x: dct_colors[x])\n",
    "\n",
    "df_WC_cc.sort_values(by=\"Resource\", inplace=True, ascending=False)\n",
    "\n",
    "b = figure(x_range=df_WC_cc['Well Concept'], plot_height=250, title=\"Creaming Curve\")\n",
    "b.vbar(x=df_WC_cc['Well Concept'], top=df_WC_cc['Resource'], color=df_WC_cc['Color'], width=0.9)\n",
    "\n",
    "b.xgrid.grid_line_color = None\n",
    "b.y_range.start = 0\n",
    "\n",
    "\n",
    "\n",
    "\n",
    "\n"
   ]
  },
  {
   "cell_type": "code",
   "execution_count": null,
   "metadata": {},
   "outputs": [],
   "source": []
  },
  {
   "cell_type": "code",
   "execution_count": null,
   "metadata": {},
   "outputs": [],
   "source": []
  },
  {
   "cell_type": "code",
   "execution_count": 70,
   "metadata": {},
   "outputs": [
    {
     "data": {
      "text/plain": [
       "'/Users/Pri.balachandran@ibm.com/Desktop/BP/20191106_PlatformWCAnalysis/p.html'"
      ]
     },
     "execution_count": 70,
     "metadata": {},
     "output_type": "execute_result"
    }
   ],
   "source": [
    "\n",
    "output_file(\"p.html\")\n",
    "\n",
    "# Create a row, with control panel and plot\n",
    "layout = row(p,b)\n",
    "\n",
    "\n",
    "# Make a tab with the layout \n",
    "tab = Panel(child=layout, title = 'Geospatial PoC')\n",
    "tabs = Tabs(tabs=[tab])\n",
    "\n",
    "\n",
    "\n",
    "\n",
    "\n",
    "save(tabs)"
   ]
  },
  {
   "cell_type": "code",
   "execution_count": null,
   "metadata": {},
   "outputs": [],
   "source": []
  },
  {
   "cell_type": "code",
   "execution_count": 50,
   "metadata": {},
   "outputs": [
    {
     "data": {
      "text/plain": [
       "['/Users/Pri.balachandran@ibm.com/opt/anaconda3/envs/py36-geographicplotting/lib/python36.zip',\n",
       " '/Users/Pri.balachandran@ibm.com/opt/anaconda3/envs/py36-geographicplotting/lib/python3.6',\n",
       " '/Users/Pri.balachandran@ibm.com/opt/anaconda3/envs/py36-geographicplotting/lib/python3.6/lib-dynload',\n",
       " '',\n",
       " '/Users/Pri.balachandran@ibm.com/opt/anaconda3/envs/py36-geographicplotting/lib/python3.6/site-packages',\n",
       " '/Users/Pri.balachandran@ibm.com/opt/anaconda3/envs/py36-geographicplotting/lib/python3.6/site-packages/IPython/extensions',\n",
       " '/Users/Pri.balachandran@ibm.com/.ipython']"
      ]
     },
     "execution_count": 50,
     "metadata": {},
     "output_type": "execute_result"
    }
   ],
   "source": [
    "import sys\n",
    "sys.path"
   ]
  },
  {
   "cell_type": "code",
   "execution_count": null,
   "metadata": {},
   "outputs": [],
   "source": []
  }
 ],
 "metadata": {
  "kernelspec": {
   "display_name": "Python 3 geo plot kern",
   "language": "python",
   "name": "py36-geographicplotting"
  },
  "language_info": {
   "codemirror_mode": {
    "name": "ipython",
    "version": 3
   },
   "file_extension": ".py",
   "mimetype": "text/x-python",
   "name": "python",
   "nbconvert_exporter": "python",
   "pygments_lexer": "ipython3",
   "version": "3.6.9"
  }
 },
 "nbformat": 4,
 "nbformat_minor": 2
}
