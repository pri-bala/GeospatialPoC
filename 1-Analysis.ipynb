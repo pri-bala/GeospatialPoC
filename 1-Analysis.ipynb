{
 "cells": [
  {
   "cell_type": "markdown",
   "metadata": {},
   "source": [
    "# Platform Positioning"
   ]
  },
  {
   "cell_type": "code",
   "execution_count": 1,
   "metadata": {},
   "outputs": [],
   "source": [
    "from __future__ import print_function"
   ]
  },
  {
   "cell_type": "code",
   "execution_count": 2,
   "metadata": {},
   "outputs": [],
   "source": [
    "import random as random #For random initial platform position\n",
    "import numpy as np\n",
    "import pandas as pd\n",
    "\n",
    "import geopandas as gpd\n",
    "from shapely.geometry.polygon import Polygon\n",
    "from shapely.geometry import Point, LineString \n",
    "import shapely\n",
    "from geopy import distance # For calculating distance between two points \n",
    "\n",
    "\n",
    "import pickle  as pkl # For importing pickled objects\n",
    "\n",
    "from ipywidgets import interact, interactive, fixed, interact_manual\n",
    "import ipywidgets as widgets\n",
    "\n",
    "from math import tan, isclose, pi #F or calculating point on circumference - step out radius"
   ]
  },
  {
   "cell_type": "markdown",
   "metadata": {},
   "source": [
    "# Ingest Processed Data\n",
    "### Target Polygons\n",
    "These were processed in the preceeding notebook and stored in '1_processed'"
   ]
  },
  {
   "cell_type": "code",
   "execution_count": 3,
   "metadata": {},
   "outputs": [
    {
     "data": {
      "text/plain": [
       "<matplotlib.axes._subplots.AxesSubplot at 0x11a6e67f0>"
      ]
     },
     "execution_count": 3,
     "metadata": {},
     "output_type": "execute_result"
    }
   ],
   "source": [
    "with open('data/1_processed/target_polygon_gdf.pkl', 'rb') as f:\n",
    "    gdf_targPoly = pkl.load(f)\n",
    "    \n",
    "gdf_targPoly.plot()"
   ]
  },
  {
   "cell_type": "markdown",
   "metadata": {},
   "source": [
    "### Well Concepts\n",
    "As no suitable test data exists, dummy data is generated. There is a separate dummdatacreator.py file containing this work.\n",
    "\n",
    "Rather than have Well Concepts randomly placed anywhere, we restrict it to only be within Target Polygon space"
   ]
  },
  {
   "cell_type": "code",
   "execution_count": 4,
   "metadata": {
    "scrolled": true
   },
   "outputs": [],
   "source": [
    "from dummydatacreator import  GenerateMultipleWellConceptsTEST as GenerateWCs # This is not supported in Azure notebooks"
   ]
  },
  {
   "cell_type": "code",
   "execution_count": 5,
   "metadata": {},
   "outputs": [
    {
     "name": "stdout",
     "output_type": "stream",
     "text": [
      "Well Concepts Generated:\n",
      " Name: C-296, Points: [-60.36349177635691, 10.048277308519275], Resource: 30.205184487599546\n",
      "Name: Td-282, Points: [-60.31943385897276, 10.092420977450292], Resource: 31.212501337507803\n",
      "Name: Z-384, Points: [-60.310296248575035, 10.089832362345108], Resource: 3.5278640046138934\n",
      "Name: Ac-726, Points: [-60.3178199286206, 10.093650573602595], Resource: 12.008848146446256\n",
      "Name: D-196, Points: [-60.31179207134214, 10.122276978013776], Resource: 1.9487037526992461\n"
     ]
    }
   ],
   "source": [
    "WC_name, WC_points, WC_resource = GenerateWCs(gdf_targPoly)\n",
    "\n",
    "print(\"Well Concepts Generated:\\n\",'\\n'.join('Name: {}, Points: {}, Resource: {}'.format(WC_name[k], WC_points[k], WC_resource[k]) for k in range(5)))"
   ]
  },
  {
   "cell_type": "markdown",
   "metadata": {
    "scrolled": true
   },
   "source": [
    "# Mapping\n",
    "In order to construct the map containing Targets, Well Concepts, Platforms, some functions are required:\n",
    "\n",
    "\n",
    "### Platform Step-Out Radius Functions\n",
    "As there is no method for deriving the circumference around a point in EPSG:4326, functions are required to calculate this.\n",
    "- A function to find a single point on the circumference (within a given tolerance)\n",
    "- A function to find multiple points all around the circumference, sufficient for plotting the circle"
   ]
  },
  {
   "cell_type": "code",
   "execution_count": 6,
   "metadata": {
    "scrolled": true
   },
   "outputs": [],
   "source": [
    "def GetXYatCircumference(centre, desired_radius, theta, tolerance = 0.00001):\n",
    "    '''Calculates the X,Y coordinates of a point on the circumference of a circle, \n",
    "    with a given desired radius and angle to the vertical.\n",
    "    \n",
    "    Theta in radians\n",
    "    '''\n",
    "    \n",
    "    #Initialise x,y coordinates\n",
    "    x = centre[0]\n",
    "    y = centre[1]\n",
    "\n",
    "    \n",
    "    #Set initial increment values\n",
    "        #If we are working in the lower two quadrants, i.e. where y will be less than centre y\n",
    "    if theta > pi/2 and theta < (3*pi)/2:\n",
    "        y_increment=-0.01\n",
    "    else:\n",
    "        y_increment=0.01\n",
    "\n",
    "        \n",
    "    #Loop until the radius of the point and centre, is close to the desired radius\n",
    "    while isclose(distance.distance(centre, [x,y]).kilometers,  desired_radius ,rel_tol=0.00001) == False:\n",
    "\n",
    "        # Add the increment whilst the distance is less than desired\n",
    "        while distance.distance(centre, [x,y]) < desired_radius:\n",
    "            x_increment = y_increment * tan(theta)\n",
    "            x += x_increment\n",
    "            y += y_increment\n",
    "\n",
    "        # Subtract the increment whilst the distance is more than desired\n",
    "        while distance.distance(centre, [x,y]) > desired_radius:\n",
    "            x_increment = y_increment * tan(theta)\n",
    "            x -= x_increment\n",
    "            y -= y_increment\n",
    "\n",
    "        #Reduce the size of the increment to increase precision  \n",
    "        y_increment = y_increment/4\n",
    "\n",
    "    return [x,y]"
   ]
  },
  {
   "cell_type": "code",
   "execution_count": 7,
   "metadata": {},
   "outputs": [
    {
     "data": {
      "text/plain": [
       "([0.0, 0.015637707705740515, -0.015637707705740488, 0.0],\n",
       " [0.01796615600585938,\n",
       "  -0.009028434753417969,\n",
       "  -0.009028434753417969,\n",
       "  0.01796615600585938])"
      ]
     },
     "execution_count": 7,
     "metadata": {},
     "output_type": "execute_result"
    }
   ],
   "source": [
    "def GetCircumferenceXY(centre, radius, n_points, tolerance = 0.00001):\n",
    "    '''Calculates x,y coordinates of a specified number points on the circumference of a \n",
    "    circle with a specified centre    \n",
    "    \n",
    "    NB: n_points must odd, to ensure we do not get a trig erro\n",
    "    '''\n",
    "    assert n_points % 2 != 0, \"n_points must not be an even number - gives a trig error\"\n",
    "\n",
    "    # The angle between each radius        \n",
    "    theta_increment = (2*pi)/n_points\n",
    "\n",
    "    # The angles of all the radii we will use\n",
    "    thetas = [theta_increment * i for i in range(n_points)]\n",
    "    \n",
    "    # Get a list of all calculated XYs on the circumference\n",
    "    xys = [GetXYatCircumference(centre, radius,theta_i,tolerance) for theta_i in  thetas]\n",
    "    \n",
    "    # Create a full 'loop' so the first and last points are the same - Polygon\n",
    "    xys.append(xys[0])\n",
    "    \n",
    "    \n",
    "    xs = [xy[0] for xy in xys]\n",
    "    ys = [xy[1] for xy in xys]\n",
    "    \n",
    "    return xs, ys\n",
    "\n",
    "GetCircumferenceXY([0,0], 2, 3)"
   ]
  },
  {
   "cell_type": "markdown",
   "metadata": {},
   "source": [
    "### Well Concept Relative Position\n",
    "i.e. Are Well Concepts within specified radii around a point?"
   ]
  },
  {
   "cell_type": "code",
   "execution_count": 8,
   "metadata": {},
   "outputs": [],
   "source": [
    "def BinByDistances(pointsToRank, centre, distBins):\n",
    "    '''Well Concepts are ranked according to binned distance from platform. i.e. \n",
    "    Given input distances [0,2,5], the function will return a list of rankings where:\n",
    "    0 indicates Well Concept is more than 5 km from platform\n",
    "    1 indictates Well Concept is between 2 and 5 km from platform... etc\n",
    "    '''\n",
    "    #Radii must be ordered, i.e. [0,2,5]\n",
    "    distBins = np.sort(distBins)\n",
    "    \n",
    "    num_bins = len(distBins)\n",
    "\n",
    "    #calculate distances of all well concepts from platform \n",
    "    distances = [distance.distance(point_i, centre) for point_i in pointsToRank] #Karney 2013 distance\n",
    "    \n",
    "    distances = np.reshape(distances,[-1])\n",
    "\n",
    "    \n",
    "    #Reverse ranking - where 0 is closest to platform\n",
    "    revranks = np.digitize(distances, distBins, right = False) #i.e. includes left bound = 0\n",
    "\n",
    "    # Ranking - where 0 is furthest from platform\n",
    "    ranking = [num_bins - revrank for revrank in revranks]\n",
    "    \n",
    "    return ranking"
   ]
  },
  {
   "cell_type": "code",
   "execution_count": null,
   "metadata": {},
   "outputs": [],
   "source": []
  },
  {
   "cell_type": "code",
   "execution_count": 9,
   "metadata": {},
   "outputs": [],
   "source": [
    "dct_colors = {0: \"#808080\",\n",
    "          1:\"#FF8000\",\n",
    "          2:\"#00CC00\"}"
   ]
  },
  {
   "cell_type": "code",
   "execution_count": 10,
   "metadata": {},
   "outputs": [],
   "source": [
    "def GetWCRanks(wcpoints, plat_points,radii):\n",
    "    '''\n",
    "    Given the rank of Well Concepts, this derives the appropriate color for them\n",
    "    \n",
    "    If a WC has a rank of 3 (i.e. very close) with a platform, but a rank of 0 (i.e. far) from another platform, we \n",
    "    only care about the ranking of 3\n",
    "    '''\n",
    "    #Subset the WCs to only those which are on the creaming curve\n",
    "    #A list for each platform, in which each WC is given a rank/bin\n",
    "    WC_rank_by_platform = []\n",
    "    \n",
    "    for plat_point in plat_points:\n",
    "        WC_rank_by_platform.append(BinByDistances([(a[0], a[1]) for a in wcpoints],plat_point,radii) )\n",
    "\n",
    "    WC_best_rank = [max(WC_ranks)   for WC_ranks in zip(*WC_rank_by_platform)]\n",
    "    \n",
    "    \n",
    "    return WC_best_rank  "
   ]
  },
  {
   "cell_type": "markdown",
   "metadata": {},
   "source": [
    "## Map Construction"
   ]
  },
  {
   "cell_type": "markdown",
   "metadata": {},
   "source": [
    "https://towardsdatascience.com/walkthrough-mapping-basics-with-bokeh-and-geopandas-in-python-43f40aa5b7e9"
   ]
  },
  {
   "cell_type": "code",
   "execution_count": 19,
   "metadata": {},
   "outputs": [],
   "source": [
    "import json\n",
    "from bokeh.models.widgets import Slider\n",
    "\n",
    "from bokeh.io import output_file, show, save\n",
    "\n",
    "from bokeh.models import (CDSView, ColorBar, ColumnDataSource,\n",
    "                          CustomJS, CustomJSFilter, \n",
    "                          GeoJSONDataSource, HoverTool, LabelSet,\n",
    "                          LinearColorMapper, Slider)\n",
    "from bokeh.layouts import column, row, widgetbox\n",
    "from bokeh.palettes import brewer\n",
    "from bokeh.plotting import figure\n",
    "# Input GeoJSON source that contains features for plotting\n",
    "from bokeh.models.markers import SquareCross\n",
    "from bokeh.models.callbacks import CustomJS\n",
    "\n",
    "\n",
    "from bokeh.layouts import column, row, WidgetBox\n",
    "from bokeh.models import Panel\n",
    "from bokeh.models.widgets import Tabs"
   ]
  },
  {
   "cell_type": "code",
   "execution_count": 12,
   "metadata": {},
   "outputs": [],
   "source": [
    "lon_min = -60.64\n",
    "lon_max = -60.1\n",
    "lat_min = 9.85\n",
    "lat_max = 10.5\n",
    "n_concepts = 150\n",
    "\n",
    "WC_name, WC_points, WC_resource = GenerateWCs(gdf_targPoly, n_concepts, lon_min, lon_max, lat_min, lat_max)\n",
    "\n",
    "#Defaults\n",
    "radiusinner=1\n",
    "radiusouter=1.1\n",
    "\n",
    "\n",
    "\n",
    "\n",
    "\n",
    "#Any calculations based on the above defaults\n",
    "n_plat = 20\n",
    "_, plat_points, _ = GenerateWCs(gdf_targPoly, n_plat, lon_min, lon_max, lat_min, lat_max)\n",
    "plat_points = list(plat_points)\n",
    "plat_name = [\"Platform\" for i in range(len(plat_points))]\n",
    "\n",
    "\n",
    "_ = GetWCRanks(WC_points,plat_points, [0,radiusinner,radiusouter])\n",
    "WC_colors = [dct_colors[wcrank] for wcrank in _]  \n",
    "\n",
    "\n",
    "\n",
    "\n",
    "innerstepoutsx = []\n",
    "innerstepoutsy = []\n",
    "\n",
    "for plat_point in plat_points:\n",
    "    innerstepoutx, innerstepouty = GetCircumferenceXY(plat_point,radiusinner , 401)\n",
    "    innerstepoutsx.append(np.array(innerstepoutx[:-1]))\n",
    "    innerstepoutsy.append(np.array(innerstepouty[:-1]))\n",
    "\n",
    "outerstepoutsx = []\n",
    "outerstepoutsy = []\n",
    "\n",
    "for plat_point in plat_points:\n",
    "    outerstepoutx, outerstepouty = GetCircumferenceXY(plat_point,radiusouter , 401)\n",
    "    outerstepoutsx.append(np.array(outerstepoutx[:-1]))\n",
    "    outerstepoutsy.append(np.array(outerstepouty[:-1]))\n",
    "    \n"
   ]
  },
  {
   "cell_type": "code",
   "execution_count": 13,
   "metadata": {},
   "outputs": [
    {
     "data": {
      "text/plain": [
       "[[-60.5981771192637, 10.389360294798871],\n",
       " [-60.2046331466558, 10.065849674972547],\n",
       " [-60.422748918931305, 10.019408742458037],\n",
       " [-60.44363623547415, 9.890256728259692],\n",
       " [-60.14937512232509, 10.10708731326353],\n",
       " [-60.48142310713877, 9.884569274234826],\n",
       " [-60.52500293388781, 9.909059901838992],\n",
       " [-60.2616253547809, 10.064390723639207],\n",
       " [-60.30040158862338, 10.125185552723744],\n",
       " [-60.29251370313392, 10.10128489024894],\n",
       " [-60.506215718728704, 9.982453781864395],\n",
       " [-60.291811661840015, 10.122392924149457],\n",
       " [-60.41909015286366, 10.019856147119258],\n",
       " [-60.28989664726852, 10.117845230748365],\n",
       " [-60.49322266538776, 9.867179206750466],\n",
       " [-60.24204073019855, 10.102835492880912],\n",
       " [-60.31707860019149, 10.058492681889796],\n",
       " [-60.327935125394546, 10.068447456908292],\n",
       " [-60.46439855173611, 9.86067693273085],\n",
       " [-60.18877804017113, 10.08115273834424]]"
      ]
     },
     "execution_count": 13,
     "metadata": {},
     "output_type": "execute_result"
    }
   ],
   "source": [
    "plat_points"
   ]
  },
  {
   "cell_type": "markdown",
   "metadata": {},
   "source": [
    "### Bokeh Map"
   ]
  },
  {
   "cell_type": "code",
   "execution_count": 280,
   "metadata": {},
   "outputs": [],
   "source": [
    "\n",
    "\n",
    "# Create figure object.\n",
    "p = figure(title = 'Polygons', \n",
    "           plot_height = 600 ,\n",
    "           plot_width = 950, \n",
    "           toolbar_location = 'below',\n",
    "           tools = \"pan, wheel_zoom, box_zoom, reset\",\n",
    "           active_scroll = \"wheel_zoom\",\n",
    "            x_range=(lon_min, lon_max),\n",
    "            y_range=(lat_min, lat_max),          \n",
    "          )\n",
    "p.xgrid.grid_line_color = None\n",
    "p.ygrid.grid_line_color = None\n",
    "\n",
    "\n",
    "\n",
    "# TARGET LAYER #\n",
    "# Data Source\n",
    "ds_targ = GeoJSONDataSource(geojson = gdf_targPoly[['target_id', 'target_name', 'polygon']].to_json())\n",
    "\n",
    "# Bokeh Layer\n",
    "p_targ = p.patches('xs','ys', source = ds_targ,\n",
    "                   fill_color = \"lightskyblue\",\n",
    "                   line_color = \"blue\", \n",
    "                   line_width = 0.1, \n",
    "                   fill_alpha = 0.2)\n",
    "\n",
    "\n",
    "#PLATFORM LAYER #\n",
    "platx = [a[0] for a in plat_points]\n",
    "platy = [a[1] for a in plat_points]\n",
    "\n",
    "\n",
    "# Data Source \n",
    "ds_plat = ColumnDataSource({'x':platx, 'y':platy, 'name': plat_name})\n",
    "# Bokeh Layer\n",
    "p_plat = p.diamond_cross(\"x\", \"y\", size=20, source=ds_plat,\n",
    "         line_color=\"black\", fill_alpha=0.8)\n",
    "# Label layer\n",
    "labels = LabelSet(x=\"x\", y=\"y\", text=\"name\", y_offset=8,\n",
    "                  text_font_size=\"8pt\", text_color=\"#555555\",\n",
    "                  source=ds_plat, text_align='center')\n",
    "p.add_layout(labels)\n",
    "\n",
    "\n",
    "#PLATFORM INNER STEP-OUT INNER #\n",
    "#Data Source\n",
    "source_step_inner = ColumnDataSource({'x':innerstepoutsx, 'y':innerstepoutsy})\n",
    "\n",
    "#Bokeh layer\n",
    "p_step_inner = p.patches('x','y', source = source_step_inner,\n",
    "                   fill_color = None,\n",
    "                   line_color = \"#00CC00\", \n",
    "                   line_width = 2, \n",
    "                   fill_alpha = 1)\n",
    "\n",
    "#PLATFORM STEP-OUT OUTER #\n",
    "source_step_outer = ColumnDataSource({'x':outerstepoutsx, 'y':outerstepoutsy})\n",
    "\n",
    "p_step_outer = p.patches('x','y', source = source_step_outer,\n",
    "                   fill_color = None,\n",
    "                   line_color = \"#FF8000\", \n",
    "                   line_width = 1, \n",
    "                   fill_alpha = 0.1)\n",
    "\n",
    "# WELL CONCEPTS\n",
    "wcx = [a[0] for a in WC_points]\n",
    "wcy = [a[1] for a in WC_points]\n",
    "ds_wc = ColumnDataSource({'x':wcx, 'y':wcy, 'name':WC_name, 'resource':WC_resource, 'hex': WC_colors})\n",
    "\n",
    "p_wc = p.circle(\"x\", \"y\", size=5, source=ds_wc,\n",
    "         color='hex', line_color=\"black\", fill_alpha=0.8)\n",
    "\n",
    "labels = LabelSet(x=\"x\", y=\"y\", text=\"name\", y_offset=8,\n",
    "                  text_font_size=\"8pt\", text_color=\"#555555\",\n",
    "                  source=ds_wc, text_align='center')\n",
    "p.add_layout(labels)\n",
    "\n",
    "# Create hover tool\n",
    "p.add_tools(HoverTool(renderers = [p_wc],\n",
    "                      tooltips = [('Well Concept','@name'),\n",
    "                                ('Resource','@resource')]))"
   ]
  },
  {
   "cell_type": "markdown",
   "metadata": {},
   "source": [
    "### MPL Bar Chart - Creaming Curve"
   ]
  },
  {
   "cell_type": "code",
   "execution_count": 281,
   "metadata": {},
   "outputs": [],
   "source": [
    "#Subset the WCs to only those which are on the creaming curve\n",
    "WC_rank = GetWCRanks([(a[0], a[1]) for a in WC_points],plat_points,[0,radiusinner, radiusouter])\n",
    "\n",
    "#Construct dataframe of all well concepts\n",
    "df_WC = pd.DataFrame({\"Well Concept\": WC_name,\"Resource\": WC_resource, \"Rank\":WC_rank, \"x\":[c[0] for c in WC_points]})\n",
    "\n",
    "#Reduce to df of well concepts on Creaming Curve (i.e. within the radii)\n",
    "df_WC_cc = df_WC[df_WC['Rank'] != 0].copy()\n",
    "\n",
    "#Map ranks to colors\n",
    "df_WC_cc.loc[:,'Color'] = df_WC_cc['Rank'].map(lambda x: dct_colors[x])\n",
    "\n",
    "df_WC_cc.sort_values(by=\"Resource\", inplace=True, ascending=False)\n",
    "\n",
    "b = figure(x_range=df_WC_cc['Well Concept'], plot_height=250, title=\"Creaming Curve\")\n",
    "b.vbar(x=df_WC_cc['Well Concept'], top=df_WC_cc['Resource'], color=df_WC_cc['Color'], width=0.9)\n",
    "\n",
    "b.xgrid.grid_line_color = None\n",
    "b.y_range.start = 0"
   ]
  },
  {
   "cell_type": "code",
   "execution_count": 282,
   "metadata": {},
   "outputs": [
    {
     "data": {
      "text/html": [
       "<div style=\"display: table;\"><div style=\"display: table-row;\"><div style=\"display: table-cell;\"><b title=\"bokeh.models.renderers.GlyphRenderer\">GlyphRenderer</b>(</div><div style=\"display: table-cell;\">id&nbsp;=&nbsp;'29599', <span id=\"29602\" style=\"cursor: pointer;\">&hellip;)</span></div></div><div class=\"29601\" style=\"display: none;\"><div style=\"display: table-cell;\"></div><div style=\"display: table-cell;\">data_source&nbsp;=&nbsp;ColumnDataSource(id='29562', ...),</div></div><div class=\"29601\" style=\"display: none;\"><div style=\"display: table-cell;\"></div><div style=\"display: table-cell;\">glyph&nbsp;=&nbsp;VBar(id='29597', ...),</div></div><div class=\"29601\" style=\"display: none;\"><div style=\"display: table-cell;\"></div><div style=\"display: table-cell;\">hover_glyph&nbsp;=&nbsp;None,</div></div><div class=\"29601\" style=\"display: none;\"><div style=\"display: table-cell;\"></div><div style=\"display: table-cell;\">js_event_callbacks&nbsp;=&nbsp;{},</div></div><div class=\"29601\" style=\"display: none;\"><div style=\"display: table-cell;\"></div><div style=\"display: table-cell;\">js_property_callbacks&nbsp;=&nbsp;{},</div></div><div class=\"29601\" style=\"display: none;\"><div style=\"display: table-cell;\"></div><div style=\"display: table-cell;\">level&nbsp;=&nbsp;'glyph',</div></div><div class=\"29601\" style=\"display: none;\"><div style=\"display: table-cell;\"></div><div style=\"display: table-cell;\">muted&nbsp;=&nbsp;False,</div></div><div class=\"29601\" style=\"display: none;\"><div style=\"display: table-cell;\"></div><div style=\"display: table-cell;\">muted_glyph&nbsp;=&nbsp;None,</div></div><div class=\"29601\" style=\"display: none;\"><div style=\"display: table-cell;\"></div><div style=\"display: table-cell;\">name&nbsp;=&nbsp;None,</div></div><div class=\"29601\" style=\"display: none;\"><div style=\"display: table-cell;\"></div><div style=\"display: table-cell;\">nonselection_glyph&nbsp;=&nbsp;VBar(id='29598', ...),</div></div><div class=\"29601\" style=\"display: none;\"><div style=\"display: table-cell;\"></div><div style=\"display: table-cell;\">selection_glyph&nbsp;=&nbsp;None,</div></div><div class=\"29601\" style=\"display: none;\"><div style=\"display: table-cell;\"></div><div style=\"display: table-cell;\">subscribed_events&nbsp;=&nbsp;[],</div></div><div class=\"29601\" style=\"display: none;\"><div style=\"display: table-cell;\"></div><div style=\"display: table-cell;\">tags&nbsp;=&nbsp;[],</div></div><div class=\"29601\" style=\"display: none;\"><div style=\"display: table-cell;\"></div><div style=\"display: table-cell;\">view&nbsp;=&nbsp;CDSView(id='29600', ...),</div></div><div class=\"29601\" style=\"display: none;\"><div style=\"display: table-cell;\"></div><div style=\"display: table-cell;\">visible&nbsp;=&nbsp;True,</div></div><div class=\"29601\" style=\"display: none;\"><div style=\"display: table-cell;\"></div><div style=\"display: table-cell;\">x_range_name&nbsp;=&nbsp;'default',</div></div><div class=\"29601\" style=\"display: none;\"><div style=\"display: table-cell;\"></div><div style=\"display: table-cell;\">y_range_name&nbsp;=&nbsp;'default')</div></div></div>\n",
       "<script>\n",
       "(function() {\n",
       "  var expanded = false;\n",
       "  var ellipsis = document.getElementById(\"29602\");\n",
       "  ellipsis.addEventListener(\"click\", function() {\n",
       "    var rows = document.getElementsByClassName(\"29601\");\n",
       "    for (var i = 0; i < rows.length; i++) {\n",
       "      var el = rows[i];\n",
       "      el.style.display = expanded ? \"none\" : \"table-row\";\n",
       "    }\n",
       "    ellipsis.innerHTML = expanded ? \"&hellip;)\" : \"&lsaquo;&lsaquo;&lsaquo;\";\n",
       "    expanded = !expanded;\n",
       "  });\n",
       "})();\n",
       "</script>\n"
      ],
      "text/plain": [
       "GlyphRenderer(id='29599', ...)"
      ]
     },
     "execution_count": 282,
     "metadata": {},
     "output_type": "execute_result"
    }
   ],
   "source": [
    "names, res, col, x = df_WC_cc[['Well Concept', 'Resource', 'Color', 'x']].T.values\n",
    "\n",
    "dct = {'name':names.tolist(), 'resource':res.tolist(), 'color':col.tolist(), 'x':x}\n",
    "\n",
    "cds_visibleWC = ColumnDataSource(dct)\n",
    "\n",
    "d = figure(x_range=names, plot_height=250, title=\"Creaming Curve 2\")\n",
    "\n",
    "d.vbar(x='name', top='resource', color='color', source=cds_visibleWC, width=0.9)"
   ]
  },
  {
   "cell_type": "markdown",
   "metadata": {},
   "source": [
    "### Create Bokeh Layout"
   ]
  },
  {
   "cell_type": "code",
   "execution_count": 283,
   "metadata": {},
   "outputs": [
    {
     "data": {
      "text/plain": [
       "'/Users/Pri.balachandran@ibm.com/Desktop/BP/20191106_PlatformWCAnalysis/p.html'"
      ]
     },
     "execution_count": 283,
     "metadata": {},
     "output_type": "execute_result"
    }
   ],
   "source": [
    "output_file(\"p.html\")\n",
    "\n",
    "p.x_range.callback = CustomJS(\n",
    "        args=dict(source=cds_visibleWC), code=\n",
    "\"\"\"\n",
    "var data = source.data;\n",
    "\n",
    "\n",
    "let visiblewc = [];\n",
    "let visibleres = [];\n",
    "let visiblecol = [];\n",
    "let visiblex = [];\n",
    "\n",
    "\n",
    "\n",
    "console.log('init');\n",
    "\n",
    "for (let i = 0; i < data.x.length; i++){\n",
    "\n",
    "    if (data.x[i] > cb_obj.start && data.x[i] < cb_obj.end){\n",
    "        visiblex.push(data.x[i]);\n",
    "        visiblewc.push(data.name[i]);\n",
    "        visibleres.push(data.resource[i]);\n",
    "        visiblecol.push(data.color[i]);\n",
    "        \n",
    "        \n",
    "        \n",
    "        \n",
    "    }\n",
    "}\n",
    "\n",
    "console.log(visiblex);\n",
    "//callback object - i.e. x_range\n",
    "data.x = visiblex;\n",
    "data.name = visiblewc;\n",
    "data.resource = visibleres;\n",
    "data.col = visiblecol;\n",
    "\n",
    "\n",
    "\n",
    "source.change.emit();\n",
    "\"\"\")\n",
    "# Create a row, with control panel and plot\n",
    "layout = row(p, b, d)\n",
    "\n",
    "# Make a tab with the layout \n",
    "tab = Panel(child=layout, title = 'Geospatial PoC')\n",
    "tabs = Tabs(tabs=[tab])\n",
    "save(tabs)"
   ]
  },
  {
   "cell_type": "code",
   "execution_count": null,
   "metadata": {},
   "outputs": [],
   "source": []
  },
  {
   "cell_type": "code",
   "execution_count": 17,
   "metadata": {},
   "outputs": [
    {
     "data": {
      "text/plain": [
       "('I-638',\n",
       " 'L-803',\n",
       " 'I-709',\n",
       " 'Rc-140',\n",
       " 'Pc-646',\n",
       " 'Sc-57',\n",
       " 'Q-794',\n",
       " 'L-431',\n",
       " 'L-730',\n",
       " 'J-13',\n",
       " 'H-589',\n",
       " 'L-51',\n",
       " 'Y-191',\n",
       " 'V-705',\n",
       " 'C-116',\n",
       " 'P-53',\n",
       " 'R-382',\n",
       " 'Yc-756',\n",
       " 'G-192',\n",
       " 'P-400',\n",
       " 'Qd-804',\n",
       " 'W-650',\n",
       " 'Qd-600',\n",
       " 'V-579',\n",
       " 'Xc-406',\n",
       " 'A-411',\n",
       " 'Z-937',\n",
       " 'W-251',\n",
       " 'D-942',\n",
       " 'J-925',\n",
       " 'W-854',\n",
       " 'R-264',\n",
       " 'K-644',\n",
       " 'V-185',\n",
       " 'Hd-638',\n",
       " 'Db-277',\n",
       " 'M-356',\n",
       " 'L-533',\n",
       " 'B-618',\n",
       " 'P-164',\n",
       " 'I-603',\n",
       " 'J-695',\n",
       " 'Ad-891',\n",
       " 'Ec-110',\n",
       " 'L-309',\n",
       " 'F-244',\n",
       " 'M-997',\n",
       " 'Z-287',\n",
       " 'S-158',\n",
       " 'X-867',\n",
       " 'M-716',\n",
       " 'P-929',\n",
       " 'Eb-570',\n",
       " 'J-724',\n",
       " 'I-840',\n",
       " 'Zc-219',\n",
       " 'Gd-342',\n",
       " 'G-264',\n",
       " 'S-506',\n",
       " 'X-557',\n",
       " 'Ic-349',\n",
       " 'X-352',\n",
       " 'E-320',\n",
       " 'W-455',\n",
       " 'Xc-919',\n",
       " 'Dc-574',\n",
       " 'V-232',\n",
       " 'K-568',\n",
       " 'S-534',\n",
       " 'Jb-843',\n",
       " 'K-463',\n",
       " 'Y-320',\n",
       " 'I-837',\n",
       " 'Y-557',\n",
       " 'C-890',\n",
       " 'N-11',\n",
       " 'Z-609',\n",
       " 'Ib-519',\n",
       " 'Td-673',\n",
       " 'B-291',\n",
       " 'Kc-641',\n",
       " 'Bc-525',\n",
       " 'E-973',\n",
       " 'Z-894',\n",
       " 'Zd-550',\n",
       " 'B-833',\n",
       " 'S-129',\n",
       " 'Q-649',\n",
       " 'Zc-816',\n",
       " 'H-416',\n",
       " 'Y-274',\n",
       " 'A-182',\n",
       " 'W-229',\n",
       " 'Q-197',\n",
       " 'D-194',\n",
       " 'Ec-429',\n",
       " 'N-72',\n",
       " 'Qd-990',\n",
       " 'S-882',\n",
       " 'Pc-890',\n",
       " 'I-421',\n",
       " 'B-9',\n",
       " 'Md-990',\n",
       " 'I-48',\n",
       " 'Ib-305',\n",
       " 'A-481',\n",
       " 'T-850',\n",
       " 'W-22',\n",
       " 'P-329',\n",
       " 'V-471',\n",
       " 'H-270',\n",
       " 'Tc-984',\n",
       " 'F-269',\n",
       " 'Ud-931',\n",
       " 'Id-433',\n",
       " 'Y-535',\n",
       " 'Id-968',\n",
       " 'Cb-900',\n",
       " 'D-270',\n",
       " 'D-850',\n",
       " 'G-295',\n",
       " 'Xc-685',\n",
       " 'Bd-148',\n",
       " 'Tb-240',\n",
       " 'Fd-6',\n",
       " 'Ld-344',\n",
       " 'Nd-239',\n",
       " 'B-599',\n",
       " 'A-389',\n",
       " 'R-180',\n",
       " 'Q-927',\n",
       " 'F-162',\n",
       " 'Hb-413',\n",
       " 'Q-345',\n",
       " 'U-738',\n",
       " 'F-651',\n",
       " 'Hc-216',\n",
       " 'Qb-250',\n",
       " 'D-175',\n",
       " 'Nc-204',\n",
       " 'Db-998',\n",
       " 'E-855',\n",
       " 'M-452',\n",
       " 'Nb-111',\n",
       " 'J-444',\n",
       " 'E-993',\n",
       " 'Q-776',\n",
       " 'D-774',\n",
       " 'T-932',\n",
       " 'T-514')"
      ]
     },
     "execution_count": 17,
     "metadata": {},
     "output_type": "execute_result"
    }
   ],
   "source": [
    "WC_name"
   ]
  },
  {
   "cell_type": "code",
   "execution_count": 18,
   "metadata": {},
   "outputs": [
    {
     "ename": "NameError",
     "evalue": "name 'xs' is not defined",
     "output_type": "error",
     "traceback": [
      "\u001b[0;31m---------------------------------------------------------------------------\u001b[0m",
      "\u001b[0;31mNameError\u001b[0m                                 Traceback (most recent call last)",
      "\u001b[0;32m<ipython-input-18-6ac47325ab89>\u001b[0m in \u001b[0;36m<module>\u001b[0;34m\u001b[0m\n\u001b[0;32m----> 1\u001b[0;31m \u001b[0mxs\u001b[0m\u001b[0;34m\u001b[0m\u001b[0;34m\u001b[0m\u001b[0m\n\u001b[0m",
      "\u001b[0;31mNameError\u001b[0m: name 'xs' is not defined"
     ]
    }
   ],
   "source": [
    "xs"
   ]
  },
  {
   "cell_type": "code",
   "execution_count": null,
   "metadata": {},
   "outputs": [],
   "source": [
    "stepoutsx[1]"
   ]
  }
 ],
 "metadata": {
  "kernelspec": {
   "display_name": "Python 3 geo plot kern",
   "language": "python",
   "name": "py36-geographicplotting"
  },
  "language_info": {
   "codemirror_mode": {
    "name": "ipython",
    "version": 3
   },
   "file_extension": ".py",
   "mimetype": "text/x-python",
   "name": "python",
   "nbconvert_exporter": "python",
   "pygments_lexer": "ipython3",
   "version": "3.6.9"
  }
 },
 "nbformat": 4,
 "nbformat_minor": 2
}
