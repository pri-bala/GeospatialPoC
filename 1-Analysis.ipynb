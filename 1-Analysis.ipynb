{
 "cells": [
  {
   "cell_type": "markdown",
   "metadata": {},
   "source": [
    "# Platform Positioning"
   ]
  },
  {
   "cell_type": "code",
   "execution_count": 19,
   "metadata": {},
   "outputs": [],
   "source": [
    "from __future__ import print_function"
   ]
  },
  {
   "cell_type": "code",
   "execution_count": 20,
   "metadata": {},
   "outputs": [],
   "source": [
    "import random as random #For random initial platform position\n",
    "import numpy as np\n",
    "import pandas as pd\n",
    "\n",
    "import geopandas as gpd\n",
    "from shapely.geometry.polygon import Polygon\n",
    "from shapely.geometry import Point, LineString \n",
    "import shapely\n",
    "from geopy import distance # For calculating distance between two points \n",
    "\n",
    "\n",
    "import pickle  as pkl # For importing pickled objects\n",
    "\n",
    "from ipywidgets import interact, interactive, fixed, interact_manual\n",
    "import ipywidgets as widgets\n",
    "\n",
    "from math import tan, isclose, pi #F or calculating point on circumference - step out radius"
   ]
  },
  {
   "cell_type": "markdown",
   "metadata": {},
   "source": [
    "# Ingest Processed Data\n",
    "### Target Polygons\n",
    "These were processed in the preceeding notebook and stored in '1_processed'"
   ]
  },
  {
   "cell_type": "code",
   "execution_count": 21,
   "metadata": {},
   "outputs": [
    {
     "data": {
      "text/plain": [
       "<matplotlib.axes._subplots.AxesSubplot at 0x126638ba8>"
      ]
     },
     "execution_count": 21,
     "metadata": {},
     "output_type": "execute_result"
    },
    {
     "data": {
      "image/png": "[encoded data removed]",
      "text/plain": [
       "<Figure size 432x288 with 1 Axes>"
      ]
     },
     "metadata": {
      "needs_background": "light"
     },
     "output_type": "display_data"
    }
   ],
   "source": [
    "with open('data/1_processed/target_polygon_gdf.pkl', 'rb') as f:\n",
    "    gdf_targPoly = pkl.load(f)\n",
    "    \n",
    "gdf_targPoly.plot()"
   ]
  },
  {
   "cell_type": "markdown",
   "metadata": {},
   "source": [
    "### Well Concepts\n",
    "As no suitable test data exists, dummy data is generated. There is a separate dummdatacreator.py file containing this work.\n",
    "\n",
    "Rather than have Well Concepts randomly placed anywhere, we restrict it to only be within Target Polygon space"
   ]
  },
  {
   "cell_type": "code",
   "execution_count": 22,
   "metadata": {
    "scrolled": true
   },
   "outputs": [],
   "source": [
    "from dummydatacreator import  GenerateMultipleWellConceptsTEST as GenerateWCs # This is not supported in Azure notebooks"
   ]
  },
  {
   "cell_type": "code",
   "execution_count": 23,
   "metadata": {},
   "outputs": [
    {
     "name": "stdout",
     "output_type": "stream",
     "text": [
      "Well Concepts Generated:\n",
      " Name: X-2, Points: [19.540895439062265, 20.01725884283493], Resource: 116.54960912963689\n",
      "Name: Lc-235, Points: [19.458216427813248, 19.921077119282938], Resource: 142.45407556495357\n",
      "Name: O-655, Points: [19.756791888170675, 20.056367289667552], Resource: 20.066390403667143\n",
      "Name: M-428, Points: [19.6923183702778, 20.04824184833345], Resource: 72.25820827319212\n",
      "Name: X-167, Points: [19.50782052680041, 19.894875721120215], Resource: 66.34962047090922\n"
     ]
    }
   ],
   "source": [
    "lon_min = 19.35\n",
    "lon_max = 19.9 \n",
    "lat_min = 19.8 \n",
    "lat_max = 20.4\n",
    "n_concepts = 70\n",
    "WC_name, WC_points, WC_resource = GenerateWCs(gdf_targPoly,n_concepts = n_concepts, lon_min =lon_min, lon_max = lon_max, lat_min =lat_min, lat_max = lat_max)\n",
    "\n",
    "print(\"Well Concepts Generated:\\n\",'\\n'.join('Name: {}, Points: {}, Resource: {}'.format(WC_name[k], WC_points[k], WC_resource[k]) for k in range(5)))"
   ]
  },
  {
   "cell_type": "markdown",
   "metadata": {
    "scrolled": true
   },
   "source": [
    "# Mapping\n",
    "In order to construct the map containing Targets, Well Concepts, Platforms, some functions are required:\n",
    "\n",
    "\n",
    "### Platform Step-Out Radius Functions\n",
    "As there is no method for deriving the circumference around a point in EPSG:4326, functions are required to calculate this.\n",
    "- A function to find a single point on the circumference (within a given tolerance)\n",
    "- A function to find multiple points all around the circumference, sufficient for plotting the circle"
   ]
  },
  {
   "cell_type": "code",
   "execution_count": 24,
   "metadata": {
    "scrolled": true
   },
   "outputs": [],
   "source": [
    "def GetXYatCircumference(centre, desired_radius, theta, tolerance = 0.00001):\n",
    "    '''Calculates the X,Y coordinates of a point on the circumference of a circle, \n",
    "    with a given desired radius and angle to the vertical.\n",
    "    \n",
    "    Theta in radians\n",
    "    '''\n",
    "    \n",
    "    #Initialise x,y coordinates\n",
    "    x = centre[0]\n",
    "    y = centre[1]\n",
    "\n",
    "    \n",
    "    #Set initial increment values\n",
    "        #If we are working in the lower two quadrants, i.e. where y will be less than centre y\n",
    "    if theta > pi/2 and theta < (3*pi)/2:\n",
    "        y_increment=-0.01\n",
    "    else:\n",
    "        y_increment=0.01\n",
    "\n",
    "        \n",
    "    #Loop until the radius of the point and centre, is close to the desired radius\n",
    "    while isclose(distance.distance(centre, [x,y]).kilometers,  desired_radius ,rel_tol=0.00001) == False:\n",
    "\n",
    "        # Add the increment whilst the distance is less than desired\n",
    "        while distance.distance(centre, [x,y]) < desired_radius:\n",
    "            x_increment = y_increment * tan(theta)\n",
    "            x += x_increment\n",
    "            y += y_increment\n",
    "\n",
    "        # Subtract the increment whilst the distance is more than desired\n",
    "        while distance.distance(centre, [x,y]) > desired_radius:\n",
    "            x_increment = y_increment * tan(theta)\n",
    "            x -= x_increment\n",
    "            y -= y_increment\n",
    "\n",
    "        #Reduce the size of the increment to increase precision  \n",
    "        y_increment = y_increment/4\n",
    "\n",
    "    return [x,y]"
   ]
  },
  {
   "cell_type": "code",
   "execution_count": 25,
   "metadata": {},
   "outputs": [
    {
     "data": {
      "text/plain": [
       "([0.0, 0.015637707705740515, -0.015637707705740488, 0.0],\n",
       " [0.01796615600585938,\n",
       "  -0.009028434753417969,\n",
       "  -0.009028434753417969,\n",
       "  0.01796615600585938])"
      ]
     },
     "execution_count": 25,
     "metadata": {},
     "output_type": "execute_result"
    }
   ],
   "source": [
    "def GetCircumferenceXY(centre, radius, n_points, tolerance = 0.00001):\n",
    "    '''Calculates x,y coordinates of a specified number points on the circumference of a \n",
    "    circle with a specified centre    \n",
    "    \n",
    "    NB: n_points must odd, to ensure we do not get a trig erro\n",
    "    '''\n",
    "    assert n_points % 2 != 0, \"n_points must not be an even number - gives a trig error\"\n",
    "\n",
    "    # The angle between each radius        \n",
    "    theta_increment = (2*pi)/n_points\n",
    "\n",
    "    # The angles of all the radii we will use\n",
    "    thetas = [theta_increment * i for i in range(n_points)]\n",
    "    \n",
    "    # Get a list of all calculated XYs on the circumference\n",
    "    xys = [GetXYatCircumference(centre, radius,theta_i,tolerance) for theta_i in  thetas]\n",
    "    \n",
    "    # Create a full 'loop' so the first and last points are the same - Polygon\n",
    "    xys.append(xys[0])\n",
    "    \n",
    "    \n",
    "    xs = [xy[0] for xy in xys]\n",
    "    ys = [xy[1] for xy in xys]\n",
    "    \n",
    "    return xs, ys\n",
    "\n",
    "GetCircumferenceXY([0,0], 2, 3)"
   ]
  },
  {
   "cell_type": "markdown",
   "metadata": {},
   "source": [
    "### Well Concept Relative Position\n",
    "i.e. Are Well Concepts within specified radii around a point?"
   ]
  },
  {
   "cell_type": "code",
   "execution_count": 26,
   "metadata": {},
   "outputs": [],
   "source": [
    "def BinByDistances(pointsToRank, centre, distBins):\n",
    "    '''Well Concepts are ranked according to binned distance from platform. i.e. \n",
    "    Given input distances [0,2,5], the function will return a list of rankings where:\n",
    "    0 indicates Well Concept is more than 5 km from platform\n",
    "    1 indictates Well Concept is between 2 and 5 km from platform... etc\n",
    "    '''\n",
    "    #Radii must be ordered, i.e. [0,2,5]\n",
    "    distBins = np.sort(distBins)\n",
    "    \n",
    "    num_bins = len(distBins)\n",
    "\n",
    "    #calculate distances of all well concepts from platform \n",
    "    distances = [distance.distance(point_i, centre) for point_i in pointsToRank] #Karney 2013 distance\n",
    "    \n",
    "    distances = np.reshape(distances,[-1])\n",
    "\n",
    "    \n",
    "    #Reverse ranking - where 0 is closest to platform\n",
    "    revranks = np.digitize(distances, distBins, right = False) #i.e. includes left bound = 0\n",
    "\n",
    "    # Ranking - where 0 is furthest from platform\n",
    "    ranking = [num_bins - revrank for revrank in revranks]\n",
    "    \n",
    "    return ranking"
   ]
  },
  {
   "cell_type": "code",
   "execution_count": null,
   "metadata": {},
   "outputs": [],
   "source": []
  },
  {
   "cell_type": "code",
   "execution_count": 27,
   "metadata": {},
   "outputs": [],
   "source": [
    "dct_colors = {0: \"#808080\",\n",
    "          1:\"#FF8000\",\n",
    "          2:\"#00CC00\"}"
   ]
  },
  {
   "cell_type": "code",
   "execution_count": 28,
   "metadata": {},
   "outputs": [],
   "source": [
    "def GetWCRanks(wcpoints, plat_points,radii):\n",
    "    '''\n",
    "    Given the rank of Well Concepts, this derives the appropriate color for them\n",
    "    \n",
    "    If a WC has a rank of 3 (i.e. very close) with a platform, but a rank of 0 (i.e. far) from another platform, we \n",
    "    only care about the ranking of 3\n",
    "    '''\n",
    "    #Subset the WCs to only those which are on the creaming curve\n",
    "    #A list for each platform, in which each WC is given a rank/bin\n",
    "    WC_rank_by_platform = []\n",
    "    \n",
    "    for plat_point in plat_points:\n",
    "        WC_rank_by_platform.append(BinByDistances([(a[0], a[1]) for a in wcpoints],plat_point,radii) )\n",
    "\n",
    "    WC_best_rank = [max(WC_ranks)   for WC_ranks in zip(*WC_rank_by_platform)]\n",
    "    \n",
    "    \n",
    "    return WC_best_rank  "
   ]
  },
  {
   "cell_type": "markdown",
   "metadata": {},
   "source": [
    "## Map Construction"
   ]
  },
  {
   "cell_type": "markdown",
   "metadata": {},
   "source": [
    "https://towardsdatascience.com/walkthrough-mapping-basics-with-bokeh-and-geopandas-in-python-43f40aa5b7e9"
   ]
  },
  {
   "cell_type": "code",
   "execution_count": 29,
   "metadata": {},
   "outputs": [],
   "source": [
    "import json\n",
    "from bokeh.models.widgets import Slider\n",
    "\n",
    "from bokeh.io import output_file, show, save\n",
    "\n",
    "from bokeh.models import (CDSView, ColorBar, ColumnDataSource,\n",
    "                          CustomJS, CustomJSFilter, \n",
    "                          GeoJSONDataSource, HoverTool, LabelSet,\n",
    "                          LinearColorMapper, Slider)\n",
    "from bokeh.layouts import column, row, widgetbox\n",
    "from bokeh.palettes import brewer\n",
    "from bokeh.plotting import figure\n",
    "# Input GeoJSON source that contains features for plotting\n",
    "from bokeh.models.markers import SquareCross\n",
    "from bokeh.models.callbacks import CustomJS\n",
    "\n",
    "\n",
    "from bokeh.layouts import column, row,grid, WidgetBox\n",
    "from bokeh.models import Panel\n",
    "from bokeh.models.widgets import Tabs"
   ]
  },
  {
   "cell_type": "code",
   "execution_count": 36,
   "metadata": {},
   "outputs": [],
   "source": [
    "\n",
    "\n",
    "WC_name, WC_points, WC_resource = GenerateWCs(gdf_targPoly, n_concepts, lon_min, lon_max, lat_min, lat_max)\n",
    "\n",
    "#Defaults\n",
    "radiusinner=1.4\n",
    "radiusouter=1.6\n",
    "\n",
    "\n",
    "\n",
    "\n",
    "\n",
    "#Any calculations based on the above defaults\n",
    "n_plat = 30\n",
    "_, plat_points, _ = GenerateWCs(gdf_targPoly, n_plat, lon_min, lon_max, lat_min, lat_max)\n",
    "plat_points = list(plat_points)\n",
    "plat_name = [\"Platform\" for i in range(len(plat_points))]\n",
    "\n",
    "\n",
    "_ = GetWCRanks(WC_points,plat_points, [0,radiusinner,radiusouter])\n",
    "WC_colors = [dct_colors[wcrank] for wcrank in _]  \n",
    "\n",
    "\n",
    "\n",
    "\n",
    "innerstepoutsx = []\n",
    "innerstepoutsy = []\n",
    "\n",
    "for plat_point in plat_points:\n",
    "    innerstepoutx, innerstepouty = GetCircumferenceXY(plat_point,radiusinner , 401)\n",
    "    innerstepoutsx.append(np.array(innerstepoutx[:-1]))\n",
    "    innerstepoutsy.append(np.array(innerstepouty[:-1]))\n",
    "\n",
    "outerstepoutsx = []\n",
    "outerstepoutsy = []\n",
    "\n",
    "for plat_point in plat_points:\n",
    "    outerstepoutx, outerstepouty = GetCircumferenceXY(plat_point,radiusouter , 401)\n",
    "    outerstepoutsx.append(np.array(outerstepoutx[:-1]))\n",
    "    outerstepoutsy.append(np.array(outerstepouty[:-1]))\n",
    "    \n"
   ]
  },
  {
   "cell_type": "code",
   "execution_count": 37,
   "metadata": {},
   "outputs": [
    {
     "data": {
      "text/plain": [
       "[[19.816874653949373, 20.099038604968023],\n",
       " [19.737031011942907, 20.07782274711916],\n",
       " [19.728045304288887, 20.08771091892368],\n",
       " [19.57776225558882, 20.0249195447819],\n",
       " [19.44907576217978, 19.91920385958667],\n",
       " [19.67874277588574, 20.07381502051701],\n",
       " [19.732141957087038, 20.061332661123828],\n",
       " [19.493409020007253, 19.86744266452775],\n",
       " [19.509561677587804, 19.90364184926796],\n",
       " [19.486010163830773, 19.89542195082485],\n",
       " [19.690014140734235, 20.077106003177505],\n",
       " [19.82621019028358, 20.103045568660587],\n",
       " [19.615937423647726, 20.06366908001105],\n",
       " [19.523740757400112, 19.86728565701641],\n",
       " [19.548356714007994, 19.870292214278596],\n",
       " [19.61475297766508, 20.066246362854432],\n",
       " [19.77891337035661, 20.07956871407455],\n",
       " [19.532082783341924, 19.94773771550776],\n",
       " [19.815601756055912, 20.092855346427356],\n",
       " [19.454448772283243, 19.910217439860805],\n",
       " [19.729784445585647, 20.078200745730207],\n",
       " [19.499637170537138, 19.97038955629334],\n",
       " [19.70429798672904, 20.104065738013936],\n",
       " [19.505439676603967, 19.920081203030627],\n",
       " [19.507054792627386, 19.866010679148282],\n",
       " [19.52400219364686, 19.966369426640494],\n",
       " [19.394848749754917, 20.373898807909665],\n",
       " [19.72837378371789, 20.022280527888025],\n",
       " [19.672602263593358, 20.11028316001201],\n",
       " [19.446018457223236, 19.942333281316227]]"
      ]
     },
     "execution_count": 37,
     "metadata": {},
     "output_type": "execute_result"
    }
   ],
   "source": [
    "plat_points"
   ]
  },
  {
   "cell_type": "markdown",
   "metadata": {},
   "source": [
    "### Bokeh Map"
   ]
  },
  {
   "cell_type": "code",
   "execution_count": 54,
   "metadata": {},
   "outputs": [],
   "source": [
    "\n",
    "\n",
    "# Create figure object.\n",
    "p = figure(title = 'Polygon Map', \n",
    "           plot_height = 700 ,\n",
    "           plot_width = 700, \n",
    "           toolbar_location = 'below',\n",
    "           tools = \"pan, wheel_zoom, box_zoom, reset\",\n",
    "           active_scroll = \"wheel_zoom\",\n",
    "            x_range=(lon_min, lon_max),\n",
    "            y_range=(lat_min, lat_max),          \n",
    "          )\n",
    "p.xgrid.grid_line_color = None\n",
    "p.ygrid.grid_line_color = None\n",
    "\n",
    "\n",
    "\n",
    "# TARGET LAYER #\n",
    "# Data Source\n",
    "ds_targ = GeoJSONDataSource(geojson = gdf_targPoly[['target_id', 'target_name', 'polygon']].to_json())\n",
    "\n",
    "# Bokeh Layer\n",
    "p_targ = p.patches('xs','ys', source = ds_targ,\n",
    "                   fill_color = \"lightskyblue\",\n",
    "                   line_color = \"blue\", \n",
    "                   line_width = 0.1, \n",
    "                   fill_alpha = 0.2)\n",
    "\n",
    "\n",
    "#PLATFORM LAYER #\n",
    "platx = [a[0] for a in plat_points]\n",
    "platy = [a[1] for a in plat_points]\n",
    "\n",
    "\n",
    "# Data Source \n",
    "ds_plat = ColumnDataSource({'x':platx, 'y':platy, 'name': plat_name})\n",
    "# Bokeh Layer\n",
    "p_plat = p.diamond_cross(\"x\", \"y\", size=20, source=ds_plat,\n",
    "         line_color=\"black\", fill_alpha=0.8)\n",
    "# Label layer\n",
    "labels = LabelSet(x=\"x\", y=\"y\", text=\"name\", y_offset=8,\n",
    "                  text_font_size=\"8pt\", text_color=\"#555555\",\n",
    "                  source=ds_plat, text_align='center')\n",
    "p.add_layout(labels)\n",
    "\n",
    "\n",
    "#PLATFORM INNER STEP-OUT INNER #\n",
    "#Data Source\n",
    "source_step_inner = ColumnDataSource({'x':innerstepoutsx, 'y':innerstepoutsy})\n",
    "\n",
    "#Bokeh layer\n",
    "p_step_inner = p.patches('x','y', source = source_step_inner,\n",
    "                   fill_color = None,\n",
    "                   line_color = \"#00CC00\", \n",
    "                   line_width = 2, \n",
    "                   fill_alpha = 1)\n",
    "\n",
    "#PLATFORM STEP-OUT OUTER #\n",
    "source_step_outer = ColumnDataSource({'x':outerstepoutsx, 'y':outerstepoutsy})\n",
    "\n",
    "p_step_outer = p.patches('x','y', source = source_step_outer,\n",
    "                   fill_color = None,\n",
    "                   line_color = \"#FF8000\", \n",
    "                   line_width = 1, \n",
    "                   fill_alpha = 0.1)\n",
    "\n",
    "# WELL CONCEPTS\n",
    "wcx = [a[0] for a in WC_points]\n",
    "wcy = [a[1] for a in WC_points]\n",
    "ds_wc = ColumnDataSource({'x':wcx, 'y':wcy, 'name':WC_name, 'resource':WC_resource, 'hex': WC_colors})\n",
    "\n",
    "p_wc = p.circle(\"x\", \"y\", size=5, source=ds_wc,\n",
    "         color='hex', line_color=\"black\", fill_alpha=0.8)\n",
    "\n",
    "labels = LabelSet(x=\"x\", y=\"y\", text=\"name\", y_offset=8,\n",
    "                  text_font_size=\"8pt\", text_color=\"#555555\",\n",
    "                  source=ds_wc, text_align='center')\n",
    "p.add_layout(labels)\n",
    "\n",
    "# Create hover tool\n",
    "p.add_tools(HoverTool(renderers = [p_wc],\n",
    "                      tooltips = [('Well Concept','@name'),\n",
    "                                ('Resource','@resource')]))"
   ]
  },
  {
   "cell_type": "markdown",
   "metadata": {},
   "source": [
    "### MPL Bar Chart - Creaming Curve"
   ]
  },
  {
   "cell_type": "code",
   "execution_count": 55,
   "metadata": {},
   "outputs": [],
   "source": [
    "#Subset the WCs to only those which are on the creaming curve\n",
    "WC_rank = GetWCRanks([(a[0], a[1]) for a in WC_points],plat_points,[0,radiusinner, radiusouter])\n",
    "\n",
    "#Construct dataframe of all well concepts\n",
    "df_WC = pd.DataFrame({\"Well Concept\": WC_name,\"Resource\": WC_resource, \"Rank\":WC_rank, \\\n",
    "                      \"x\":[c[0] for c in WC_points],  \"y\":[c[1] for c in WC_points]})\n",
    "\n",
    "#Reduce to df of well concepts on Creaming Curve (i.e. within the radii)\n",
    "df_WC_cc = df_WC[df_WC['Rank'] != 0].copy()\n",
    "\n",
    "#Map ranks to colors\n",
    "df_WC_cc.loc[:,'Color'] = df_WC_cc['Rank'].map(lambda x: dct_colors[x])\n",
    "\n",
    "df_WC_cc.sort_values(by=\"Resource\", inplace=True, ascending=False)\n",
    "\n",
    "b = figure(x_range=df_WC_cc['Well Concept'], plot_height=250, title=\"All Accessible Wells\")\n",
    "b.vbar(x=df_WC_cc['Well Concept'], top=df_WC_cc['Resource'], color=df_WC_cc['Color'], width=0.9)\n",
    "\n",
    "b.xgrid.grid_line_color = None\n",
    "b.y_range.start = 0"
   ]
  },
  {
   "cell_type": "code",
   "execution_count": 56,
   "metadata": {},
   "outputs": [
    {
     "data": {
      "text/html": [
       "<div style=\"display: table;\"><div style=\"display: table-row;\"><div style=\"display: table-cell;\"><b title=\"bokeh.models.renderers.GlyphRenderer\">GlyphRenderer</b>(</div><div style=\"display: table-cell;\">id&nbsp;=&nbsp;'4126', <span id=\"4129\" style=\"cursor: pointer;\">&hellip;)</span></div></div><div class=\"4128\" style=\"display: none;\"><div style=\"display: table-cell;\"></div><div style=\"display: table-cell;\">data_source&nbsp;=&nbsp;ColumnDataSource(id='4089', ...),</div></div><div class=\"4128\" style=\"display: none;\"><div style=\"display: table-cell;\"></div><div style=\"display: table-cell;\">glyph&nbsp;=&nbsp;VBar(id='4124', ...),</div></div><div class=\"4128\" style=\"display: none;\"><div style=\"display: table-cell;\"></div><div style=\"display: table-cell;\">hover_glyph&nbsp;=&nbsp;None,</div></div><div class=\"4128\" style=\"display: none;\"><div style=\"display: table-cell;\"></div><div style=\"display: table-cell;\">js_event_callbacks&nbsp;=&nbsp;{},</div></div><div class=\"4128\" style=\"display: none;\"><div style=\"display: table-cell;\"></div><div style=\"display: table-cell;\">js_property_callbacks&nbsp;=&nbsp;{},</div></div><div class=\"4128\" style=\"display: none;\"><div style=\"display: table-cell;\"></div><div style=\"display: table-cell;\">level&nbsp;=&nbsp;'glyph',</div></div><div class=\"4128\" style=\"display: none;\"><div style=\"display: table-cell;\"></div><div style=\"display: table-cell;\">muted&nbsp;=&nbsp;False,</div></div><div class=\"4128\" style=\"display: none;\"><div style=\"display: table-cell;\"></div><div style=\"display: table-cell;\">muted_glyph&nbsp;=&nbsp;None,</div></div><div class=\"4128\" style=\"display: none;\"><div style=\"display: table-cell;\"></div><div style=\"display: table-cell;\">name&nbsp;=&nbsp;None,</div></div><div class=\"4128\" style=\"display: none;\"><div style=\"display: table-cell;\"></div><div style=\"display: table-cell;\">nonselection_glyph&nbsp;=&nbsp;VBar(id='4125', ...),</div></div><div class=\"4128\" style=\"display: none;\"><div style=\"display: table-cell;\"></div><div style=\"display: table-cell;\">selection_glyph&nbsp;=&nbsp;None,</div></div><div class=\"4128\" style=\"display: none;\"><div style=\"display: table-cell;\"></div><div style=\"display: table-cell;\">subscribed_events&nbsp;=&nbsp;[],</div></div><div class=\"4128\" style=\"display: none;\"><div style=\"display: table-cell;\"></div><div style=\"display: table-cell;\">tags&nbsp;=&nbsp;[],</div></div><div class=\"4128\" style=\"display: none;\"><div style=\"display: table-cell;\"></div><div style=\"display: table-cell;\">view&nbsp;=&nbsp;CDSView(id='4127', ...),</div></div><div class=\"4128\" style=\"display: none;\"><div style=\"display: table-cell;\"></div><div style=\"display: table-cell;\">visible&nbsp;=&nbsp;True,</div></div><div class=\"4128\" style=\"display: none;\"><div style=\"display: table-cell;\"></div><div style=\"display: table-cell;\">x_range_name&nbsp;=&nbsp;'default',</div></div><div class=\"4128\" style=\"display: none;\"><div style=\"display: table-cell;\"></div><div style=\"display: table-cell;\">y_range_name&nbsp;=&nbsp;'default')</div></div></div>\n",
       "<script>\n",
       "(function() {\n",
       "  var expanded = false;\n",
       "  var ellipsis = document.getElementById(\"4129\");\n",
       "  ellipsis.addEventListener(\"click\", function() {\n",
       "    var rows = document.getElementsByClassName(\"4128\");\n",
       "    for (var i = 0; i < rows.length; i++) {\n",
       "      var el = rows[i];\n",
       "      el.style.display = expanded ? \"none\" : \"table-row\";\n",
       "    }\n",
       "    ellipsis.innerHTML = expanded ? \"&hellip;)\" : \"&lsaquo;&lsaquo;&lsaquo;\";\n",
       "    expanded = !expanded;\n",
       "  });\n",
       "})();\n",
       "</script>\n"
      ],
      "text/plain": [
       "GlyphRenderer(id='4126', ...)"
      ]
     },
     "execution_count": 56,
     "metadata": {},
     "output_type": "execute_result"
    }
   ],
   "source": [
    "all_name, all_res, all_col, x, y = df_WC_cc[['Well Concept', 'Resource', 'Color', 'x', 'y']].T.values\n",
    "\n",
    "dct_wc = {'name':all_name.tolist(), 'resource':all_res.tolist(), 'color':all_col.tolist(), 'x':x, 'y':y}\n",
    "\n",
    "cds_visibleWC = ColumnDataSource(dct_wc)\n",
    "\n",
    "d = figure(x_range=all_name, plot_height=250, title=\"Visible, Accessible Wells\")\n",
    "d.vbar(x='name', top='resource', color='color', source=cds_visibleWC, width=0.9)\n",
    "\n"
   ]
  },
  {
   "cell_type": "markdown",
   "metadata": {},
   "source": [
    "### Create Bokeh Layout"
   ]
  },
  {
   "cell_type": "code",
   "execution_count": 57,
   "metadata": {},
   "outputs": [
    {
     "data": {
      "text/plain": [
       "'/Users/Pri.balachandran@ibm.com/Desktop/BP/20191106_PlatformWCAnalysis/Dashboard.html'"
      ]
     },
     "execution_count": 57,
     "metadata": {},
     "output_type": "execute_result"
    }
   ],
   "source": [
    "output_file(\"Dashboard.html\")\n",
    "\n",
    "# CHANGE IN X RANGE FORCES A RECALC OF ALL VISIBLE WELL CONCEPTS\n",
    "p.x_range.callback = CustomJS(\n",
    "        args=dict(source=cds_visibleWC, allwc=dct_wc ), code=\n",
    "\"\"\"\n",
    "var data = source.data;\n",
    "let visiblewc = [];\n",
    "let visibleres = [];\n",
    "let visiblecol = [];\n",
    "let visiblex = [];\n",
    "let visibley = [];\n",
    "\n",
    "console.log(allwc);\n",
    "console.log(data);\n",
    "\n",
    "for (let i = 0; i < allwc.x.length; i++){\n",
    "\n",
    "    if (allwc.x[i] > cb_obj.start && allwc.x[i] < cb_obj.end){\n",
    "        visiblex.push(allwc.x[i]);\n",
    "        visibley.push(allwc.y[i]);\n",
    "        visiblewc.push(allwc.name[i]);\n",
    "        visibleres.push(allwc.resource[i]);\n",
    "        visiblecol.push(allwc.color[i]);      \n",
    "    }\n",
    "}\n",
    "\n",
    "//callback object - i.e. x_range\n",
    "data.x = visiblex;\n",
    "data.y = visibley;\n",
    "data.name = visiblewc;\n",
    "data.resource = visibleres;\n",
    "data.color = visiblecol;\n",
    "\n",
    "source.change.emit();\n",
    "\"\"\")\n",
    "\n",
    "\n",
    "# CHANGE IN Y RANGE  JUST SUBSETS EXISTING CC\n",
    "p.y_range.callback = CustomJS(\n",
    "        args=dict(source=cds_visibleWC ), code=\n",
    "\"\"\"\n",
    "var data = source.data;\n",
    "let visiblewc = [];\n",
    "let visibleres = [];\n",
    "let visiblecol = [];\n",
    "let visiblex = [];\n",
    "let visibley = [];\n",
    "\n",
    "\n",
    "for (let i = 0; i < data.y.length; i++){\n",
    "    if (data.y[i] > cb_obj.start && data.y[i] < cb_obj.end){\n",
    "        visiblex.push(data.x[i]);\n",
    "        visibley.push(data.y[i]);\n",
    "        visiblewc.push(data.name[i]);\n",
    "        visibleres.push(data.resource[i]);\n",
    "        visiblecol.push(data.color[i]);      \n",
    "    }\n",
    "}\n",
    "\n",
    "//callback object - i.e. x_range\n",
    "data.x = visiblex;\n",
    "data.y = visibley;\n",
    "data.name = visiblewc;\n",
    "data.resource = visibleres;\n",
    "data.color = visiblecol;\n",
    "\n",
    "source.change.emit();\n",
    "\"\"\")\n",
    "\n",
    "\n",
    "# Create a row, with control panel and plot\n",
    "layout = grid(row(p, column(b, d)))\n",
    "\n",
    "# Make a tab with the layout \n",
    "tab = Panel(child=layout, title = 'Geospatial PoC')\n",
    "tabs = Tabs(tabs=[tab])\n",
    "save(tabs)"
   ]
  }
 ],
 "metadata": {
  "kernelspec": {
   "display_name": "Python 3 geo plot kern",
   "language": "python",
   "name": "py36-geographicplotting"
  },
  "language_info": {
   "codemirror_mode": {
    "name": "ipython",
    "version": 3
   },
   "file_extension": ".py",
   "mimetype": "text/x-python",
   "name": "python",
   "nbconvert_exporter": "python",
   "pygments_lexer": "ipython3",
   "version": "3.6.9"
  }
 },
 "nbformat": 4,
 "nbformat_minor": 2
}
