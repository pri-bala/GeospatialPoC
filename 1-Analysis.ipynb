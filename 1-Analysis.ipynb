{
 "cells": [
  {
   "cell_type": "markdown",
   "metadata": {},
   "source": [
    "# Platform Positioning"
   ]
  },
  {
   "cell_type": "code",
   "execution_count": 1,
   "metadata": {},
   "outputs": [],
   "source": [
    "from __future__ import print_function"
   ]
  },
  {
   "cell_type": "code",
   "execution_count": 2,
   "metadata": {},
   "outputs": [],
   "source": [
    "import random as random #For random initial platform position\n",
    "import numpy as np\n",
    "import pandas as pd\n",
    "\n",
    "import geopandas as gpd\n",
    "from shapely.geometry.polygon import Polygon\n",
    "from shapely.geometry import Point, LineString \n",
    "import shapely\n",
    "from geopy import distance # For calculating distance between two points \n",
    "\n",
    "\n",
    "import pickle  as pkl # For importing pickled objects\n",
    "\n",
    "from ipywidgets import interact, interactive, fixed, interact_manual\n",
    "import ipywidgets as widgets\n",
    "\n",
    "from math import tan, isclose, pi #F or calculating point on circumference - step out radius"
   ]
  },
  {
   "cell_type": "markdown",
   "metadata": {},
   "source": [
    "# Ingest Processed Data\n",
    "### Target Polygons\n",
    "These were processed in the preceeding notebook and stored in '1_processed'"
   ]
  },
  {
   "cell_type": "code",
   "execution_count": 3,
   "metadata": {},
   "outputs": [
    {
     "data": {
      "text/plain": [
       "<matplotlib.axes._subplots.AxesSubplot at 0x123a8e0b8>"
      ]
     },
     "execution_count": 3,
     "metadata": {},
     "output_type": "execute_result"
    }
   ],
   "source": [
    "with open('data/1_processed/target_polygon_gdf.pkl', 'rb') as f:\n",
    "    gdf_targPoly = pkl.load(f)\n",
    "    \n",
    "gdf_targPoly.plot()"
   ]
  },
  {
   "cell_type": "markdown",
   "metadata": {},
   "source": [
    "### Well Concepts\n",
    "As no suitable test data exists, dummy data is generated. There is a separate dummdatacreator.py file containing this work.\n",
    "\n",
    "Rather than have Well Concepts randomly placed anywhere, we restrict it to only be within Target Polygon space"
   ]
  },
  {
   "cell_type": "code",
   "execution_count": 4,
   "metadata": {
    "scrolled": true
   },
   "outputs": [],
   "source": [
    "from dummydatacreator import  GenerateMultipleWellConceptsTEST as GenerateWCs # This is not supported in Azure notebooks"
   ]
  },
  {
   "cell_type": "code",
   "execution_count": 5,
   "metadata": {},
   "outputs": [
    {
     "name": "stdout",
     "output_type": "stream",
     "text": [
      "Well Concepts Generated:\n",
      " Name: N-6, Points: [-60.4313541533854, 10.033255504987698], Resource: 44.86212412803017\n",
      "Name: Z-4, Points: [-60.387191278059305, 10.055110283713734], Resource: 93.74586540323433\n",
      "Name: X-17, Points: [-60.385824446250865, 10.053160038625931], Resource: 207.41733359833688\n",
      "Name: Uc-15, Points: [-60.30709401430253, 10.099520579491553], Resource: 37.3597806864533\n",
      "Name: I-2, Points: [-60.306429961145476, 10.06058785513539], Resource: 203.088265058085\n"
     ]
    }
   ],
   "source": [
    "WC_name, WC_points, WC_resource = GenerateWCs(gdf_targPoly)\n",
    "\n",
    "print(\"Well Concepts Generated:\\n\",'\\n'.join('Name: {}, Points: {}, Resource: {}'.format(WC_name[k], WC_points[k], WC_resource[k]) for k in range(5)))"
   ]
  },
  {
   "cell_type": "markdown",
   "metadata": {
    "scrolled": true
   },
   "source": [
    "# Mapping\n",
    "In order to construct the map containing Targets, Well Concepts, Platforms, some functions are required:\n",
    "\n",
    "\n",
    "### Platform Step-Out Radius Functions\n",
    "As there is no method for deriving the circumference around a point in EPSG:4326, functions are required to calculate this.\n",
    "- A function to find a single point on the circumference (within a given tolerance)\n",
    "- A function to find multiple points all around the circumference, sufficient for plotting the circle"
   ]
  },
  {
   "cell_type": "code",
   "execution_count": 6,
   "metadata": {
    "scrolled": true
   },
   "outputs": [],
   "source": [
    "def GetXYatCircumference(centre, desired_radius, theta, tolerance = 0.00001):\n",
    "    '''Calculates the X,Y coordinates of a point on the circumference of a circle, \n",
    "    with a given desired radius and angle to the vertical.\n",
    "    \n",
    "    Theta in radians\n",
    "    '''\n",
    "    \n",
    "    #Initialise x,y coordinates\n",
    "    x = centre[0]\n",
    "    y = centre[1]\n",
    "\n",
    "    \n",
    "    #Set initial increment values\n",
    "        #If we are working in the lower two quadrants, i.e. where y will be less than centre y\n",
    "    if theta > pi/2 and theta < (3*pi)/2:\n",
    "        y_increment=-0.01\n",
    "    else:\n",
    "        y_increment=0.01\n",
    "\n",
    "        \n",
    "    #Loop until the radius of the point and centre, is close to the desired radius\n",
    "    while isclose(distance.distance(centre, [x,y]).kilometers,  desired_radius ,rel_tol=0.00001) == False:\n",
    "\n",
    "        # Add the increment whilst the distance is less than desired\n",
    "        while distance.distance(centre, [x,y]) < desired_radius:\n",
    "            x_increment = y_increment * tan(theta)\n",
    "            x += x_increment\n",
    "            y += y_increment\n",
    "\n",
    "        # Subtract the increment whilst the distance is more than desired\n",
    "        while distance.distance(centre, [x,y]) > desired_radius:\n",
    "            x_increment = y_increment * tan(theta)\n",
    "            x -= x_increment\n",
    "            y -= y_increment\n",
    "\n",
    "        #Reduce the size of the increment to increase precision  \n",
    "        y_increment = y_increment/4\n",
    "\n",
    "    return [x,y]"
   ]
  },
  {
   "cell_type": "code",
   "execution_count": 7,
   "metadata": {},
   "outputs": [
    {
     "data": {
      "text/plain": [
       "([0.0, 0.015637707705740515, -0.015637707705740488, 0.0],\n",
       " [0.01796615600585938,\n",
       "  -0.009028434753417969,\n",
       "  -0.009028434753417969,\n",
       "  0.01796615600585938])"
      ]
     },
     "execution_count": 7,
     "metadata": {},
     "output_type": "execute_result"
    }
   ],
   "source": [
    "def GetCircumferenceXY(centre, radius, n_points, tolerance = 0.00001):\n",
    "    '''Calculates x,y coordinates of a specified number points on the circumference of a \n",
    "    circle with a specified centre    \n",
    "    \n",
    "    NB: n_points must odd, to ensure we do not get a trig erro\n",
    "    '''\n",
    "    assert n_points % 2 != 0, \"n_points must not be an even number - gives a trig error\"\n",
    "\n",
    "    # The angle between each radius        \n",
    "    theta_increment = (2*pi)/n_points\n",
    "\n",
    "    # The angles of all the radii we will use\n",
    "    thetas = [theta_increment * i for i in range(n_points)]\n",
    "    \n",
    "    # Get a list of all calculated XYs on the circumference\n",
    "    xys = [GetXYatCircumference(centre, radius,theta_i,tolerance) for theta_i in  thetas]\n",
    "    \n",
    "    # Create a full 'loop' so the first and last points are the same - Polygon\n",
    "    xys.append(xys[0])\n",
    "    \n",
    "    \n",
    "    xs = [xy[0] for xy in xys]\n",
    "    ys = [xy[1] for xy in xys]\n",
    "    \n",
    "    return xs, ys\n",
    "\n",
    "GetCircumferenceXY([0,0], 2, 3)"
   ]
  },
  {
   "cell_type": "markdown",
   "metadata": {},
   "source": [
    "### Well Concept Relative Position\n",
    "i.e. Are Well Concepts within specified radii around a point?"
   ]
  },
  {
   "cell_type": "code",
   "execution_count": 40,
   "metadata": {},
   "outputs": [],
   "source": [
    "def BinByDistances(pointsToRank, centre, distBins):\n",
    "    '''Well Concepts are ranked according to binned distance from platform. i.e. \n",
    "    Given input distances [0,2,5], the function will return a list of rankings where:\n",
    "    0 indicates Well Concept is more than 5 km from platform\n",
    "    1 indictates Well Concept is between 2 and 5 km from platform... etc\n",
    "    '''\n",
    "    #Radii must be ordered, i.e. [0,2,5]\n",
    "    distBins = np.sort(distBins)\n",
    "    \n",
    "    num_bins = len(distBins)\n",
    "\n",
    "    #calculate distances of all well concepts from platform \n",
    "    distances = [distance.distance(point_i, centre) for point_i in pointsToRank] #Karney 2013 distance\n",
    "    \n",
    "    distances = np.reshape(distances,[-1])\n",
    "\n",
    "    \n",
    "    #Reverse ranking - where 0 is closest to platform\n",
    "    revranks = np.digitize(distances, distBins, right = False) #i.e. includes left bound = 0\n",
    "\n",
    "    # Ranking - where 0 is furthest from platform\n",
    "    ranking = [num_bins - revrank for revrank in revranks]\n",
    "    \n",
    "    return ranking"
   ]
  },
  {
   "cell_type": "code",
   "execution_count": 54,
   "metadata": {},
   "outputs": [
    {
     "name": "stdout",
     "output_type": "stream",
     "text": [
      "[2, 0, 1, 2, 2]\n"
     ]
    }
   ],
   "source": [
    "a = BinByDistances(tempwc, [0,0], [0,2,2.2])\n",
    "b = BinByDistances(tempwc, [0,4], [0,200,300])\n",
    "print([max(i) for i in zip(a,b)])"
   ]
  },
  {
   "cell_type": "code",
   "execution_count": 35,
   "metadata": {},
   "outputs": [],
   "source": [
    "dct_colors = {0: \"#808080\",\n",
    "          1:\"#FF8000\",\n",
    "          2:\"#00CC00\"}"
   ]
  },
  {
   "cell_type": "code",
   "execution_count": 275,
   "metadata": {},
   "outputs": [],
   "source": [
    "def GetWCRanks(wcpoints, plat_points,radii):\n",
    "    '''\n",
    "    Given the rank of Well Concepts, this derives the appropriate color for them\n",
    "    \n",
    "    If a WC has a rank of 3 (i.e. very close) with a platform, but a rank of 0 (i.e. far) from another platform, we \n",
    "    only care about the ranking of 3\n",
    "    '''\n",
    "    #Subset the WCs to only those which are on the creaming curve\n",
    "    #A list for each platform, in which each WC is given a rank/bin\n",
    "    WC_rank_by_platform = []\n",
    "    \n",
    "    for plat_point in plat_points:\n",
    "        WC_rank_by_platform.append(BinByDistances([(a[0], a[1]) for a in wcpoints],plat_point,radii) )\n",
    "\n",
    "    WC_best_rank = [max(WC_ranks)   for WC_ranks in zip(*WC_rank_by_platform)]\n",
    "    \n",
    "    \n",
    "    return WC_best_rank  "
   ]
  },
  {
   "cell_type": "markdown",
   "metadata": {},
   "source": [
    "## Map Construction"
   ]
  },
  {
   "cell_type": "markdown",
   "metadata": {},
   "source": [
    "https://towardsdatascience.com/walkthrough-mapping-basics-with-bokeh-and-geopandas-in-python-43f40aa5b7e9"
   ]
  },
  {
   "cell_type": "code",
   "execution_count": 276,
   "metadata": {},
   "outputs": [],
   "source": [
    "import json\n",
    "from bokeh.models.widgets import Slider\n",
    "\n",
    "from bokeh.io import output_file, show, save\n",
    "\n",
    "from bokeh.models import (CDSView, ColorBar, ColumnDataSource,\n",
    "                          CustomJS, CustomJSFilter, \n",
    "                          GeoJSONDataSource, HoverTool, LabelSet,\n",
    "                          LinearColorMapper, Slider)\n",
    "from bokeh.layouts import column, row, widgetbox\n",
    "from bokeh.palettes import brewer\n",
    "from bokeh.plotting import figure\n",
    "# Input GeoJSON source that contains features for plotting\n",
    "from bokeh.models.markers import SquareCross\n",
    "\n",
    "\n",
    "from bokeh.layouts import column, row, WidgetBox\n",
    "from bokeh.models import Panel\n",
    "from bokeh.models.widgets import Tabs"
   ]
  },
  {
   "cell_type": "code",
   "execution_count": 307,
   "metadata": {},
   "outputs": [],
   "source": [
    "lon_min = -60.64\n",
    "lon_max = -60.1\n",
    "lat_min = 9.85\n",
    "lat_max = 10.5\n",
    "n_concepts = 100\n",
    "\n",
    "WC_name, WC_points, WC_resource = GenerateWCs(gdf_targPoly, n_concepts, lon_min, lon_max, lat_min, lat_max)\n",
    "\n",
    "#Defaults\n",
    "radiusinner=1\n",
    "radiusouter=1.1\n",
    "\n",
    "\n",
    "plat_points = [[-60.32, 10.07], [-60.335, 10.105]]\n",
    "plat_name = [\"Platform Roger 29\", \"Platform Quartz 5\"]\n",
    "\n",
    "\n",
    "#Any calculations based on the above defaults\n",
    "\n",
    "_ = GetWCRanks(WC_points,plat_points, [0,radiusinner,radiusouter])\n",
    "WC_colors = [dct_colors[wcrank] for wcrank in _]  \n",
    "\n",
    "\n",
    "\n",
    "\n",
    "innerstepoutsx = []\n",
    "innerstepoutsy = []\n",
    "\n",
    "for plat_point in plat_points:\n",
    "    innerstepoutx, innerstepouty = GetCircumferenceXY(plat_point,radiusinner , 401)\n",
    "    innerstepoutsx.append(np.array(innerstepoutx[:-1]))\n",
    "    innerstepoutsy.append(np.array(innerstepouty[:-1]))\n",
    "\n",
    "outerstepoutsx = []\n",
    "outerstepoutsy = []\n",
    "\n",
    "for plat_point in plat_points:\n",
    "    outerstepoutx, outerstepouty = GetCircumferenceXY(plat_point,radiusouter , 401)\n",
    "    outerstepoutsx.append(np.array(outerstepoutx[:-1]))\n",
    "    outerstepoutsy.append(np.array(outerstepouty[:-1]))\n",
    "    \n"
   ]
  },
  {
   "cell_type": "code",
   "execution_count": null,
   "metadata": {},
   "outputs": [],
   "source": []
  },
  {
   "cell_type": "code",
   "execution_count": null,
   "metadata": {},
   "outputs": [],
   "source": []
  },
  {
   "cell_type": "code",
   "execution_count": null,
   "metadata": {},
   "outputs": [],
   "source": []
  },
  {
   "cell_type": "markdown",
   "metadata": {},
   "source": [
    "### Bokeh Map"
   ]
  },
  {
   "cell_type": "code",
   "execution_count": 315,
   "metadata": {},
   "outputs": [],
   "source": [
    "\n",
    "\n",
    "# Create figure object.\n",
    "p = figure(title = 'Polygons', \n",
    "           plot_height = 600 ,\n",
    "           plot_width = 950, \n",
    "           toolbar_location = 'below',\n",
    "           tools = \"pan, wheel_zoom, box_zoom, reset\",\n",
    "           active_scroll = \"wheel_zoom\",\n",
    "            x_range=(lon_min, lon_max),\n",
    "            y_range=(lat_min, lat_max),          \n",
    "          )\n",
    "p.xgrid.grid_line_color = None\n",
    "p.ygrid.grid_line_color = None\n",
    "\n",
    "\n",
    "\n",
    "# TARGET LAYER #\n",
    "# Data Source\n",
    "ds_targ = GeoJSONDataSource(geojson = gdf_targPoly[['target_id', 'target_name', 'polygon']].to_json())\n",
    "\n",
    "# Bokeh Layer\n",
    "p_targ = p.patches('xs','ys', source = ds_targ,\n",
    "                   fill_color = \"lightskyblue\",\n",
    "                   line_color = \"blue\", \n",
    "                   line_width = 0.1, \n",
    "                   fill_alpha = 0.2)\n",
    "\n",
    "\n",
    "#PLATFORM LAYER #\n",
    "platx = [a[0] for a in plat_points]\n",
    "platy = [a[1] for a in plat_points]\n",
    "\n",
    "\n",
    "# Data Source \n",
    "ds_plat = ColumnDataSource({'x':platx, 'y':platy, 'name': plat_name})\n",
    "# Bokeh Layer\n",
    "p_plat = p.diamond_cross(\"x\", \"y\", size=20, source=ds_plat,\n",
    "         line_color=\"black\", fill_alpha=0.8)\n",
    "# Label layer\n",
    "labels = LabelSet(x=\"x\", y=\"y\", text=\"name\", y_offset=8,\n",
    "                  text_font_size=\"8pt\", text_color=\"#555555\",\n",
    "                  source=ds_plat, text_align='center')\n",
    "p.add_layout(labels)\n",
    "\n",
    "\n",
    "\n",
    "\n",
    "\n",
    "#PLATFORM INNER STEP-OUT INNER #\n",
    "#Data Source\n",
    "source_step_inner = ColumnDataSource({'x':innerstepoutsx, 'y':innerstepoutsy})\n",
    "\n",
    "#Bokeh layer\n",
    "p_step_inner = p.patches('x','y', source = source_step_inner,\n",
    "                   fill_color = None,\n",
    "                   line_color = \"#00CC00\", \n",
    "                   line_width = 2, \n",
    "                   fill_alpha = 1)\n",
    "\n",
    "#PLATFORM STEP-OUT OUTER #\n",
    "source_step_outer = ColumnDataSource({'x':outerstepoutsx, 'y':outerstepoutsy})\n",
    "\n",
    "p_step_outer = p.patches('x','y', source = source_step_outer,\n",
    "                   fill_color = None,\n",
    "                   line_color = \"#FF8000\", \n",
    "                   line_width = 1, \n",
    "                   fill_alpha = 0.1)\n",
    "\n",
    "# WELL CONCEPTS\n",
    "wcx = [a[0] for a in WC_points]\n",
    "wcy = [a[1] for a in WC_points]\n",
    "ds_wc = ColumnDataSource({'x':wcx, 'y':wcy, 'name':WC_name, 'resource':WC_resource, 'hex': WC_colors})\n",
    "\n",
    "p_wc = p.circle(\"x\", \"y\", size=5, source=ds_wc,\n",
    "         color='hex', line_color=\"black\", fill_alpha=0.8)\n",
    "\n",
    "labels = LabelSet(x=\"x\", y=\"y\", text=\"name\", y_offset=8,\n",
    "                  text_font_size=\"8pt\", text_color=\"#555555\",\n",
    "                  source=ds_wc, text_align='center')\n",
    "p.add_layout(labels)\n",
    "\n",
    "# Create hover tool\n",
    "p.add_tools(HoverTool(renderers = [p_wc],\n",
    "                      tooltips = [('Well Concept','@name'),\n",
    "                                ('Resource','@resource')]))"
   ]
  },
  {
   "cell_type": "markdown",
   "metadata": {},
   "source": [
    "### MPL Bar Chart - Creaming Curve"
   ]
  },
  {
   "cell_type": "code",
   "execution_count": 316,
   "metadata": {},
   "outputs": [],
   "source": [
    "#Subset the WCs to only those which are on the creaming curve\n",
    "WC_rank = GetWCRanks([(a[0], a[1]) for a in WC_points],plat_points,[0,radiusinner, radiusouter])\n",
    "\n",
    "#Construct dataframe of all well concepts\n",
    "df_WC = pd.DataFrame({\"Well Concept\": WC_name,\"Resource\": WC_resource, \"Rank\":WC_rank})\n",
    "\n",
    "#Reduce to df of well concepts on Creaming Curve (i.e. within the radii)\n",
    "df_WC_cc = df_WC[df_WC['Rank'] != 0].copy()\n",
    "\n",
    "#Map ranks to colors\n",
    "df_WC_cc.loc[:,'Color'] = df_WC_cc['Rank'].map(lambda x: dct_colors[x])\n",
    "\n",
    "df_WC_cc.sort_values(by=\"Resource\", inplace=True, ascending=False)\n",
    "\n",
    "b = figure(x_range=df_WC_cc['Well Concept'], plot_height=250, title=\"Creaming Curve\")\n",
    "b.vbar(x=df_WC_cc['Well Concept'], top=df_WC_cc['Resource'], color=df_WC_cc['Color'], width=0.9)\n",
    "\n",
    "b.xgrid.grid_line_color = None\n",
    "b.y_range.start = 0\n",
    "\n"
   ]
  },
  {
   "cell_type": "markdown",
   "metadata": {},
   "source": [
    "### Create Bokeh Layout"
   ]
  },
  {
   "cell_type": "code",
   "execution_count": 317,
   "metadata": {},
   "outputs": [
    {
     "data": {
      "text/plain": [
       "'/Users/Pri.balachandran@ibm.com/Desktop/BP/20191106_PlatformWCAnalysis/p.html'"
      ]
     },
     "execution_count": 317,
     "metadata": {},
     "output_type": "execute_result"
    }
   ],
   "source": [
    "output_file(\"p.html\")\n",
    "\n",
    "# Create a row, with control panel and plot\n",
    "layout = row(p, b)\n",
    "\n",
    "# Make a tab with the layout \n",
    "tab = Panel(child=layout, title = 'Geospatial PoC')\n",
    "tabs = Tabs(tabs=[tab])\n",
    "\n",
    "save(tabs)"
   ]
  },
  {
   "cell_type": "code",
   "execution_count": null,
   "metadata": {},
   "outputs": [],
   "source": []
  },
  {
   "cell_type": "code",
   "execution_count": 221,
   "metadata": {},
   "outputs": [],
   "source": [
    "N = 9\n",
    "x = np.linspace(-2, 2, N)\n",
    "y = x**2\n",
    "\n",
    "xpts = np.array([-.09, -.12, .0, .12,  .09])\n",
    "ypts = np.array([-.1,   .02, .1, .02, -.1])\n",
    "\n",
    "\n",
    "\n",
    "\n",
    "xs=[xpts*(1+i/10.0)+xx for i, xx in enumerate(x)]\n",
    "ys=[ypts*(1+i/10.0)+yy for i, yy in enumerate(y)]"
   ]
  },
  {
   "cell_type": "code",
   "execution_count": 243,
   "metadata": {},
   "outputs": [
    {
     "data": {
      "text/plain": [
       "[array([-2.09, -2.12, -2.  , -1.88, -1.91]),\n",
       " array([-1.599, -1.632, -1.5  , -1.368, -1.401]),\n",
       " array([-1.108, -1.144, -1.   , -0.856, -0.892]),\n",
       " array([-0.617, -0.656, -0.5  , -0.344, -0.383]),\n",
       " array([-0.126, -0.168,  0.   ,  0.168,  0.126]),\n",
       " array([0.365, 0.32 , 0.5  , 0.68 , 0.635]),\n",
       " array([0.856, 0.808, 1.   , 1.192, 1.144]),\n",
       " array([1.347, 1.296, 1.5  , 1.704, 1.653]),\n",
       " array([1.838, 1.784, 2.   , 2.216, 2.162])]"
      ]
     },
     "execution_count": 243,
     "metadata": {},
     "output_type": "execute_result"
    }
   ],
   "source": [
    "xs"
   ]
  },
  {
   "cell_type": "code",
   "execution_count": 245,
   "metadata": {},
   "outputs": [
    {
     "data": {
      "text/plain": [
       "array([-60.335     , -60.33471645, -60.3344336 , -60.33415217,\n",
       "       -60.33387283, -60.33359625, -60.33332304, -60.33305377,\n",
       "       -60.33278902, -60.33252928, -60.33227495, -60.33202645,\n",
       "       -60.33178409, -60.3315482 , -60.33131894, -60.3310965 ,\n",
       "       -60.330881  , -60.33067255, -60.33047118, -60.33027683,\n",
       "       -60.33008955, -60.32990919, -60.32973567, -60.32956891,\n",
       "       -60.32940869, -60.32925497, -60.32910748, -60.32896612,\n",
       "       -60.32883062, -60.32870086, -60.32857663, -60.32845764,\n",
       "       -60.32834383, -60.32823489, -60.32813073, -60.32803108,\n",
       "       -60.32793576, -60.32784457, -60.32775739, -60.327674  ,\n",
       "       -60.32759429, -60.32751804, -60.32744516, -60.3273754 ,\n",
       "       -60.32730874, -60.32724489, -60.32718393, -60.32712551,\n",
       "       -60.32706967, -60.32701628, -60.32696513, -60.32691622,\n",
       "       -60.32686945, -60.32682464, -60.3267818 , -60.32674076,\n",
       "       -60.32670155, -60.32666403, -60.32662805, -60.32659367,\n",
       "       -60.32656079, -60.32652932, -60.32649924, -60.32647045,\n",
       "       -60.32644293, -60.32641659, -60.32639147, -60.32636745,\n",
       "       -60.32634456, -60.32632267, -60.32630178, -60.32628188,\n",
       "       -60.32626291, -60.32624479, -60.32622763, -60.32621128,\n",
       "       -60.32619577, -60.32618102, -60.32616709, -60.32615391,\n",
       "       -60.32614145, -60.32612971, -60.32611868, -60.32610832,\n",
       "       -60.32609862, -60.3260896 , -60.32608113, -60.32607335,\n",
       "       -60.32606623, -60.32605962, -60.32605361, -60.32604822,\n",
       "       -60.32604345, -60.32603918, -60.32603542, -60.3260323 ,\n",
       "       -60.32602971, -60.32602771, -60.32602619, -60.32602521,\n",
       "       -60.3260248 , -60.32602497, -60.32602568, -60.32602687,\n",
       "       -60.32602868, -60.32603094, -60.32603385, -60.32603724,\n",
       "       -60.32604121, -60.32604579, -60.32605083, -60.32605653,\n",
       "       -60.32606281, -60.32606967, -60.32607716, -60.32608528,\n",
       "       -60.32609404, -60.32610341, -60.32611341, -60.3261241 ,\n",
       "       -60.32613553, -60.32614762, -60.32616043, -60.32617402,\n",
       "       -60.32618833, -60.32620344, -60.32621931, -60.32623609,\n",
       "       -60.32625375, -60.32627228, -60.32629165, -60.32631211,\n",
       "       -60.32633348, -60.32635585, -60.32637929, -60.32640388,\n",
       "       -60.32642962, -60.32645653, -60.32648464, -60.32651409,\n",
       "       -60.32654485, -60.32657705, -60.32661064, -60.32664581,\n",
       "       -60.32668254, -60.32672094, -60.32676105, -60.32680297,\n",
       "       -60.32684679, -60.32689255, -60.32694045, -60.3269904 ,\n",
       "       -60.32704267, -60.32709729, -60.32715438, -60.32721411,\n",
       "       -60.32727643, -60.32734171, -60.32740985, -60.32748121,\n",
       "       -60.32755573, -60.32763368, -60.32771527, -60.32780049,\n",
       "       -60.32788966, -60.32798283, -60.32808032, -60.32818221,\n",
       "       -60.32828876, -60.32840012, -60.32851648, -60.32863804,\n",
       "       -60.32876504, -60.32889769, -60.32903605, -60.32918048,\n",
       "       -60.32933104, -60.32948797, -60.32965144, -60.32982159,\n",
       "       -60.32999849, -60.33018233, -60.3303731 , -60.33057099,\n",
       "       -60.33077591, -60.33098786, -60.33120684, -60.3314327 ,\n",
       "       -60.33166532, -60.33190447, -60.33214995, -60.33240139,\n",
       "       -60.3326585 , -60.3329208 , -60.33318788, -60.33345917,\n",
       "       -60.33373415, -60.33401219, -60.33429266, -60.33457489,\n",
       "       -60.33485818, -60.33514182, -60.33542512, -60.33570735,\n",
       "       -60.33598783, -60.33626589, -60.33654089, -60.33681222,\n",
       "       -60.33707933, -60.33734167, -60.33759879, -60.33785028,\n",
       "       -60.33809578, -60.33833498, -60.33856763, -60.33879351,\n",
       "       -60.33901251, -60.33922453, -60.33942948, -60.33962735,\n",
       "       -60.3398182 , -60.34000206, -60.340179  , -60.34034912,\n",
       "       -60.34051256, -60.34066953, -60.3408201 , -60.34096455,\n",
       "       -60.34110295, -60.34123556, -60.34136257, -60.34148416,\n",
       "       -60.34160051, -60.34171184, -60.34181838, -60.34192023,\n",
       "       -60.34201774, -60.34211093, -60.3422001 , -60.34228534,\n",
       "       -60.34236684, -60.34244475, -60.34251934, -60.34259063,\n",
       "       -60.34265878, -60.34272402, -60.34278639, -60.34284606,\n",
       "       -60.34290314, -60.34295776, -60.34300997, -60.34305998,\n",
       "       -60.34310781, -60.34315354, -60.34319737, -60.34323926,\n",
       "       -60.34327938, -60.34331774, -60.34335443, -60.3433896 ,\n",
       "       -60.3434232 , -60.34345537, -60.34348613, -60.34351553,\n",
       "       -60.34354365, -60.34357056, -60.34359631, -60.34362084,\n",
       "       -60.34364428, -60.34366666, -60.34368804, -60.34370842,\n",
       "       -60.34372788, -60.34374641, -60.34376399, -60.34378078,\n",
       "       -60.34379665, -60.34381176, -60.34382609, -60.34383965,\n",
       "       -60.34385247, -60.34386456, -60.3438759 , -60.34388659,\n",
       "       -60.34389659, -60.34390596, -60.34391476, -60.34392284,\n",
       "       -60.34393033, -60.34393719, -60.34394347, -60.34394917,\n",
       "       -60.34395421, -60.34395879, -60.34396276, -60.34396615,\n",
       "       -60.34396906, -60.34397132, -60.34397313, -60.34397432,\n",
       "       -60.34397503, -60.34397516, -60.34397476, -60.34397381,\n",
       "       -60.34397229, -60.34397029, -60.3439677 , -60.34396458,\n",
       "       -60.34396082, -60.34395655, -60.34395178, -60.34394639,\n",
       "       -60.34394038, -60.34393377, -60.34392665, -60.34391887,\n",
       "       -60.3439104 , -60.34390142, -60.34389171, -60.34388135,\n",
       "       -60.34387032, -60.34385858, -60.34384609, -60.34383291,\n",
       "       -60.34381898, -60.34380433, -60.34378881, -60.34377245,\n",
       "       -60.34375529, -60.34373725, -60.34371828, -60.34369837,\n",
       "       -60.34367747, -60.34365558, -60.34363269, -60.34360872,\n",
       "       -60.3435836 , -60.34355725, -60.34352978, -60.34350099,\n",
       "       -60.34347089, -60.34343942, -60.34340659, -60.34337219,\n",
       "       -60.3433363 , -60.34329877, -60.3432595 , -60.34321854,\n",
       "       -60.3431757 , -60.34313087, -60.34308413, -60.34303525,\n",
       "       -60.34298416, -60.34293076, -60.34287491, -60.34281657,\n",
       "       -60.3427555 , -60.34269177, -60.34262512, -60.3425554 ,\n",
       "       -60.34248244, -60.34240626, -60.34232653, -60.34224318,\n",
       "       -60.34215603, -60.34206482, -60.34196955, -60.3418699 ,\n",
       "       -60.34176572, -60.34165675, -60.34154292, -60.34142399,\n",
       "       -60.34129974, -60.34116997, -60.3410345 , -60.34089311,\n",
       "       -60.3407456 , -60.34059185, -60.34043167, -60.34026488,\n",
       "       -60.34009139, -60.33991099, -60.33972364, -60.33952931,\n",
       "       -60.33932787, -60.33911939, -60.3389039 , -60.33868143,\n",
       "       -60.33845212, -60.33821617, -60.33797379, -60.33772526,\n",
       "       -60.33747089, -60.33721111, -60.33694633, -60.33667705,\n",
       "       -60.33640381, -60.33612721, -60.33584785, -60.33556641,\n",
       "       -60.33528356])"
      ]
     },
     "execution_count": 245,
     "metadata": {},
     "output_type": "execute_result"
    }
   ],
   "source": [
    "stepoutsx[1]"
   ]
  }
 ],
 "metadata": {
  "kernelspec": {
   "display_name": "Python 3 geo plot kern",
   "language": "python",
   "name": "py36-geographicplotting"
  },
  "language_info": {
   "codemirror_mode": {
    "name": "ipython",
    "version": 3
   },
   "file_extension": ".py",
   "mimetype": "text/x-python",
   "name": "python",
   "nbconvert_exporter": "python",
   "pygments_lexer": "ipython3",
   "version": "3.6.9"
  }
 },
 "nbformat": 4,
 "nbformat_minor": 2
}
