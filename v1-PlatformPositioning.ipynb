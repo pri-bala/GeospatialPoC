{
 "cells": [
  {
   "cell_type": "markdown",
   "metadata": {},
   "source": [
    "# Platform Positioning"
   ]
  },
  {
   "cell_type": "code",
   "execution_count": 12,
   "metadata": {},
   "outputs": [],
   "source": [
    "from __future__ import print_function"
   ]
  },
  {
   "cell_type": "code",
   "execution_count": 13,
   "metadata": {},
   "outputs": [],
   "source": [
    "import random as random\n",
    "import numpy as np\n",
    "import pandas as pd\n",
    "from matplotlib import pyplot as plt\n",
    "\n",
    "from ipywidgets import interact, interactive, fixed, interact_manual\n",
    "import ipywidgets as widgets\n",
    "\n",
    "from sklearn.metrics import euclidean_distances"
   ]
  },
  {
   "cell_type": "markdown",
   "metadata": {},
   "source": [
    "###  Generate Well Concept Data"
   ]
  },
  {
   "cell_type": "code",
   "execution_count": 14,
   "metadata": {},
   "outputs": [],
   "source": [
    "from dummydatacreator import  GenerateWellConcept # This is not supported in Azure notebooks"
   ]
  },
  {
   "cell_type": "code",
   "execution_count": 15,
   "metadata": {
    "scrolled": true
   },
   "outputs": [],
   "source": [
    "num_of_concepts = 30\n",
    "\n",
    "region_x_min = -60.62\n",
    "region_x_max = -59.98\n",
    "region_y_min = 9.87\n",
    "region_y_max = 10.45\n",
    "WellConcepts = [GenerateWellConcept(region_x_min, region_x_max, region_y_min, region_y_max) for i in range(num_of_concepts)]"
   ]
  },
  {
   "cell_type": "code",
   "execution_count": 16,
   "metadata": {
    "scrolled": true
   },
   "outputs": [],
   "source": [
    "WC_name, WC_points, WC_resource = list(zip(*WellConcepts))"
   ]
  },
  {
   "cell_type": "code",
   "execution_count": 17,
   "metadata": {},
   "outputs": [
    {
     "name": "stdout",
     "output_type": "stream",
     "text": [
      "['W-21', [-60.55019571355951, 10.040057708338125], 133.15926734094336]\n"
     ]
    }
   ],
   "source": [
    "print(WellConcepts[0])"
   ]
  },
  {
   "cell_type": "markdown",
   "metadata": {},
   "source": [
    "### Well Concept / Platform Intersection"
   ]
  },
  {
   "cell_type": "code",
   "execution_count": 20,
   "metadata": {},
   "outputs": [
    {
     "name": "stdout",
     "output_type": "stream",
     "text": [
      "False\n"
     ]
    }
   ],
   "source": [
    "def ArePointsCloseTogether(pointA, pointB, distance):\n",
    "    return (euclidean_distances([pointA], [pointB]) <= distance)[0][0]\n",
    "\n",
    "print(ArePointsCloseTogether([10,2], [0,0], 10))"
   ]
  },
  {
   "cell_type": "code",
   "execution_count": 19,
   "metadata": {},
   "outputs": [],
   "source": [
    "def AreWCsCloseToPlatforom(WellConceptsXY, PlatformXY, distance):    \n",
    "    return [ArePointsCloseTogether(wcXY, PlatformXY, distance) for wcXY in WellConceptsXY]"
   ]
  },
  {
   "cell_type": "markdown",
   "metadata": {},
   "source": [
    "## Plotting"
   ]
  },
  {
   "cell_type": "code",
   "execution_count": 21,
   "metadata": {},
   "outputs": [],
   "source": [
    "def plot_WC_Platform(WC_XY,WC_name, WC_res: np.array, plat_x, plat_y, plat_name, innerradius, outerradius, figsize):\n",
    "\n",
    "    '''\n",
    "    Plots Well Concepts and Platforms in Euclidean geometry\n",
    "    '''\n",
    "    \n",
    "    \n",
    "    #Unpack XY coordinates\n",
    "    WC_x = [XY[0]for XY in WC_points] \n",
    "    WC_y = [XY[1]for XY in WC_points]\n",
    "    \n",
    "\n",
    "    fig, ax = plt.subplots(figsize=figsize)\n",
    "\n",
    "    \n",
    "    platform_radius = plt.Circle((plat_x, plat_y), radius = outerradius,fill=True,color='#FF8000', zorder=0 )\n",
    "    ax.add_artist(platform_radius)\n",
    "    \n",
    "    platform_radius = plt.Circle((plat_x, plat_y), radius = innerradius,fill=True,color='#00CC00', zorder=1 )\n",
    "    ax.add_artist(platform_radius)\n",
    "    \n",
    "    ax.scatter(plat_x, plat_y, marker = 'x', s=1000, zorder=2 )\n",
    "   \n",
    "\n",
    "    \n",
    "    scatter = ax.scatter(WC_x, WC_y, c = WC_res, cmap=\"winter\", s=100, label=WC_res, zorder=2)\n",
    "    \n",
    "    fig.colorbar(scatter, ax=ax)\n",
    "\n",
    "    \n",
    "    for i, x in enumerate(WC_x):\n",
    "        ax.annotate(WC_name[i], ([WC_x[i], WC_y[i]]), zorder=2)\n",
    "\n",
    "    ax.annotate(plat_name, (plat_x, plat_y))\n",
    "    plt.show()"
   ]
  },
  {
   "cell_type": "code",
   "execution_count": 22,
   "metadata": {},
   "outputs": [
    {
     "data": {
      "image/png": "[encoded data removed]",
      "text/plain": [
       "<Figure size 720x720 with 1 Axes>"
      ]
     },
     "metadata": {
      "needs_background": "light"
     },
     "output_type": "display_data"
    }
   ],
   "source": [
    "def CreamMe(plat_x, plat_y, innerradius, outerradius, figsize):\n",
    "    WC_within_inner = AreWCsCloseToPlatforom(WC_points,[plat_x, plat_y], innerradius)\n",
    "    WC_within_outer = AreWCsCloseToPlatforom(WC_points,[plat_x, plat_y], outerradius)\n",
    "    WC_between = [~WC_within_inner[i] * WC_within_outer[i] for i in range(len(WC_within_outer))]\n",
    "    \n",
    "    col_inner = [\"#00CC00\"]\n",
    "    \n",
    "    \n",
    "    fig, ax = plt.subplots(figsize=figsize)    \n",
    "\n",
    "    dfinner = pd.DataFrame({\"Well Concept\": WC_name,\"Resource\": WC_resource})[WC_within_inner].sort_values(by=\"Resource\",ascending=False)\n",
    "    dfbetween = pd.DataFrame({\"Well Concept\": WC_name,\"Resource\": WC_resource})[WC_between].sort_values(by=\"Resource\",ascending=False)\n",
    "    \n",
    "    ax.bar(dfinner['Well Concept'], dfinner['Resource'], color='#00CC00')\n",
    "    ax.bar(dfbetween['Well Concept'], dfbetween['Resource'], color='#FF8000')\n",
    "\n",
    "    ax.set_xlabel(\"Well Concept Name\")\n",
    "    ax.set_ylabel(\"Resource\")\n",
    "\n",
    "    plt.show()\n",
    "\n",
    "CreamMe(-60.16, 10.07, 0.1,0.2,(10,10))"
   ]
  },
  {
   "cell_type": "code",
   "execution_count": null,
   "metadata": {},
   "outputs": [],
   "source": [
    "def CreamMe(plat_x, plat_y, innerradius, outerradius, figsize):\n",
    "    WC_within_inner = AreWCsCloseToPlatforom(WC_points,[plat_x, plat_y], innerradius)\n",
    "    WC_within_outer = AreWCsCloseToPlatforom(WC_points,[plat_x, plat_y], outerradius)\n",
    "    WC_between = [~WC_within_inner[i] * WC_within_outer[i] for i in range(len(WC_within_outer))]\n",
    "    \n",
    "    col_inner = [\"#00CC00\" for ]\n",
    "    \n",
    "    \n",
    "    fig, ax = plt.subplots(figsize=figsize)    \n",
    "\n",
    "    dfinner = pd.DataFrame({\"Well Concept\": WC_name,\"Resource\": WC_resource})[WC_within_inner].sort_values(by=\"Resource\",ascending=False)\n",
    "    dfbetween = pd.DataFrame({\"Well Concept\": WC_name,\"Resource\": WC_resource})[WC_between].sort_values(by=\"Resource\",ascending=False)\n",
    "    \n",
    "    ax.bar(dfinner['Well Concept'], dfinner['Resource'], color='#00CC00')\n",
    "    ax.bar(dfbetween['Well Concept'], dfbetween['Resource'], color='#FF8000')\n",
    "\n",
    "    ax.set_xlabel(\"Well Concept Name\")\n",
    "    ax.set_ylabel(\"Resource\")\n",
    "\n",
    "    plt.show()\n",
    "\n",
    "CreamMe(-60.16, 10.07, 0.1,0.2,(10,10))"
   ]
  },
  {
   "cell_type": "code",
   "execution_count": null,
   "metadata": {},
   "outputs": [],
   "source": []
  },
  {
   "cell_type": "code",
   "execution_count": null,
   "metadata": {},
   "outputs": [],
   "source": [
    "                    "
   ]
  },
  {
   "cell_type": "code",
   "execution_count": null,
   "metadata": {},
   "outputs": [],
   "source": []
  },
  {
   "cell_type": "code",
   "execution_count": 84,
   "metadata": {},
   "outputs": [],
   "source": [
    "userInputs = [widgets.BoundedFloatText(\n",
    "    value=round(region_x_min +(random.random()*(region_x_max-region_x_min)), 2 ),\n",
    "    min=region_x_min,\n",
    "    max=region_x_max,\n",
    "    step=0.01,\n",
    "    description='X:',\n",
    "    disabled=False\n",
    "),\n",
    "widgets.BoundedFloatText(\n",
    "    value=round(region_y_min +(random.random()*(region_y_max-region_y_min)), 2 ),\n",
    "    min=region_y_min,\n",
    "    max=region_y_max,\n",
    "    step=0.01,\n",
    "    description='Y:',\n",
    "    disabled=False\n",
    "),\n",
    "  widgets.BoundedFloatText(\n",
    "    value=0.05,\n",
    "    min=0.01,\n",
    "    max=100,\n",
    "    step=0.01,\n",
    "    description='Radius:',\n",
    "    disabled=False\n",
    ")]\n",
    "\n"
   ]
  },
  {
   "cell_type": "code",
   "execution_count": null,
   "metadata": {},
   "outputs": [],
   "source": []
  },
  {
   "cell_type": "code",
   "execution_count": 85,
   "metadata": {
    "scrolled": false
   },
   "outputs": [
    {
     "data": {
      "application/vnd.jupyter.widget-view+json": {
       "model_id": "847366e36a7646849fb56b8f3179134c",
       "version_major": 2,
       "version_minor": 0
      },
      "text/plain": [
       "Box(children=(BoundedFloatText(value=-60.06, description='X:', max=-59.98, min=-60.62, step=0.01), BoundedFloa…"
      ]
     },
     "metadata": {},
     "output_type": "display_data"
    },
    {
     "data": {
      "application/vnd.jupyter.widget-view+json": {
       "model_id": "ea3f1f8140874db9b6cf850d54130fa9",
       "version_major": 2,
       "version_minor": 0
      },
      "text/plain": [
       "Button(button_style='success', description='click me', icon='refresh', layout=Layout(width='300px'), style=But…"
      ]
     },
     "metadata": {},
     "output_type": "display_data"
    }
   ],
   "source": [
    "#%matplotlib inline \n",
    "from IPython.display import display\n",
    "\n",
    "output = widgets.Output(layout={'border': '1px solid black'})\n",
    "\n",
    "\n",
    "def on_button_clicked(event):\n",
    "    output.clear_output()\n",
    "\n",
    "    with output:\n",
    "        plat_x = userInputs[0].value\n",
    "        plat_y = userInputs[1].value\n",
    "        radius = userInputs[2].value\n",
    "        plot_WC_Platform(WC_points, WC_name, WC_resource,plat_x,plat_y,\"platform\", radius,radius*1.3, (12,10))\n",
    "        CreamMe(plat_x, plat_y, radius,radius*1.3, (5,5))\n",
    "    \n",
    "        print(\"Button clicked.\")        \n",
    "        \n",
    "button = widgets.Button(\n",
    "    description='click me',\n",
    "    layout={'width': '300px'},\n",
    "    button_style='success', \n",
    "    tooltip='Run',\n",
    "    icon='refresh'\n",
    ")\n",
    "\n",
    "display(widgets.Box(userInputs), button)\n",
    "\n",
    "\n",
    "button.on_click(on_button_clicked)\n"
   ]
  },
  {
   "cell_type": "code",
   "execution_count": 86,
   "metadata": {},
   "outputs": [
    {
     "data": {
      "application/vnd.jupyter.widget-view+json": {
       "model_id": "5b63bf14d04348588c1b20145b800222",
       "version_major": 2,
       "version_minor": 0
      },
      "text/plain": [
       "Output(layout=Layout(border='1px solid black'))"
      ]
     },
     "metadata": {},
     "output_type": "display_data"
    }
   ],
   "source": [
    "output"
   ]
  },
  {
   "cell_type": "code",
   "execution_count": null,
   "metadata": {},
   "outputs": [],
   "source": []
  },
  {
   "cell_type": "code",
   "execution_count": null,
   "metadata": {},
   "outputs": [],
   "source": []
  },
  {
   "cell_type": "code",
   "execution_count": null,
   "metadata": {},
   "outputs": [],
   "source": []
  }
 ],
 "metadata": {
  "kernelspec": {
   "display_name": "Python 3",
   "language": "python",
   "name": "python3"
  },
  "language_info": {
   "codemirror_mode": {
    "name": "ipython",
    "version": 3
   },
   "file_extension": ".py",
   "mimetype": "text/x-python",
   "name": "python",
   "nbconvert_exporter": "python",
   "pygments_lexer": "ipython3",
   "version": "3.6.9"
  }
 },
 "nbformat": 4,
 "nbformat_minor": 2
}
