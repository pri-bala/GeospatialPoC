{
 "cells": [
  {
   "cell_type": "markdown",
   "metadata": {},
   "source": [
    "# Platform Positioning"
   ]
  },
  {
   "cell_type": "code",
   "execution_count": 3,
   "metadata": {},
   "outputs": [],
   "source": [
    "from __future__ import print_function"
   ]
  },
  {
   "cell_type": "code",
   "execution_count": 4,
   "metadata": {},
   "outputs": [],
   "source": [
    "import random as random #For random initial platform position\n",
    "import numpy as np\n",
    "import pandas as pd\n",
    "from matplotlib import pyplot as plt\n",
    "import geopandas as gpd\n",
    "from shapely.geometry.polygon import Polygon\n",
    "import shapely\n",
    "from geopy import distance # For calculating distance between two points \n",
    "import pickle # For importing pickled objects\n",
    "from ipywidgets import interact, interactive, fixed, interact_manual\n",
    "import ipywidgets as widgets\n",
    "\n",
    "from shapely.geometry import Point, LineString #For Platform and \n",
    "from mpl_toolkits.basemap import Basemap # Mapping visualisation\n",
    "from math import tan, isclose, pi #For calculating point on circumference - step out radius\n",
    "\n",
    "import warnings\n",
    "warnings.filterwarnings(\"ignore\", category=DeprecationWarning)"
   ]
  },
  {
   "cell_type": "code",
   "execution_count": 5,
   "metadata": {},
   "outputs": [
    {
     "data": {
      "text/plain": [
       "'/Users/Pri.balachandran@ibm.com/Desktop/BP/20191106_PlatformWCAnalysis'"
      ]
     },
     "execution_count": 5,
     "metadata": {},
     "output_type": "execute_result"
    }
   ],
   "source": [
    "import os\n",
    "os.getcwd()"
   ]
  },
  {
   "cell_type": "markdown",
   "metadata": {},
   "source": [
    "# Data Ingestion & Cleaning\n",
    "Since Well Concept data is created based on the cleaned Target data, the notebook has been structured with Targets, then Well Concepts\n",
    "\n",
    "##  Target Geometry Data\n",
    "This has been queried and pickled. The column names refer to the SQL function performed on geometry.\n",
    "e.g. geom.AsTextZM() AS geom_text_zm"
   ]
  },
  {
   "cell_type": "code",
   "execution_count": 6,
   "metadata": {
    "scrolled": false
   },
   "outputs": [],
   "source": [
    "with open('data/0_raw/TEST_TRIN_20191111', 'rb') as f:\n",
    "    df_target = pickle.load(f)"
   ]
  },
  {
   "cell_type": "markdown",
   "metadata": {},
   "source": [
    "Drop rows which don't have geometry - since it is simply being used as an example layer"
   ]
  },
  {
   "cell_type": "code",
   "execution_count": 7,
   "metadata": {
    "scrolled": false
   },
   "outputs": [
    {
     "data": {
      "text/html": [
       "<div>\n",
       "<style scoped>\n",
       "    .dataframe tbody tr th:only-of-type {\n",
       "        vertical-align: middle;\n",
       "    }\n",
       "\n",
       "    .dataframe tbody tr th {\n",
       "        vertical-align: top;\n",
       "    }\n",
       "\n",
       "    .dataframe thead th {\n",
       "        text-align: right;\n",
       "    }\n",
       "</style>\n",
       "<table border=\"1\" class=\"dataframe\">\n",
       "  <thead>\n",
       "    <tr style=\"text-align: right;\">\n",
       "      <th></th>\n",
       "      <th>target_id</th>\n",
       "      <th>target_name</th>\n",
       "      <th>geom_text_zm</th>\n",
       "      <th>geom_binary_zm</th>\n",
       "      <th>geom_STAs_binary</th>\n",
       "      <th>geom_STAs_Text</th>\n",
       "    </tr>\n",
       "  </thead>\n",
       "  <tbody>\n",
       "    <tr>\n",
       "      <th>0</th>\n",
       "      <td>768</td>\n",
       "      <td>Kapok-TQ65-SPA</td>\n",
       "      <td>MULTILINESTRING ((-60.498999227043505 9.855164...</td>\n",
       "      <td>b'\\x01\\xed\\x03\\x00\\x00\\x01\\x00\\x00\\x00\\x01\\xea...</td>\n",
       "      <td>b'\\x01\\x05\\x00\\x00\\x00\\x01\\x00\\x00\\x00\\x01\\x02...</td>\n",
       "      <td>MULTILINESTRING ((-60.498999227043505 9.855164...</td>\n",
       "    </tr>\n",
       "    <tr>\n",
       "      <th>1</th>\n",
       "      <td>769</td>\n",
       "      <td>Kapok-TQ40-SPA</td>\n",
       "      <td>MULTILINESTRING ((-60.5041507381779 9.90958420...</td>\n",
       "      <td>b\"\\x01\\xed\\x03\\x00\\x00\\x01\\x00\\x00\\x00\\x01\\xea...</td>\n",
       "      <td>b\"\\x01\\x05\\x00\\x00\\x00\\x01\\x00\\x00\\x00\\x01\\x02...</td>\n",
       "      <td>MULTILINESTRING ((-60.5041507381779 9.90958420...</td>\n",
       "    </tr>\n",
       "    <tr>\n",
       "      <th>3</th>\n",
       "      <td>771</td>\n",
       "      <td>Kapok-TQ20b-SPA</td>\n",
       "      <td>MULTILINESTRING ((-60.5024436026266 9.91144177...</td>\n",
       "      <td>b'\\x01\\xed\\x03\\x00\\x00\\x01\\x00\\x00\\x00\\x01\\xea...</td>\n",
       "      <td>b'\\x01\\x05\\x00\\x00\\x00\\x01\\x00\\x00\\x00\\x01\\x02...</td>\n",
       "      <td>MULTILINESTRING ((-60.5024436026266 9.91144177...</td>\n",
       "    </tr>\n",
       "    <tr>\n",
       "      <th>7</th>\n",
       "      <td>775</td>\n",
       "      <td>Kapok-TP95L-SPA</td>\n",
       "      <td>MULTILINESTRING ((-60.481304509800545 9.864397...</td>\n",
       "      <td>b'\\x01\\xed\\x03\\x00\\x00\\x01\\x00\\x00\\x00\\x01\\xea...</td>\n",
       "      <td>b'\\x01\\x05\\x00\\x00\\x00\\x01\\x00\\x00\\x00\\x01\\x02...</td>\n",
       "      <td>MULTILINESTRING ((-60.481304509800545 9.864397...</td>\n",
       "    </tr>\n",
       "    <tr>\n",
       "      <th>8</th>\n",
       "      <td>776</td>\n",
       "      <td>Kapok-TP95-REN</td>\n",
       "      <td>MULTILINESTRING ((-60.479890700013996 9.899954...</td>\n",
       "      <td>b'\\x01\\xed\\x03\\x00\\x00\\x01\\x00\\x00\\x00\\x01\\xea...</td>\n",
       "      <td>b'\\x01\\x05\\x00\\x00\\x00\\x01\\x00\\x00\\x00\\x01\\x02...</td>\n",
       "      <td>MULTILINESTRING ((-60.479890700013996 9.899954...</td>\n",
       "    </tr>\n",
       "  </tbody>\n",
       "</table>\n",
       "</div>"
      ],
      "text/plain": [
       "   target_id      target_name  \\\n",
       "0        768   Kapok-TQ65-SPA   \n",
       "1        769   Kapok-TQ40-SPA   \n",
       "3        771  Kapok-TQ20b-SPA   \n",
       "7        775  Kapok-TP95L-SPA   \n",
       "8        776   Kapok-TP95-REN   \n",
       "\n",
       "                                        geom_text_zm  \\\n",
       "0  MULTILINESTRING ((-60.498999227043505 9.855164...   \n",
       "1  MULTILINESTRING ((-60.5041507381779 9.90958420...   \n",
       "3  MULTILINESTRING ((-60.5024436026266 9.91144177...   \n",
       "7  MULTILINESTRING ((-60.481304509800545 9.864397...   \n",
       "8  MULTILINESTRING ((-60.479890700013996 9.899954...   \n",
       "\n",
       "                                      geom_binary_zm  \\\n",
       "0  b'\\x01\\xed\\x03\\x00\\x00\\x01\\x00\\x00\\x00\\x01\\xea...   \n",
       "1  b\"\\x01\\xed\\x03\\x00\\x00\\x01\\x00\\x00\\x00\\x01\\xea...   \n",
       "3  b'\\x01\\xed\\x03\\x00\\x00\\x01\\x00\\x00\\x00\\x01\\xea...   \n",
       "7  b'\\x01\\xed\\x03\\x00\\x00\\x01\\x00\\x00\\x00\\x01\\xea...   \n",
       "8  b'\\x01\\xed\\x03\\x00\\x00\\x01\\x00\\x00\\x00\\x01\\xea...   \n",
       "\n",
       "                                    geom_STAs_binary  \\\n",
       "0  b'\\x01\\x05\\x00\\x00\\x00\\x01\\x00\\x00\\x00\\x01\\x02...   \n",
       "1  b\"\\x01\\x05\\x00\\x00\\x00\\x01\\x00\\x00\\x00\\x01\\x02...   \n",
       "3  b'\\x01\\x05\\x00\\x00\\x00\\x01\\x00\\x00\\x00\\x01\\x02...   \n",
       "7  b'\\x01\\x05\\x00\\x00\\x00\\x01\\x00\\x00\\x00\\x01\\x02...   \n",
       "8  b'\\x01\\x05\\x00\\x00\\x00\\x01\\x00\\x00\\x00\\x01\\x02...   \n",
       "\n",
       "                                      geom_STAs_Text  \n",
       "0  MULTILINESTRING ((-60.498999227043505 9.855164...  \n",
       "1  MULTILINESTRING ((-60.5041507381779 9.90958420...  \n",
       "3  MULTILINESTRING ((-60.5024436026266 9.91144177...  \n",
       "7  MULTILINESTRING ((-60.481304509800545 9.864397...  \n",
       "8  MULTILINESTRING ((-60.479890700013996 9.899954...  "
      ]
     },
     "execution_count": 7,
     "metadata": {},
     "output_type": "execute_result"
    }
   ],
   "source": [
    "df_target_wgeom = df_target[df_target['geom_STAs_binary'].notnull()]\n",
    "df_target_wgeom.head()"
   ]
  },
  {
   "cell_type": "markdown",
   "metadata": {},
   "source": [
    "#### Transform Target Geometries\n",
    "Target geometries are read as strings, formatted as shown below. As such, they must be transformed into Shapely Polygons"
   ]
  },
  {
   "cell_type": "code",
   "execution_count": 8,
   "metadata": {},
   "outputs": [
    {
     "name": "stdout",
     "output_type": "stream",
     "text": [
      "Example geometry string: \n",
      " MULTILINESTRING ((-60.498999227043505 9.8551643192777156, -60.499975832266763 9.8561382533816655, -60.500665679316072 9.8571019706351954, -60.501906636383438 9.8579163060709938, -60.50271592235876 9.8 ...\n"
     ]
    }
   ],
   "source": [
    "print(\"Example geometry string: \\n\", df_target_wgeom['geom_STAs_Text'][0][:200], \"...\")"
   ]
  },
  {
   "cell_type": "code",
   "execution_count": 9,
   "metadata": {},
   "outputs": [],
   "source": [
    "def TransformMLStoPolygon(str_mlstring):\n",
    "    '''Transforms a multilinestring string into a shapely Polygon. X,Y coordinate pairs are extracted from the string.\n",
    "    Function is likely to fail if presented with real-data, since we have assumed input as a single multilinestring.\n",
    "    '''\n",
    "    \n",
    "    #Remove string pre and post fix\n",
    "    str_values = str_mlstring.replace(\"MULTILINESTRING ((\", \"\").replace(\"))\", \"\")\n",
    "\n",
    "    #BUG FIX - This line should not be necessary - there were some extra brackets which needed handling\n",
    "    str_values = str_values.replace(\"(\",\"\").replace(\")\", \"\")\n",
    "\n",
    "    #Split the string into a list of xy pairs\n",
    "    lst_xystring = str_values.split(\", \")\n",
    "\n",
    "    #Split each xy pair into a tuple, of type float\n",
    "    lst_tuples = [tuple(map(float,x.split(\" \"))) for x in lst_xystring]\n",
    "    \n",
    "    return Polygon(lst_tuples)"
   ]
  },
  {
   "cell_type": "code",
   "execution_count": 37,
   "metadata": {},
   "outputs": [
    {
     "name": "stdout",
     "output_type": "stream",
     "text": [
      "0    POLYGON ((-60.49899922704351 9.855164319277716...\n",
      "1    POLYGON ((-60.5041507381779 9.909584204961554,...\n",
      "3    POLYGON ((-60.5024436026266 9.911441778228152,...\n",
      "7    POLYGON ((-60.48130450980054 9.864397257979865...\n",
      "8    POLYGON ((-60.479890700014 9.899954964645545, ...\n",
      "Name: polygon, dtype: object\n"
     ]
    }
   ],
   "source": [
    "#Transform geometry column into shapely polygon\n",
    "df_target_wgeom.loc[:,'polygon'] = df_target_wgeom['geom_STAs_Text'].map(lambda x: TransformMLStoPolygon(x))\n",
    "\n",
    "#Create geoSeries\n",
    "#gs_targPoly = gpd.GeoSeries(df_target_wgeom.loc[:,'polygon'])\n",
    "gdf_targPoly = gpd.GeoDataFrame(df_target_wgeom, geometry='polygon')\n",
    "\n",
    "print(gs_targPoly.head())"
   ]
  },
  {
   "cell_type": "markdown",
   "metadata": {},
   "source": [
    "## Well Concept Data\n",
    "As no suitable test data exists, dummy data is generated. There is a separate dummdatacreator.py file containing this work.\n",
    "\n",
    "Rather than have Well Concepts randomly placed anywhere, we restrict it to only be within Target Polygon space"
   ]
  },
  {
   "cell_type": "code",
   "execution_count": 11,
   "metadata": {},
   "outputs": [],
   "source": [
    "l = []\n",
    "\n",
    "#BUG FIX- Some polygons are invalid since first and last points are the same - they must not be.\n",
    "for p in gs_targPoly.values:\n",
    "    if p.is_valid == True:\n",
    "        l.append(p)\n",
    "        \n",
    "# Union of all polygons\n",
    "targ_poly_union = shapely.ops.cascaded_union(l)"
   ]
  },
  {
   "cell_type": "code",
   "execution_count": 12,
   "metadata": {},
   "outputs": [],
   "source": [
    "from dummydatacreator import  GenerateWellConcept # This is not supported in Azure notebooks"
   ]
  },
  {
   "cell_type": "code",
   "execution_count": 13,
   "metadata": {
    "scrolled": true
   },
   "outputs": [],
   "source": [
    "def UpdateWellConceptData(n_concepts = 30, lon_min = -60.34, lon_max = -60.32, \\\n",
    "                          lat_min = 10.04, lat_max = 10.08):\n",
    "    '''\n",
    "    \n",
    "    \n",
    "    '''\n",
    "    #Generate a polygon bounding box from the min and max of lon and lat\n",
    "    bbox = Polygon([[lon_min,lat_min], [lon_min,lat_max], [lon_max, lat_max], [lon_max, lat_min]])\n",
    "    \n",
    "    # Get all polygons within bbx\n",
    "    bbox.intersection(targ_poly_union)\n",
    "    \n",
    "    #Generate Well Concepts\n",
    "    WellConcepts = [GenerateWellConcept(bbox)  for i in range(n_concepts)]\n",
    "\n",
    "    return list(zip(*WellConcepts))"
   ]
  },
  {
   "cell_type": "code",
   "execution_count": 14,
   "metadata": {},
   "outputs": [
    {
     "name": "stdout",
     "output_type": "stream",
     "text": [
      "Well Concepts Generated:\n",
      " Name: Sd-15, Points: [-60.33351767141367, 10.05430191841169], Resource: 26.549341075216105\n",
      "Name: P-2, Points: [-60.33456813893818, 10.077739147729297], Resource: 9.46317512572618\n",
      "Name: C-4, Points: [-60.333186911657464, 10.055722702703775], Resource: 33.0319798962172\n",
      "Name: G-16, Points: [-60.33825744737537, 10.056820233824618], Resource: 89.28065982724307\n",
      "Name: D-22, Points: [-60.33207863969523, 10.062001227173601], Resource: 182.09112452059074\n"
     ]
    }
   ],
   "source": [
    "WC_name, WC_points, WC_resource = UpdateWellConceptData()\n",
    "\n",
    "print(\"Well Concepts Generated:\\n\",'\\n'.join('Name: {}, Points: {}, Resource: {}'.format(WC_name[k], WC_points[k], WC_resource[k]) for k in range(5)))"
   ]
  },
  {
   "cell_type": "markdown",
   "metadata": {
    "scrolled": true
   },
   "source": [
    "# Mapping\n",
    "In order to construct the map containing Targets, Well Concepts, Platforms, some functions are required:\n",
    "\n",
    "\n",
    "### Platform Step-Out Radius Functions\n",
    "As there is no method for deriving the circumference around a point in EPSG:4326, functions are required to calculate this.\n",
    "- A function to find a single point on the circumference (within a given tolerance)\n",
    "- A function to find multiple points all around the circumference, sufficient for plotting the circle"
   ]
  },
  {
   "cell_type": "code",
   "execution_count": 15,
   "metadata": {
    "scrolled": true
   },
   "outputs": [],
   "source": [
    "def GetXYatCircumference(centre, desired_radius, theta, tolerance = 0.00001):\n",
    "    '''Calculates the X,Y coordinates of a point on the circumference of a circle, \n",
    "    with a given desired radius and angle to the vertical.\n",
    "    \n",
    "    Theta in radians\n",
    "    '''\n",
    "    \n",
    "    #Initialise x,y coordinates\n",
    "    x = centre[0]\n",
    "    y = centre[1]\n",
    "\n",
    "    \n",
    "    #Set initial increment values\n",
    "        #If we are working in the lower two quadrants, i.e. where y will be less than centre y\n",
    "    if theta > pi/2 and theta < (3*pi)/2:\n",
    "        y_increment=-0.01\n",
    "    else:\n",
    "        y_increment=0.01\n",
    "\n",
    "        \n",
    "    #Loop until the radius of the point and centre, is close to the desired radius\n",
    "    while isclose(distance.distance(centre, [x,y]).kilometers,  desired_radius ,rel_tol=0.00001) == False:\n",
    "\n",
    "        # Add the increment whilst the distance is less than desired\n",
    "        while distance.distance(centre, [x,y]) < desired_radius:\n",
    "            x_increment = y_increment * tan(theta)\n",
    "            x += x_increment\n",
    "            y += y_increment\n",
    "\n",
    "        # Subtract the increment whilst the distance is more than desired\n",
    "        while distance.distance(centre, [x,y]) > desired_radius:\n",
    "            x_increment = y_increment * tan(theta)\n",
    "            x -= x_increment\n",
    "            y -= y_increment\n",
    "\n",
    "        #Reduce the size of the increment to increase precision  \n",
    "        y_increment = y_increment/4\n",
    "\n",
    "    return [x,y]"
   ]
  },
  {
   "cell_type": "code",
   "execution_count": 16,
   "metadata": {},
   "outputs": [
    {
     "data": {
      "text/plain": [
       "[[0.0, 0.01796615600585938],\n",
       " [0.015637707705740515, -0.009028434753417969],\n",
       " [-0.015637707705740488, -0.009028434753417969],\n",
       " [0.0, 0.01796615600585938]]"
      ]
     },
     "execution_count": 16,
     "metadata": {},
     "output_type": "execute_result"
    }
   ],
   "source": [
    "def GetCircumference(centre, radius, n_points, tolerance = 0.00001):\n",
    "    '''Calculates x,y coordinates of a specified number points on the circumference of a \n",
    "    circle with a specified centre    \n",
    "    \n",
    "    NB: n_points must odd, to ensure we do not get a trig erro\n",
    "    '''\n",
    "    assert n_points % 2 != 0, \"n_points must not be an even number - gives a trig error\"\n",
    "\n",
    "    # The angle between each radius        \n",
    "    theta_increment = (2*pi)/n_points\n",
    "\n",
    "    # The angles of all the radii we will use\n",
    "    thetas = [theta_increment * i for i in range(n_points)]\n",
    "    \n",
    "    # Get a list of all calculated XYs on the circumference\n",
    "    xys = [GetXYatCircumference(centre, radius,theta_i,tolerance) for theta_i in  thetas]\n",
    "    \n",
    "    # Create a full 'loop' so the first and last points are the same - Polygon\n",
    "    xys.append(xys[0])\n",
    "    \n",
    "    return xys\n",
    "\n",
    "GetCircumference([0,0], 2, 3)"
   ]
  },
  {
   "cell_type": "markdown",
   "metadata": {},
   "source": [
    "### Well Concept Relative Position\n",
    "i.e. Are Well Concepts within specified radii around a point?"
   ]
  },
  {
   "cell_type": "code",
   "execution_count": 17,
   "metadata": {},
   "outputs": [],
   "source": [
    "def CalculateRankOfWCs(WC, plat, radii):\n",
    "    '''Well Concepts are ranked according to binned distance from platform. i.e. \n",
    "    Given input radii [0,2,5], the function will return a list of rankings where:\n",
    "    0 indicates Well Concept is more than 5 km from platform\n",
    "    1 indictates Well Concept is between 2 and 5 km from platform... etc\n",
    "    '''\n",
    "    #Radii must be ordered, i.e. [0,2,5]\n",
    "    radii = np.sort(radii)\n",
    "    \n",
    "    num_radii = len(radii)\n",
    "\n",
    "    #calculate distances of all well concepts from platform \n",
    "    distances = [distance.distance(wc_i, plat) for wc_i in WC] #Karney 2013 distance\n",
    "    \n",
    "    distances = np.reshape(distances,[-1])\n",
    "\n",
    "    \n",
    "    #Reverse ranking - where 0 is closest to platform\n",
    "    revranks = np.digitize(distances, radii, right = False) #i.e. includes left bound = 0\n",
    "\n",
    "    # Ranking - where 0 is furthest from platform\n",
    "    ranking = [num_radii - revrank for revrank in revranks]\n",
    "    \n",
    "    return ranking"
   ]
  },
  {
   "cell_type": "code",
   "execution_count": 18,
   "metadata": {},
   "outputs": [],
   "source": [
    "dct_colors = {0: \"#808080\",\n",
    "          1:\"#FF8000\",\n",
    "          2:\"#00CC00\"}"
   ]
  },
  {
   "cell_type": "code",
   "execution_count": 19,
   "metadata": {},
   "outputs": [],
   "source": [
    "def GetWCColors(WC_Points, plat_x, plat_y,radii):\n",
    "    '''\n",
    "    Given the rank of Well Concepts, this derives the appropriate color for them\n",
    "    '''\n",
    "    #Subset the WCs to only those which are on the creaming curve\n",
    "    WC_rank = CalculateRankOfWCs([(a[0], a[1]) for a in WC_points],(plat_x,plat_y),radii)\n",
    "\n",
    "    #Construct dataframe of all well concepts\n",
    "    df_WC = pd.DataFrame({\"Well Concept\": WC_name,\"Resource\": WC_resource, \"Rank\":WC_rank})\n",
    "    \n",
    "    return df_WC['Rank'].map(lambda x: dct_colors[x])    "
   ]
  },
  {
   "cell_type": "markdown",
   "metadata": {},
   "source": [
    "## Map Construction"
   ]
  },
  {
   "cell_type": "code",
   "execution_count": 20,
   "metadata": {},
   "outputs": [],
   "source": [
    "from shapely.ops import transform\n",
    "from descartes import PolygonPatch\n",
    "from matplotlib.collections import PatchCollection"
   ]
  },
  {
   "cell_type": "code",
   "execution_count": 21,
   "metadata": {},
   "outputs": [],
   "source": [
    "def GenerateMap(WC_Point : Point,WC_name, WC_res: np.array,WC_col, \n",
    "                     plat_lon, plat_lat, plat_name, \n",
    "                     lon_min, lon_max, lat_min, lat_max,\n",
    "                     radii,\n",
    "                     figsize):\n",
    "    '''Creates a basemap/matplotlib map of Target Polygons, Well Concepts, Platform and Platform step-out radii\n",
    "\n",
    "    '''\n",
    "\n",
    "    #Split Well Concept points to separate lat long\n",
    "    WC_lon, WC_lat=list(zip(*WC_Point))\n",
    "\n",
    "    \n",
    "    fig, ax = plt.subplots(figsize=figsize)\n",
    "\n",
    "    water = 'lightskyblue'\n",
    "    earth = 'cornsilk'\n",
    "    \n",
    "    #Initialise basemap\n",
    "    mm = Basemap(\n",
    "        resolution='i',\n",
    "        epsg=4326,\n",
    "        llcrnrlon=lon_min,\n",
    "        llcrnrlat=lat_min,\n",
    "        urcrnrlon=lon_max,\n",
    "        urcrnrlat=lat_max,\n",
    "        lon_0=(lon_min+lon_max)/2,\n",
    "        lat_0=(lat_min+lat_max)/2)\n",
    "        \n",
    "\n",
    "    bound= mm.drawmapboundary(fill_color=water)\n",
    "    countries = mm.drawcountries()\n",
    "    \n",
    "    \n",
    "    \n",
    "    #x axis labels\n",
    "    merid = mm.drawmeridians(\n",
    "        np.arange(lon_min, lon_max, 0.02), \n",
    "        labels=[False, False, False, True])\n",
    "    \n",
    "    #y axis labels\n",
    "    parall = mm.drawparallels(\n",
    "        np.arange(lat_min, lat_max, 0.01), \n",
    "        labels=[True, True, False, False])\n",
    "    \n",
    "    \n",
    "    \n",
    "    #Target Polygon Visualisation\n",
    "    patches = []\n",
    "    for poly in gs_targPoly:\n",
    "        #Transform from lat long into the basemap x,y\n",
    "        mmpoly = transform(mm, poly)\n",
    "        patches.append(PolygonPatch(mmpoly))\n",
    "    ax.add_collection(PatchCollection(patches,match_original=True, facecolor=\"#FFFFFF\", alpha=0.2))\n",
    "    \n",
    "    #Platform Visualisation\n",
    "    mm.scatter(plat_lon, plat_lat, marker='x', s=1200,label='plat', c=\"#000000\")\n",
    "    \n",
    "    #Platform Label Visualisation - only possible in mpl, so a transformation must be done first\n",
    "    platx, platy = mm(plat_lon, plat_lat)\n",
    "    ax.annotate(plat_name, (platx, platy))\n",
    "\n",
    "    #Platform Step-Out Radius Visualisation\n",
    "    for i,r in enumerate(radii[1:],1): \n",
    "        circ_lonlat = GetCircumference([plat_lon, plat_lat],r , 51)\n",
    "        circ_lon, circ_lat = list(zip(*circ_lonlat))    \n",
    "        circ_x, circ_y = mm(circ_lon, circ_lat)\n",
    "        ax.plot(circ_x, circ_y, dct_colors[len(radii)-i])\n",
    "\n",
    "    #Well Concept Visualisaton\n",
    "    mm.scatter(WC_lon, WC_lat, c=WC_col, s=100)\n",
    "    \n",
    "    #Well Conncept Label Visualisation\n",
    "    for i, x in enumerate(WC_name):\n",
    "        wcx, wcy = mm(WC_lon[i], WC_lat[i])\n",
    "        ax.annotate(WC_name[i], ([wcx, wcy]), zorder=2)\n",
    "\n",
    "#Example plot code for development/visualisation    \n",
    "#WC_name, WC_points, WC_resource = UpdateWellConceptData(30, -60.34,-60.28,10.04,10.12, )\n",
    "#c = [\"#000000\" for i in range(len(WC_name))]\n",
    "#GenerateMap(WC_points, WC_name, WC_resource, c , -60.33,10.05,\"Platform\", -60.34,-60.28,10.04,10.12,[0,1.2,1.3],(14,22))    "
   ]
  },
  {
   "cell_type": "code",
   "execution_count": 22,
   "metadata": {},
   "outputs": [],
   "source": [
    "def GenerateCreamingCurve(plat_x, plat_y, radii, figsize):\n",
    "    '''Plots a creaming curve based on distance of Well Concepts from Platform, against radii\n",
    "    '''\n",
    "    #Subset the WCs to only those which are on the creaming curve\n",
    "    WC_rank = CalculateRankOfWCs([(a[0], a[1]) for a in WC_points],(plat_x,plat_y),radii)\n",
    "\n",
    "    #Construct dataframe of all well concepts\n",
    "    df_WC = pd.DataFrame({\"Well Concept\": WC_name,\"Resource\": WC_resource, \"Rank\":WC_rank})\n",
    "    \n",
    "    #Reduce to df of well concepts on Creaming Curve (i.e. within the radii)\n",
    "    df_WC_cc = df_WC[df_WC['Rank'] != 0].copy()\n",
    "    \n",
    "    #Map ranks to colors\n",
    "    df_WC_cc.loc[:,'Color'] = df_WC_cc['Rank'].map(lambda x: dct_colors[x])\n",
    "    \n",
    "    \n",
    "    df_WC_cc.sort_values(by=\"Resource\", inplace=True, ascending=False)\n",
    "    \n",
    "    \n",
    "    \n",
    "    \n",
    "    fig, ax = plt.subplots(figsize=figsize)    \n",
    "\n",
    "    ax.bar(df_WC_cc['Well Concept'], df_WC_cc['Resource'], color=df_WC_cc['Color'])\n",
    "\n",
    "    ax.set_xlabel(\"Well Concept Name\")\n",
    "    ax.set_ylabel(\"Resource\")\n",
    "    plt.show()"
   ]
  },
  {
   "cell_type": "code",
   "execution_count": 23,
   "metadata": {},
   "outputs": [],
   "source": [
    "from ipywidgets import Button, Layout\n"
   ]
  },
  {
   "cell_type": "code",
   "execution_count": 24,
   "metadata": {},
   "outputs": [],
   "source": [
    "lon_min = -60.34\n",
    "lon_max = -60.28\n",
    "lat_min = 10.06\n",
    "lat_max = 10.12\n",
    "n_concepts = 30\n",
    "\n",
    "WC_name, WC_points, WC_resource = UpdateWellConceptData(n_concepts, lon_min, lon_max, lat_min, lat_max)\n",
    "\n",
    "userInputs = [widgets.BoundedFloatText(\n",
    "    value=round(lon_min +(random.random()*(lon_max-lon_min)), 3 ),\n",
    "    min=lon_min,\n",
    "    max=lon_max,\n",
    "    step=0.001,\n",
    "    description='Platform X:',\n",
    "    disabled=False,\n",
    "    layout=Layout(width='200px')\n",
    "),\n",
    "              \n",
    "widgets.BoundedFloatText(\n",
    "    value=round(lat_min +(random.random()*(lat_max-lat_min)), 3 ),\n",
    "    min=lat_min,\n",
    "    max=lat_max,\n",
    "    step=0.001,\n",
    "    description='Platform Y:',\n",
    "    disabled=False,\n",
    "    layout=Layout(width='200px')\n",
    "),\n",
    "              \n",
    "  widgets.BoundedFloatText(\n",
    "    value=1,\n",
    "    min=0.01,\n",
    "    max=1000,\n",
    "    step=1,\n",
    "    description='Radius1(km):',\n",
    "    disabled=False,\n",
    "    layout=Layout(width='180px')  \n",
    "),\n",
    "             \n",
    "  widgets.BoundedFloatText(\n",
    "    value=1.3,\n",
    "    min=0.01,\n",
    "    max=1000,\n",
    "    step=1,\n",
    "    description='Radius2(km):',\n",
    "    disabled=False,\n",
    "    layout=Layout(width='180px')\n",
    ")]"
   ]
  },
  {
   "cell_type": "code",
   "execution_count": 25,
   "metadata": {
    "scrolled": false
   },
   "outputs": [
    {
     "data": {
      "application/vnd.jupyter.widget-view+json": {
       "model_id": "eefa5d42b9874fd2b4c6c3622aefa394",
       "version_major": 2,
       "version_minor": 0
      },
      "text/plain": [
       "Box(children=(BoundedFloatText(value=-60.296, description='Platform X:', layout=Layout(width='200px'), max=-60…"
      ]
     },
     "metadata": {},
     "output_type": "display_data"
    },
    {
     "data": {
      "application/vnd.jupyter.widget-view+json": {
       "model_id": "56f0d6ee7ea64d079700e8cd3afe5235",
       "version_major": 2,
       "version_minor": 0
      },
      "text/plain": [
       "Button(button_style='success', description='click me', icon='refresh', layout=Layout(width='300px'), style=But…"
      ]
     },
     "metadata": {},
     "output_type": "display_data"
    }
   ],
   "source": [
    "#%matplotlib inline \n",
    "from IPython.display import display\n",
    "\n",
    "output = widgets.Output(layout={'border': '1px solid black'})\n",
    "\n",
    "def on_button_clicked(event):\n",
    "    output.clear_output()\n",
    "\n",
    "    with output:\n",
    "        plat_x = userInputs[0].value\n",
    "        plat_y = userInputs[1].value\n",
    "        r1 = userInputs[2].value\n",
    "        r2 = userInputs[3].value\n",
    "        radii = [0, r1,r2]\n",
    "        WC_colors = GetWCColors(WC_points,plat_x, plat_y, radii)\n",
    "        \n",
    "        GenerateMap(WC_points, WC_name, WC_resource, WC_colors, plat_x,plat_y,\"platform\", lon_min, lon_max, lat_min, lat_max,radii,  (16,14))\n",
    "        GenerateCreamingCurve(plat_x, plat_y, radii, (16,8))\n",
    "        \n",
    "button = widgets.Button(\n",
    "    description='click me',\n",
    "    layout={'width': '300px'},\n",
    "    button_style='success', \n",
    "    tooltip='Run',\n",
    "    icon='refresh'\n",
    ")\n",
    "\n",
    "display(widgets.Box(userInputs), button)\n",
    "\n",
    "button.on_click(on_button_clicked)"
   ]
  },
  {
   "cell_type": "code",
   "execution_count": 26,
   "metadata": {},
   "outputs": [
    {
     "data": {
      "application/vnd.jupyter.widget-view+json": {
       "model_id": "b8ad7273e0084ac784c504026067a2bc",
       "version_major": 2,
       "version_minor": 0
      },
      "text/plain": [
       "Output(layout=Layout(border='1px solid black'))"
      ]
     },
     "metadata": {},
     "output_type": "display_data"
    }
   ],
   "source": [
    "output"
   ]
  },
  {
   "cell_type": "code",
   "execution_count": 42,
   "metadata": {
    "scrolled": true
   },
   "outputs": [
    {
     "ename": "SyntaxError",
     "evalue": "invalid syntax (<ipython-input-42-116e7c3381ec>, line 1)",
     "output_type": "error",
     "traceback": [
      "\u001b[0;36m  File \u001b[0;32m\"<ipython-input-42-116e7c3381ec>\"\u001b[0;36m, line \u001b[0;32m1\u001b[0m\n\u001b[0;31m    https://towardsdatascience.com/walkthrough-mapping-basics-with-bokeh-and-geopandas-in-python-43f40aa5b7e9\u001b[0m\n\u001b[0m           ^\u001b[0m\n\u001b[0;31mSyntaxError\u001b[0m\u001b[0;31m:\u001b[0m invalid syntax\n"
     ]
    }
   ],
   "source": [
    "https://towardsdatascience.com/walkthrough-mapping-basics-with-bokeh-and-geopandas-in-python-43f40aa5b7e9"
   ]
  },
  {
   "cell_type": "code",
   "execution_count": 203,
   "metadata": {},
   "outputs": [],
   "source": [
    "lon_min = -60.34\n",
    "lon_max = -60.28\n",
    "lat_min = 10.06\n",
    "lat_max = 10.12\n",
    "n_concepts = 30\n",
    "\n",
    "WC_name, WC_points, WC_resource = UpdateWellConceptData(n_concepts, lon_min, lon_max, lat_min, lat_max)\n"
   ]
  },
  {
   "cell_type": "code",
   "execution_count": 204,
   "metadata": {},
   "outputs": [],
   "source": [
    "import json\n",
    "from bokeh.models.widgets import Slider\n",
    "\n",
    "from bokeh.io import output_file, show, save\n",
    "\n",
    "from bokeh.models import (CDSView, ColorBar, ColumnDataSource,\n",
    "                          CustomJS, CustomJSFilter, \n",
    "                          GeoJSONDataSource, HoverTool, LabelSet,\n",
    "                          LinearColorMapper, Slider)\n",
    "from bokeh.layouts import column, row, widgetbox\n",
    "from bokeh.palettes import brewer\n",
    "from bokeh.plotting import figure\n",
    "# Input GeoJSON source that contains features for plotting\n",
    "from bokeh.models.markers import SquareCross\n",
    "\n",
    "\n",
    "from bokeh.layouts import column, row, WidgetBox\n",
    "from bokeh.models import Panel\n",
    "from bokeh.models.widgets import Tabs"
   ]
  },
  {
   "cell_type": "code",
   "execution_count": 205,
   "metadata": {},
   "outputs": [],
   "source": [
    "targ_source = GeoJSONDataSource(geojson = gdf_targPoly[['target_id', 'target_name', 'polygon']].to_json())\n",
    "\n",
    "\n",
    "\n",
    "\n",
    "# Create figure object.\n",
    "p = figure(title = 'Polygons', \n",
    "           plot_height = 600 ,\n",
    "           plot_width = 950, \n",
    "           toolbar_location = 'below',\n",
    "           tools = \"pan, wheel_zoom, box_zoom, reset\",\n",
    "            x_range=(lon_min, lon_max),\n",
    "            y_range=(lat_min, lat_max),          \n",
    "          )\n",
    "p.xgrid.grid_line_color = None\n",
    "p.ygrid.grid_line_color = None\n",
    "\n",
    "# Targets\n",
    "p_targ = p.patches('xs','ys', source = targ_source,\n",
    "                   fill_color = \"lightskyblue\",\n",
    "                   line_color = \"blue\", \n",
    "                   line_width = 0.1, \n",
    "                   fill_alpha = 0.2)\n",
    "\n",
    "# Well Concepts\n",
    "wcx = [a[0] for a in WC_points]\n",
    "wcy = [a[1] for a in WC_points]\n",
    "source = ColumnDataSource({'x':wcx, 'y':wcy, 'name':WC_name, 'resource':WC_resource})\n",
    "\n",
    "p.circle(\"x\", \"y\", size=10, source=source,\n",
    "         color='resource', line_color=\"black\", fill_alpha=0.8)\n",
    "\n",
    "labels = LabelSet(x=\"x\", y=\"y\", text=\"name\", y_offset=8,\n",
    "                  text_font_size=\"8pt\", text_color=\"#555555\",\n",
    "                  source=source, text_align='center')\n",
    "p.add_layout(labels)\n",
    "\n",
    "\n",
    "\n",
    "\n",
    "\n",
    "\n",
    "\n",
    "# Create hover tool\n",
    "p.add_tools(HoverTool(renderers = [p_targ],\n",
    "                      tooltips = [('Target ID','@target_id'),\n",
    "                                ('Target Name','@target_name')]))\n",
    "\n",
    "#output_file(\"p.html\")\n",
    "#save(p)"
   ]
  },
  {
   "cell_type": "code",
   "execution_count": 206,
   "metadata": {},
   "outputs": [],
   "source": [
    "\n",
    "\n",
    "lon_slider = Slider(start=lon_min, \\\n",
    "                    end=lon_max, \\\n",
    "                    value=round(lon_min +(random.random()*(lon_max-lon_min)), 3 ), \\\n",
    "                    step=0.01, \\\n",
    "                    title=\"Longitude\")\n",
    "lat_slider = Slider(start=lat_min, \\\n",
    "                    end=lat_max, \\\n",
    "                    value=round(lat_min +(random.random()*(lat_max-lat_min)), 3 ), \\\n",
    "                    step=0.01, \\\n",
    "                    title=\"Latitude\")\n",
    "\n",
    "#show(slider)\n",
    "\n",
    "\n",
    "\n",
    "#show(p)"
   ]
  },
  {
   "cell_type": "code",
   "execution_count": null,
   "metadata": {},
   "outputs": [],
   "source": []
  },
  {
   "cell_type": "code",
   "execution_count": 207,
   "metadata": {},
   "outputs": [
    {
     "data": {
      "text/plain": [
       "'/Users/Pri.balachandran@ibm.com/Desktop/BP/20191106_PlatformWCAnalysis/p.html'"
      ]
     },
     "execution_count": 207,
     "metadata": {},
     "output_type": "execute_result"
    }
   ],
   "source": [
    "#Create LHS Control Panel\n",
    "controls = WidgetBox(lon_slider, lat_slider)\n",
    "\n",
    "# Create a row, with control panel and plot\n",
    "layout = row(controls, p)\n",
    "\n",
    "\n",
    "# Make a tab with the layout \n",
    "tab = Panel(child=layout, title = 'Geospatial PoC')\n",
    "tabs = Tabs(tabs=[tab])\n",
    "output_file(\"p.html\")\n",
    "\n",
    "save(tabs)"
   ]
  },
  {
   "cell_type": "code",
   "execution_count": null,
   "metadata": {},
   "outputs": [],
   "source": []
  },
  {
   "cell_type": "code",
   "execution_count": null,
   "metadata": {},
   "outputs": [],
   "source": []
  },
  {
   "cell_type": "code",
   "execution_count": null,
   "metadata": {},
   "outputs": [],
   "source": []
  }
 ],
 "metadata": {
  "kernelspec": {
   "display_name": "Python 3 geo plot kern",
   "language": "python",
   "name": "py36-geographicplotting"
  },
  "language_info": {
   "codemirror_mode": {
    "name": "ipython",
    "version": 3
   },
   "file_extension": ".py",
   "mimetype": "text/x-python",
   "name": "python",
   "nbconvert_exporter": "python",
   "pygments_lexer": "ipython3",
   "version": "3.6.9"
  }
 },
 "nbformat": 4,
 "nbformat_minor": 2
}
