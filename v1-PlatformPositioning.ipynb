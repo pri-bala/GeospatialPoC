{
 "cells": [
  {
   "cell_type": "markdown",
   "metadata": {},
   "source": [
    "# Platform Positioning"
   ]
  },
  {
   "cell_type": "code",
   "execution_count": 86,
   "metadata": {},
   "outputs": [],
   "source": [
    "from __future__ import print_function"
   ]
  },
  {
   "cell_type": "code",
   "execution_count": 87,
   "metadata": {},
   "outputs": [],
   "source": [
    "import random as random\n",
    "import numpy as np\n",
    "import pandas as pd\n",
    "from matplotlib import pyplot as plt\n",
    "\n",
    "from ipywidgets import interact, interactive, fixed, interact_manual\n",
    "import ipywidgets as widgets\n",
    "\n",
    "from sklearn.metrics import euclidean_distances"
   ]
  },
  {
   "cell_type": "markdown",
   "metadata": {},
   "source": [
    "###  Generate Well Concept Data"
   ]
  },
  {
   "cell_type": "code",
   "execution_count": 88,
   "metadata": {},
   "outputs": [],
   "source": [
    "from dummydatacreator import  GenerateWellConcept # This is not supported in Azure notebooks"
   ]
  },
  {
   "cell_type": "code",
   "execution_count": 89,
   "metadata": {
    "scrolled": true
   },
   "outputs": [],
   "source": [
    "num_of_concepts = 30\n",
    "\n",
    "region_x_min = -60.62\n",
    "region_x_max = -59.98\n",
    "region_y_min = 9.87\n",
    "region_y_max = 10.45\n",
    "WellConcepts = [GenerateWellConcept(region_x_min, region_x_max, region_y_min, region_y_max) for i in range(num_of_concepts)]"
   ]
  },
  {
   "cell_type": "code",
   "execution_count": 90,
   "metadata": {
    "scrolled": true
   },
   "outputs": [],
   "source": [
    "WC_name, WC_points, WC_resource = list(zip(*WellConcepts))"
   ]
  },
  {
   "cell_type": "code",
   "execution_count": 91,
   "metadata": {},
   "outputs": [
    {
     "name": "stdout",
     "output_type": "stream",
     "text": [
      "['W-21', [-60.593583825719236, 10.382362257596597], 61.4249765258931]\n"
     ]
    }
   ],
   "source": [
    "print(WellConcepts[0])"
   ]
  },
  {
   "cell_type": "markdown",
   "metadata": {},
   "source": [
    "### Well Concept / Platform Intersection"
   ]
  },
  {
   "cell_type": "code",
   "execution_count": 7,
   "metadata": {},
   "outputs": [
    {
     "name": "stdout",
     "output_type": "stream",
     "text": [
      "False\n"
     ]
    }
   ],
   "source": [
    "def ArePointsCloseTogether(pointA, pointB, distance):\n",
    "    return (euclidean_distances([pointA], [pointB]) <= distance)[0][0]\n",
    "\n",
    "print(ArePointsCloseTogether([10,2], [0,0], 10))"
   ]
  },
  {
   "cell_type": "code",
   "execution_count": 8,
   "metadata": {},
   "outputs": [],
   "source": [
    "def AreWCsCloseToPlatforom(WellConceptsXY, PlatformXY, distance):    \n",
    "    return [ArePointsCloseTogether(wcXY, PlatformXY, distance) for wcXY in WellConceptsXY]"
   ]
  },
  {
   "cell_type": "code",
   "execution_count": 72,
   "metadata": {},
   "outputs": [],
   "source": [
    "def CalculateRankOfWCs(WC, plat, radii):\n",
    "    '''Well Concepts are ranked according to binned distance from platform\n",
    "    '''\n",
    "    radii = np.sort(radii)\n",
    "    num_radii = len(radii)\n",
    "\n",
    "    #calculate distances of all well concepts from platform \n",
    "    distances = [distance.distance(wc_i, plat) for wc_i in WC]\n",
    "    distances = np.reshape(distances,[-1])\n",
    "\n",
    "    \n",
    "    #Reverse ranking - where 0 is closest to platform\n",
    "    revranks = np.digitize(distances, radii, right = False) #i.e. includes left bound = 0\n",
    "\n",
    "    # Ranking - where 0 is furthest from platform\n",
    "    ranking = [num_radii - revrank for revrank in revranks]\n",
    "    \n",
    "    return ranking"
   ]
  },
  {
   "cell_type": "code",
   "execution_count": 10,
   "metadata": {},
   "outputs": [],
   "source": [
    "def RankToColors(WC_rank):\n",
    "    dct_colors = {0: None,\n",
    "              1:\"#FF8000\",\n",
    "              2:\"#00CC00\"}\n",
    "    return dct_colors[WC_rank]"
   ]
  },
  {
   "cell_type": "code",
   "execution_count": null,
   "metadata": {},
   "outputs": [],
   "source": [
    "#def PlatformRadiiHeatmap(platforms, radii):\n",
    "np.    \n",
    "    \n"
   ]
  },
  {
   "cell_type": "markdown",
   "metadata": {},
   "source": [
    "# Plotting - Geography"
   ]
  },
  {
   "cell_type": "code",
   "execution_count": 38,
   "metadata": {
    "scrolled": true
   },
   "outputs": [],
   "source": [
    "from geopy import distance"
   ]
  },
  {
   "cell_type": "code",
   "execution_count": 35,
   "metadata": {},
   "outputs": [
    {
     "data": {
      "text/plain": [
       "array([[0.4649178 ],\n",
       "       [0.07260335],\n",
       "       [0.30758298],\n",
       "       [0.14976011],\n",
       "       [0.29174563],\n",
       "       [0.43225644],\n",
       "       [0.41459432],\n",
       "       [0.14038416],\n",
       "       [0.15929167],\n",
       "       [0.28101669],\n",
       "       [0.3051274 ],\n",
       "       [0.44041675],\n",
       "       [0.47211444],\n",
       "       [0.22613242],\n",
       "       [0.40192825],\n",
       "       [0.29057683],\n",
       "       [0.33251801],\n",
       "       [0.26780035],\n",
       "       [0.36922236],\n",
       "       [0.07198759],\n",
       "       [0.171867  ],\n",
       "       [0.37516365],\n",
       "       [0.09692714],\n",
       "       [0.27373546],\n",
       "       [0.24050814],\n",
       "       [0.33687508],\n",
       "       [0.1501193 ],\n",
       "       [0.30492648],\n",
       "       [0.48978222],\n",
       "       [0.13170693]])"
      ]
     },
     "execution_count": 35,
     "metadata": {},
     "output_type": "execute_result"
    }
   ],
   "source": [
    "euclidean_distances([[a.x, a.y] for a in WC_points], [[-60.2,10]])"
   ]
  },
  {
   "cell_type": "code",
   "execution_count": 45,
   "metadata": {},
   "outputs": [
    {
     "name": "stdout",
     "output_type": "stream",
     "text": [
      "33.01568488742097 km\n",
      "5.421583196399606 km\n",
      "33.285834848323404 km\n",
      "8.68943652792124 km\n",
      "32.501335194627636 km\n",
      "27.5218577729519 km\n",
      "37.61026261491322 km\n",
      "13.099826934475585 km\n",
      "10.808074591883384 km\n",
      "20.420284357846775 km\n",
      "30.307857877472838 km\n",
      "25.556553683060308 km\n",
      "42.26379071690247 km\n",
      "16.52254234364927 km\n",
      "29.363071481752577 km\n",
      "20.18194233806722 km\n",
      "36.738275848489494 km\n",
      "15.63322881157877 km\n",
      "24.65002225889747 km\n",
      "4.016071826612781 km\n",
      "13.898385968952933 km\n",
      "41.7196364919122 km\n",
      "10.209362170508653 km\n",
      "29.728426306414605 km\n",
      "26.10464542228934 km\n",
      "21.201729269508593 km\n",
      "13.277405487074263 km\n",
      "32.69599228295135 km\n",
      "33.440046936356936 km\n",
      "14.090747340553186 km\n"
     ]
    }
   ],
   "source": [
    "for i in range(len(WC_points)):\n",
    "    print(distance.distance([WC_points[i].x, WC_points[i].y], [-60.2,10]))"
   ]
  },
  {
   "cell_type": "code",
   "execution_count": null,
   "metadata": {},
   "outputs": [],
   "source": []
  },
  {
   "cell_type": "code",
   "execution_count": null,
   "metadata": {},
   "outputs": [],
   "source": []
  },
  {
   "cell_type": "code",
   "execution_count": 12,
   "metadata": {},
   "outputs": [],
   "source": [
    "import geopandas as gpd\n",
    "from shapely.geometry import Point, LineString"
   ]
  },
  {
   "cell_type": "code",
   "execution_count": 13,
   "metadata": {},
   "outputs": [],
   "source": [
    "WC_points = [Point(p[0], p[1]) for p in WC_points]\n",
    "WC_points = gpd.GeoSeries(WC_points)"
   ]
  },
  {
   "cell_type": "code",
   "execution_count": null,
   "metadata": {},
   "outputs": [],
   "source": []
  },
  {
   "cell_type": "code",
   "execution_count": 76,
   "metadata": {},
   "outputs": [
    {
     "data": {
      "image/png": "[encoded data removed]",
      "text/plain": [
       "<Figure size 720x720 with 1 Axes>"
      ]
     },
     "metadata": {
      "needs_background": "light"
     },
     "output_type": "display_data"
    }
   ],
   "source": [
    "def plot_WC_Platform(WC_Point : Point,WC_name, WC_res: np.array, plat_x, plat_y, plat_name, innerradius, outerradius, figsize):\n",
    "\n",
    "    '''\n",
    "    Plots Well Concepts and Platforms in Euclidean geometry\n",
    "    '''\n",
    "    \n",
    "    \n",
    "    #Unpack XY coordinates\n",
    "#    WC_x = [XY[0]for XY in WC_points] \n",
    "#    WC_y = [XY[1]for XY in WC_points]\n",
    "\n",
    "    fig, ax = plt.subplots(figsize=figsize)\n",
    "\n",
    "    ax.scatter(plat_x, plat_y, marker = 'x', s=1000, zorder=2 )\n",
    "\n",
    "\n",
    "    \n",
    "    platform_radius = plt.Circle((plat_x, plat_y), radius = outerradius,fill=True,color='#FF8000', zorder=0 )\n",
    "    ax.add_artist(platform_radius)\n",
    "    \n",
    "    platform_radius = plt.Circle((plat_x, plat_y), radius = innerradius,fill=True,color='#00CC00', zorder=1 )\n",
    "    ax.add_artist(platform_radius)\n",
    "    \n",
    "    #Well concept labels\n",
    "    for i, x in enumerate(WC_name):\n",
    "        ax.annotate(WC_name[i], ([WC_Point[i].x, WC_Point[i].y]), zorder=2)\n",
    "\n",
    "    ax.annotate(plat_name, (plat_x, plat_y))\n",
    "    WC_Point.plot(ax=ax, color=\"#D3D3D3\", label=WC_res)\n",
    "\n",
    "plot_WC_Platform(WC_points, WC_name, WC_resource, -60.4,10.2,\"plat\",0.05,0.1,(10,10))"
   ]
  },
  {
   "cell_type": "code",
   "execution_count": 82,
   "metadata": {},
   "outputs": [],
   "source": [
    "def CreamMe(plat_x, plat_y, innerradius, outerradius, figsize):\n",
    "\n",
    "    #Subset the WCs to only those which are on the creaming curve\n",
    "    WC_rank = CalculateRankOfWCs([(a.x, a.y) for a in WC_points],(plat_x,plat_y),[0, innerradius, outerradius])\n",
    "\n",
    "    #Construct dataframe of all well concepts\n",
    "    df_WC = pd.DataFrame({\"Well Concept\": WC_name,\"Resource\": WC_resource, \"Rank\":WC_rank})\n",
    "    \n",
    "    #Reduce to df of well concepts on Creaming Curve (i.e. within the radii)\n",
    "    df_WC_cc = df_WC[df_WC['Rank'] != 0].copy()\n",
    "    \n",
    "    \n",
    "    df_WC_cc.loc[:,'Color'] = df_WC_cc['Rank'].map(lambda x: RankToColors(x))\n",
    "    \n",
    "    df_WC_cc.sort_values(by=\"Resource\", inplace=True, ascending=False)\n",
    "    \n",
    "    \n",
    "    \n",
    "\n",
    "    fig, ax = plt.subplots(figsize=figsize)    \n",
    "\n",
    "    ax.bar(df_WC_cc['Well Concept'], df_WC_cc['Resource'], color=df_WC_cc['Color'])\n",
    "\n",
    "    ax.set_xlabel(\"Well Concept Name\")\n",
    "    ax.set_ylabel(\"Resource\")\n",
    "    plt.show()\n",
    "\n",
    "\n",
    "\n",
    "\n"
   ]
  },
  {
   "cell_type": "code",
   "execution_count": null,
   "metadata": {},
   "outputs": [],
   "source": []
  },
  {
   "cell_type": "code",
   "execution_count": null,
   "metadata": {},
   "outputs": [],
   "source": []
  },
  {
   "cell_type": "code",
   "execution_count": null,
   "metadata": {},
   "outputs": [],
   "source": []
  },
  {
   "cell_type": "code",
   "execution_count": null,
   "metadata": {},
   "outputs": [],
   "source": []
  },
  {
   "cell_type": "code",
   "execution_count": null,
   "metadata": {},
   "outputs": [],
   "source": []
  },
  {
   "cell_type": "code",
   "execution_count": 83,
   "metadata": {},
   "outputs": [],
   "source": [
    "userInputs = [widgets.BoundedFloatText(\n",
    "    value=round(region_x_min +(random.random()*(region_x_max-region_x_min)), 2 ),\n",
    "    min=region_x_min,\n",
    "    max=region_x_max,\n",
    "    step=0.01,\n",
    "    description='X:',\n",
    "    disabled=False\n",
    "),\n",
    "widgets.BoundedFloatText(\n",
    "    value=round(region_y_min +(random.random()*(region_y_max-region_y_min)), 2 ),\n",
    "    min=region_y_min,\n",
    "    max=region_y_max,\n",
    "    step=0.01,\n",
    "    description='Y:',\n",
    "    disabled=False\n",
    "),\n",
    "  widgets.BoundedFloatText(\n",
    "    value=0.05,\n",
    "    min=0.01,\n",
    "    max=100,\n",
    "    step=0.01,\n",
    "    description='Radius:',\n",
    "    disabled=False\n",
    ")]\n",
    "\n"
   ]
  },
  {
   "cell_type": "code",
   "execution_count": null,
   "metadata": {},
   "outputs": [],
   "source": []
  },
  {
   "cell_type": "code",
   "execution_count": 84,
   "metadata": {
    "scrolled": false
   },
   "outputs": [
    {
     "data": {
      "application/vnd.jupyter.widget-view+json": {
       "model_id": "51c8d395fce246baa896cefd294925a0",
       "version_major": 2,
       "version_minor": 0
      },
      "text/plain": [
       "Box(children=(BoundedFloatText(value=-60.5, description='X:', max=-59.98, min=-60.62, step=0.01), BoundedFloat…"
      ]
     },
     "metadata": {},
     "output_type": "display_data"
    },
    {
     "data": {
      "application/vnd.jupyter.widget-view+json": {
       "model_id": "4ab084e1c61f416db7565832555ebf08",
       "version_major": 2,
       "version_minor": 0
      },
      "text/plain": [
       "Button(button_style='success', description='click me', icon='refresh', layout=Layout(width='300px'), style=But…"
      ]
     },
     "metadata": {},
     "output_type": "display_data"
    }
   ],
   "source": [
    "#%matplotlib inline \n",
    "from IPython.display import display\n",
    "\n",
    "output = widgets.Output(layout={'border': '1px solid black'})\n",
    "\n",
    "\n",
    "def on_button_clicked(event):\n",
    "    output.clear_output()\n",
    "\n",
    "    with output:\n",
    "        plat_x = userInputs[0].value\n",
    "        plat_y = userInputs[1].value\n",
    "        radius = userInputs[2].value\n",
    "        plot_WC_Platform(WC_points, WC_name, WC_resource,plat_x,plat_y,\"platform\", radius,radius*1.3, (12,10))\n",
    "        CreamMe(plat_x, plat_y, radius,radius*1.3, (5,5))\n",
    "    \n",
    "        print(\"Button clicked.\")        \n",
    "        \n",
    "button = widgets.Button(\n",
    "    description='click me',\n",
    "    layout={'width': '300px'},\n",
    "    button_style='success', \n",
    "    tooltip='Run',\n",
    "    icon='refresh'\n",
    ")\n",
    "\n",
    "display(widgets.Box(userInputs), button)\n",
    "\n",
    "\n",
    "button.on_click(on_button_clicked)\n"
   ]
  },
  {
   "cell_type": "code",
   "execution_count": 85,
   "metadata": {},
   "outputs": [
    {
     "data": {
      "application/vnd.jupyter.widget-view+json": {
       "model_id": "a8bd47e4bce34062aaeacad9158990eb",
       "version_major": 2,
       "version_minor": 0
      },
      "text/plain": [
       "Output(layout=Layout(border='1px solid black'))"
      ]
     },
     "metadata": {},
     "output_type": "display_data"
    }
   ],
   "source": [
    "output"
   ]
  },
  {
   "cell_type": "code",
   "execution_count": null,
   "metadata": {},
   "outputs": [],
   "source": []
  },
  {
   "cell_type": "code",
   "execution_count": null,
   "metadata": {},
   "outputs": [],
   "source": []
  },
  {
   "cell_type": "code",
   "execution_count": null,
   "metadata": {},
   "outputs": [],
   "source": []
  }
 ],
 "metadata": {
  "kernelspec": {
   "display_name": "Python 3",
   "language": "python",
   "name": "python3"
  },
  "language_info": {
   "codemirror_mode": {
    "name": "ipython",
    "version": 3
   },
   "file_extension": ".py",
   "mimetype": "text/x-python",
   "name": "python",
   "nbconvert_exporter": "python",
   "pygments_lexer": "ipython3",
   "version": "3.6.9"
  }
 },
 "nbformat": 4,
 "nbformat_minor": 2
}
