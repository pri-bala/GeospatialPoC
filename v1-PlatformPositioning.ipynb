{
 "cells": [
  {
   "cell_type": "markdown",
   "metadata": {},
   "source": [
    "# Platform Positioning"
   ]
  },
  {
   "cell_type": "code",
   "execution_count": 1,
   "metadata": {},
   "outputs": [],
   "source": [
    "from __future__ import print_function"
   ]
  },
  {
   "cell_type": "code",
   "execution_count": 2,
   "metadata": {},
   "outputs": [],
   "source": [
    "import random as random\n",
    "import numpy as np\n",
    "import pandas as pd\n",
    "from matplotlib import pyplot as plt\n",
    "\n",
    "from ipywidgets import interact, interactive, fixed, interact_manual\n",
    "import ipywidgets as widgets\n",
    "\n",
    "from sklearn.metrics import euclidean_distances"
   ]
  },
  {
   "cell_type": "markdown",
   "metadata": {},
   "source": [
    "###  Generate Well Concept Data"
   ]
  },
  {
   "cell_type": "code",
   "execution_count": 3,
   "metadata": {},
   "outputs": [],
   "source": [
    "from dummydatacreator import  GenerateWellConcept # This is not supported in Azure notebooks"
   ]
  },
  {
   "cell_type": "code",
   "execution_count": 4,
   "metadata": {
    "scrolled": true
   },
   "outputs": [],
   "source": [
    "num_of_concepts = 30\n",
    "\n",
    "region_x_min = -60.62\n",
    "region_x_max = -59.98\n",
    "region_y_min = 9.87\n",
    "region_y_max = 10.45\n",
    "WellConcepts = [GenerateWellConcept(region_x_min, region_x_max, region_y_min, region_y_max) for i in range(num_of_concepts)]"
   ]
  },
  {
   "cell_type": "code",
   "execution_count": 5,
   "metadata": {
    "scrolled": true
   },
   "outputs": [],
   "source": [
    "WC_name, WC_points, WC_resource = list(zip(*WellConcepts))"
   ]
  },
  {
   "cell_type": "code",
   "execution_count": 6,
   "metadata": {},
   "outputs": [
    {
     "name": "stdout",
     "output_type": "stream",
     "text": [
      "['Dd-14', [-60.47991285152941, 10.041231255941554], 8.947266516840983]\n"
     ]
    }
   ],
   "source": [
    "print(WellConcepts[0])"
   ]
  },
  {
   "cell_type": "markdown",
   "metadata": {},
   "source": [
    "### Well Concept / Platform Intersection"
   ]
  },
  {
   "cell_type": "code",
   "execution_count": 7,
   "metadata": {},
   "outputs": [
    {
     "name": "stdout",
     "output_type": "stream",
     "text": [
      "False\n"
     ]
    }
   ],
   "source": [
    "def ArePointsCloseTogether(pointA, pointB, distance):\n",
    "    return (euclidean_distances([pointA], [pointB]) <= distance)[0][0]\n",
    "\n",
    "print(ArePointsCloseTogether([10,2], [0,0], 10))"
   ]
  },
  {
   "cell_type": "code",
   "execution_count": 8,
   "metadata": {},
   "outputs": [],
   "source": [
    "def AreWCsCloseToPlatforom(WellConceptsXY, PlatformXY, distance):    \n",
    "    return [ArePointsCloseTogether(wcXY, PlatformXY, distance) for wcXY in WellConceptsXY]"
   ]
  },
  {
   "cell_type": "code",
   "execution_count": 115,
   "metadata": {},
   "outputs": [],
   "source": [
    "def CalculateRankOfWCs(WC, plat, radii):\n",
    "    '''Well Concepts are ranked according to binned distance from platform\n",
    "\n",
    "    '''\n",
    "    radii = np.sort(radii)\n",
    "    num_radii = len(radii)\n",
    "\n",
    "    #calculate distances of all well concepts from platform \n",
    "    distances = euclidean_distances(WC, [plat])\n",
    "    distances = np.reshape(distances,[-1])\n",
    "\n",
    "    #Reverse ranking - where 0 is closest to platform\n",
    "    revranks = np.digitize(distances, radii, right = False) #i.e. includes left bound = 0\n",
    "\n",
    "    # Ranking - where 0 is furthest from platform\n",
    "    ranking = [num_radii - revrank for revrank in revranks]\n",
    "    \n",
    "    return ranking"
   ]
  },
  {
   "cell_type": "code",
   "execution_count": 134,
   "metadata": {},
   "outputs": [],
   "source": [
    "def RankToColors(WC_rank):\n",
    "    dct_colors = {0: None,\n",
    "              1:\"#FF8000\",\n",
    "              2:\"#00CC00\"}\n",
    "    return dct_colors[WC_rank]"
   ]
  },
  {
   "cell_type": "markdown",
   "metadata": {},
   "source": [
    "## Plotting"
   ]
  },
  {
   "cell_type": "code",
   "execution_count": 178,
   "metadata": {},
   "outputs": [],
   "source": [
    "def plot_WC_Platform(WC_XY,WC_name, WC_res: np.array, plat_x, plat_y, plat_name, innerradius, outerradius, figsize):\n",
    "\n",
    "    '''\n",
    "    Plots Well Concepts and Platforms in Euclidean geometry\n",
    "    '''\n",
    "    \n",
    "    \n",
    "    #Unpack XY coordinates\n",
    "    WC_x = [XY[0]for XY in WC_points] \n",
    "    WC_y = [XY[1]for XY in WC_points]\n",
    "    \n",
    "\n",
    "    fig, ax = plt.subplots(figsize=figsize)\n",
    "\n",
    "    \n",
    "    platform_radius = plt.Circle((plat_x, plat_y), radius = outerradius,fill=True,color='#FF8000', zorder=0 )\n",
    "    ax.add_artist(platform_radius)\n",
    "    \n",
    "    platform_radius = plt.Circle((plat_x, plat_y), radius = innerradius,fill=True,color='#00CC00', zorder=1 )\n",
    "    ax.add_artist(platform_radius)\n",
    "    \n",
    "    ax.scatter(plat_x, plat_y, marker = 'x', s=1000, zorder=2 )\n",
    "   \n",
    "\n",
    "    #Optional - no color desired as it was not clear\n",
    "    #scatter = ax.scatter(WC_x, WC_y, c = WC_res, cmap=\"winter\", s=100, label=WC_res, zorder=2)\n",
    "\n",
    "    scatter = ax.scatter(WC_x, WC_y, c=\"#D3D3D3\", s=100, label=WC_res, zorder=2)\n",
    "\n",
    "        \n",
    "    fig.colorbar(scatter, ax=ax)\n",
    "\n",
    "    #Well concept labels\n",
    "    for i, x in enumerate(WC_x):\n",
    "        ax.annotate(WC_name[i], ([WC_x[i], WC_y[i]]), zorder=2)\n",
    "\n",
    "    ax.annotate(plat_name, (plat_x, plat_y))\n",
    "    plt.show()"
   ]
  },
  {
   "cell_type": "code",
   "execution_count": null,
   "metadata": {},
   "outputs": [],
   "source": []
  },
  {
   "cell_type": "code",
   "execution_count": null,
   "metadata": {},
   "outputs": [],
   "source": []
  },
  {
   "cell_type": "code",
   "execution_count": 179,
   "metadata": {},
   "outputs": [],
   "source": [
    "def CreamMe(plat_x, plat_y, innerradius, outerradius, figsize):\n",
    "    \n",
    "    \n",
    "    #Subset the WCs to only those which are on the creaming curve\n",
    "    WC_rank = CalculateRankOfWCs(WC_points,[plat_x,plat_y],[0, innerradius,outerradius])\n",
    "\n",
    "    #Construct dataframe of all well concepts\n",
    "    df_WC = pd.DataFrame({\"Well Concept\": WC_name,\"Resource\": WC_resource, \"Rank\":WC_rank})\n",
    "    \n",
    "    #Reduce to df of well concepts on Creaming Curve (i.e. within the radii)\n",
    "    df_WC_cc = df_WC[df_WC['Rank'] != 0].copy()\n",
    "    \n",
    "    \n",
    "    df_WC_cc.loc[:,'Color'] = df_WC_cc['Rank'].map(lambda x: RankToColors(x))\n",
    "    \n",
    "    df_WC_cc.sort_values(by=\"Resource\", inplace=True, ascending=False)\n",
    "    \n",
    "    \n",
    "    \n",
    "\n",
    "    fig, ax = plt.subplots(figsize=figsize)    \n",
    "\n",
    "    ax.bar(df_WC_cc['Well Concept'], df_WC_cc['Resource'], color=df_WC_cc['Color'])\n",
    "\n",
    "    ax.set_xlabel(\"Well Concept Name\")\n",
    "    ax.set_ylabel(\"Resource\")\n",
    "    plt.show()\n",
    "\n",
    "\n",
    "\n",
    "\n"
   ]
  },
  {
   "cell_type": "code",
   "execution_count": null,
   "metadata": {},
   "outputs": [],
   "source": []
  },
  {
   "cell_type": "code",
   "execution_count": null,
   "metadata": {},
   "outputs": [],
   "source": []
  },
  {
   "cell_type": "code",
   "execution_count": null,
   "metadata": {},
   "outputs": [],
   "source": []
  },
  {
   "cell_type": "code",
   "execution_count": null,
   "metadata": {},
   "outputs": [],
   "source": []
  },
  {
   "cell_type": "code",
   "execution_count": 180,
   "metadata": {},
   "outputs": [],
   "source": [
    "userInputs = [widgets.BoundedFloatText(\n",
    "    value=round(region_x_min +(random.random()*(region_x_max-region_x_min)), 2 ),\n",
    "    min=region_x_min,\n",
    "    max=region_x_max,\n",
    "    step=0.01,\n",
    "    description='X:',\n",
    "    disabled=False\n",
    "),\n",
    "widgets.BoundedFloatText(\n",
    "    value=round(region_y_min +(random.random()*(region_y_max-region_y_min)), 2 ),\n",
    "    min=region_y_min,\n",
    "    max=region_y_max,\n",
    "    step=0.01,\n",
    "    description='Y:',\n",
    "    disabled=False\n",
    "),\n",
    "  widgets.BoundedFloatText(\n",
    "    value=0.05,\n",
    "    min=0.01,\n",
    "    max=100,\n",
    "    step=0.01,\n",
    "    description='Radius:',\n",
    "    disabled=False\n",
    ")]\n",
    "\n"
   ]
  },
  {
   "cell_type": "code",
   "execution_count": null,
   "metadata": {},
   "outputs": [],
   "source": []
  },
  {
   "cell_type": "code",
   "execution_count": 181,
   "metadata": {
    "scrolled": false
   },
   "outputs": [
    {
     "data": {
      "application/vnd.jupyter.widget-view+json": {
       "model_id": "d9d3b24db3bb4a96a6e5fefcaa1f6e00",
       "version_major": 2,
       "version_minor": 0
      },
      "text/plain": [
       "Box(children=(BoundedFloatText(value=-60.2, description='X:', max=-59.98, min=-60.62, step=0.01), BoundedFloat…"
      ]
     },
     "metadata": {},
     "output_type": "display_data"
    },
    {
     "data": {
      "application/vnd.jupyter.widget-view+json": {
       "model_id": "0a9317fa8b1c4372b1a93c7039566b96",
       "version_major": 2,
       "version_minor": 0
      },
      "text/plain": [
       "Button(button_style='success', description='click me', icon='refresh', layout=Layout(width='300px'), style=But…"
      ]
     },
     "metadata": {},
     "output_type": "display_data"
    }
   ],
   "source": [
    "#%matplotlib inline \n",
    "from IPython.display import display\n",
    "\n",
    "output = widgets.Output(layout={'border': '1px solid black'})\n",
    "\n",
    "\n",
    "def on_button_clicked(event):\n",
    "    output.clear_output()\n",
    "\n",
    "    with output:\n",
    "        plat_x = userInputs[0].value\n",
    "        plat_y = userInputs[1].value\n",
    "        radius = userInputs[2].value\n",
    "        plot_WC_Platform(WC_points, WC_name, WC_resource,plat_x,plat_y,\"platform\", radius,radius*1.3, (12,10))\n",
    "        CreamMe(plat_x, plat_y, radius,radius*1.3, (5,5))\n",
    "    \n",
    "        print(\"Button clicked.\")        \n",
    "        \n",
    "button = widgets.Button(\n",
    "    description='click me',\n",
    "    layout={'width': '300px'},\n",
    "    button_style='success', \n",
    "    tooltip='Run',\n",
    "    icon='refresh'\n",
    ")\n",
    "\n",
    "display(widgets.Box(userInputs), button)\n",
    "\n",
    "\n",
    "button.on_click(on_button_clicked)\n"
   ]
  },
  {
   "cell_type": "code",
   "execution_count": 182,
   "metadata": {},
   "outputs": [
    {
     "data": {
      "application/vnd.jupyter.widget-view+json": {
       "model_id": "4eaae57ff1a0439785c121c0c8469a68",
       "version_major": 2,
       "version_minor": 0
      },
      "text/plain": [
       "Output(layout=Layout(border='1px solid black'))"
      ]
     },
     "metadata": {},
     "output_type": "display_data"
    }
   ],
   "source": [
    "output"
   ]
  },
  {
   "cell_type": "code",
   "execution_count": null,
   "metadata": {},
   "outputs": [],
   "source": []
  },
  {
   "cell_type": "code",
   "execution_count": null,
   "metadata": {},
   "outputs": [],
   "source": []
  },
  {
   "cell_type": "code",
   "execution_count": null,
   "metadata": {},
   "outputs": [],
   "source": []
  }
 ],
 "metadata": {
  "kernelspec": {
   "display_name": "Python 3",
   "language": "python",
   "name": "python3"
  },
  "language_info": {
   "codemirror_mode": {
    "name": "ipython",
    "version": 3
   },
   "file_extension": ".py",
   "mimetype": "text/x-python",
   "name": "python",
   "nbconvert_exporter": "python",
   "pygments_lexer": "ipython3",
   "version": "3.6.9"
  }
 },
 "nbformat": 4,
 "nbformat_minor": 2
}
